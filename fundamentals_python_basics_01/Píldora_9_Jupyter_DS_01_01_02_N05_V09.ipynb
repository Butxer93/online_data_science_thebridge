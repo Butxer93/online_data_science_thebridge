{
  "cells": [
    {
      "cell_type": "markdown",
      "metadata": {
        "id": "NIlRlJkEqTUK"
      },
      "source": [
        "<img src = \"../img/TheBridge_logo.png\" width = 500>\n",
        "<img src = \"../img/python.jpg\" width = 500>"
      ]
    },
    {
      "cell_type": "markdown",
      "metadata": {
        "id": "GcG1uDXBqTUN"
      },
      "source": [
        "# Python Basics I"
      ]
    },
    {
      "cell_type": "markdown",
      "metadata": {
        "id": "qWzSLsUKqTUO"
      },
      "source": [
        "# Contenidos"
      ]
    },
    {
      "cell_type": "markdown",
      "metadata": {
        "id": "gA4MDUPwqTUO"
      },
      "source": [
        "* [Operaciones aritméticas\n",
        "](#Operaciones-aritméticas\n",
        ")\n",
        "\n",
        "* [Operaciones comparativas\n",
        "](#Operaciones-comparativas\n",
        ")\n",
        "\n"
      ]
    },
    {
      "cell_type": "markdown",
      "metadata": {
        "id": "YoLTg53tqTUP"
      },
      "source": [
        "## Operaciones aritméticas\n",
        "[al indice](#Contenidos)  \n",
        "\n",
        "Hace un par de sesiones ya vimos por encima las principales operaciones aritméticas en Python. Las recordamos:\n",
        "* Sumar: `+`\n",
        "* Restar: `-`\n",
        "* Multiplicar: `*`\n",
        "* Dividir: `/`\n",
        "* Elevar: `**`\n",
        "* Cociente division: `//`\n",
        "* Resto de la división: `%`"
      ]
    },
    {
      "cell_type": "code",
      "execution_count": 1,
      "metadata": {
        "colab": {
          "base_uri": "https://localhost:8080/"
        },
        "id": "xA9RNQ5yqTUP",
        "outputId": "3375950e-deec-4f5e-d485-6e57c1b5b514"
      },
      "outputs": [
        {
          "name": "stdout",
          "output_type": "stream",
          "text": [
            "17.34\n",
            "<class 'float'>\n",
            "61.7\n",
            "421978042.82945716 <class 'float'>\n",
            "0.4051863857374392 \n",
            " 0.0 \n",
            " 5.0\n"
          ]
        }
      ],
      "source": [
        "# Declarar y asignar una variable entera\n",
        "entero = 5\n",
        "# Declarar y asignar una variable real o float\n",
        "real = 12.34\n",
        "# Sumar las variables y mostrar el resultado\n",
        "suma_vars = entero + real\n",
        "print(suma_vars)\n",
        "# Mostrar de qué tipo es el resultado\n",
        "print(type(suma_vars))\n",
        "# Multiplicar ambas variables y mostrar el resultado\n",
        "multiplica_vars = entero * real\n",
        "print(multiplica_vars), type(multiplica_vars)\n",
        "# Elevar una a la otr\n",
        "potencia = entero ** real\n",
        "print(potencia, type(potencia))\n",
        "# Dividir una por otra y mostrar además el resto y el cociente\n",
        "division_vars = entero / real\n",
        "cociente = entero // real\n",
        "resto = entero % real\n",
        "print(division_vars,\"\\n\",cociente,\"\\n\",resto)"
      ]
    },
    {
      "cell_type": "code",
      "execution_count": null,
      "metadata": {
        "id": "FsRcb_ITqTUQ"
      },
      "outputs": [],
      "source": []
    },
    {
      "cell_type": "markdown",
      "metadata": {
        "id": "H2NMfTocqTUQ"
      },
      "source": [
        "### Propiedad conmutativa, asociativa, distributiva y el paréntesis\n",
        "Si queremos concatenar varias operaciones, ten siempre en cuenta las propiedades matemáticas de la multiplicación"
      ]
    },
    {
      "cell_type": "code",
      "execution_count": 2,
      "metadata": {
        "colab": {
          "base_uri": "https://localhost:8080/"
        },
        "id": "5I1WZY4xqTUR",
        "outputId": "93fa34fb-3c04-44ff-e94a-fd5525c1292f"
      },
      "outputs": [
        {
          "name": "stdout",
          "output_type": "stream",
          "text": [
            "Conmutativa\n",
            "6\n",
            "6\n",
            "\n",
            "Asociativa\n",
            "30\n",
            "30\n",
            "\n",
            "Distributiva\n",
            "16\n",
            "16\n",
            "\n",
            "El Orden de operaciones se mantiene. Siempre podemos usar paréntesis\n",
            "50\n",
            "1.7272727272727273\n"
          ]
        }
      ],
      "source": [
        "print(\"Conmutativa\")\n",
        "print(2 * 3)\n",
        "print(3 * 2)\n",
        "\n",
        "print(\"\\nAsociativa\") # Recuerda que \"\\n\" se usa para que haya un salto de linea en el output.\n",
        "print((3 * 2) * 5)\n",
        "print(3 * (2 * 5))\n",
        "\n",
        "print(\"\\nDistributiva\")\n",
        "print(2 * (3 + 5))\n",
        "print(2 * 3 + 2 * 5)\n",
        "\n",
        "print(\"\\nEl Orden de operaciones se mantiene. Siempre podemos usar paréntesis\")\n",
        "print(2 * (2 + 3) * 5)\n",
        "print((2 * 2 + 3 * 5)/(4 + 7))"
      ]
    },
    {
      "cell_type": "markdown",
      "metadata": {
        "id": "8XqWGztGqTUR"
      },
      "source": [
        "### Operaciones más complejas\n",
        "Si salimos de las operaciones básicas de Python, tendremos que importar módulos con más funcionalidades en nuestro código. Esto lo haremos mediante la sentencia `import math`. `math` es un módulo con funciones ya predefinidas, que no vienen por defecto en el núcleo de Python. De esta forma será posible hacer cálculos más complejos como:\n",
        "\n",
        "* Raíz cuadrada\n",
        "* Seno/Coseno\n",
        "* Valor absoluto\n",
        "*...\n",
        "\n",
        "El módulo es completísimo y si estás buscando alguna operación matemática, lo más seguro es que ya esté implementada. Te dejo por aquí el [link a la documentación del módulo.](https://docs.python.org/3/library/math.html)."
      ]
    },
    {
      "cell_type": "code",
      "execution_count": 4,
      "metadata": {
        "colab": {
          "base_uri": "https://localhost:8080/"
        },
        "id": "IqPOKJdFqTUR",
        "outputId": "bd6be5fa-84a3-4ce9-8acd-bc1038e2bf6c"
      },
      "outputs": [
        {
          "name": "stdout",
          "output_type": "stream",
          "text": [
            "5.0\n",
            "1.0\n",
            "123.45\n"
          ]
        }
      ],
      "source": [
        "import math\n",
        "print(math.sqrt(25))\n",
        "print(math.cos(0))\n",
        "print(math.fabs(-123.45)) # abs"
      ]
    },
    {
      "cell_type": "markdown",
      "metadata": {
        "id": "nfhd9L1pqTUR"
      },
      "source": [
        "Como en todos los lenguajes de programación, suele haber una serie de componentes básicos (variables, operaciones aritméticas, tipos de datos...) con los que podemos hacer muchas cosas. Ahora bien, si queremos ampliar esas funcionalidades, se suelen importar nuevos módulos, con funciones ya hechas de otros usuarios, como en el caso del módulo `math`. Veremos esto de los módulos más adelante."
      ]
    },
    {
      "cell_type": "markdown",
      "metadata": {
        "id": "iOo1Lx4FqTUS"
      },
      "source": [
        "<table align=\"left\">\n",
        " <tr><td width=\"80\"><img src=\"../img/error.png\" style=\"width:auto;height:auto\"></td>\n",
        "     <td style=\"text-align:left\">\n",
        "         <h3>ERRORES Dividir por cero</h3>\n",
        "         \n",
        " </td></tr>\n",
        "</table>"
      ]
    },
    {
      "cell_type": "markdown",
      "metadata": {
        "id": "P-jEMqwdqTUS"
      },
      "source": [
        "Cuidado cuando operamos con 0s. Las indeterminaciones y valores infinitos suponen errores en el código. Por suerte, la descripción de estos errores es bastante explícita, obteniendo un error de tipo `ZeroDivisionError`"
      ]
    },
    {
      "cell_type": "code",
      "execution_count": 5,
      "metadata": {
        "colab": {
          "base_uri": "https://localhost:8080/",
          "height": 141
        },
        "id": "msoQrszZqTUS",
        "outputId": "4ce7a11d-f246-4ca7-80b9-e710c307600a"
      },
      "outputs": [
        {
          "ename": "ZeroDivisionError",
          "evalue": "division by zero",
          "output_type": "error",
          "traceback": [
            "\u001b[0;31m---------------------------------------------------------------------------\u001b[0m",
            "\u001b[0;31mZeroDivisionError\u001b[0m                         Traceback (most recent call last)",
            "\u001b[0;32m<ipython-input-5-221068dc2815>\u001b[0m in \u001b[0;36m<cell line: 0>\u001b[0;34m()\u001b[0m\n\u001b[0;32m----> 1\u001b[0;31m \u001b[0;36m4\u001b[0m\u001b[0;34m/\u001b[0m\u001b[0;36m0\u001b[0m\u001b[0;34m\u001b[0m\u001b[0;34m\u001b[0m\u001b[0m\n\u001b[0m",
            "\u001b[0;31mZeroDivisionError\u001b[0m: division by zero"
          ]
        }
      ],
      "source": [
        "4/0"
      ]
    },
    {
      "cell_type": "code",
      "execution_count": null,
      "metadata": {
        "id": "d0C4CVeIqTUS"
      },
      "outputs": [],
      "source": [
        "# Hay valores que se salen del dominio de algunas funciones matemáticas,\n",
        "# como es el caso de las raices de números negativos\n"
      ]
    },
    {
      "cell_type": "code",
      "execution_count": 6,
      "metadata": {
        "colab": {
          "base_uri": "https://localhost:8080/",
          "height": 141
        },
        "id": "rsHsAQnEqTUS",
        "outputId": "dded6c6d-c752-42d3-e3cc-b6176355b7eb"
      },
      "outputs": [
        {
          "ename": "ValueError",
          "evalue": "math domain error",
          "output_type": "error",
          "traceback": [
            "\u001b[0;31m---------------------------------------------------------------------------\u001b[0m",
            "\u001b[0;31mValueError\u001b[0m                                Traceback (most recent call last)",
            "\u001b[0;32m<ipython-input-6-10104accf0c0>\u001b[0m in \u001b[0;36m<cell line: 0>\u001b[0;34m()\u001b[0m\n\u001b[0;32m----> 1\u001b[0;31m \u001b[0mmath\u001b[0m\u001b[0;34m.\u001b[0m\u001b[0msqrt\u001b[0m\u001b[0;34m(\u001b[0m\u001b[0;34m-\u001b[0m\u001b[0;36m12\u001b[0m\u001b[0;34m)\u001b[0m\u001b[0;34m\u001b[0m\u001b[0;34m\u001b[0m\u001b[0m\n\u001b[0m",
            "\u001b[0;31mValueError\u001b[0m: math domain error"
          ]
        }
      ],
      "source": [
        "math.sqrt(-12)"
      ]
    },
    {
      "cell_type": "markdown",
      "metadata": {
        "id": "SqX6oPP2qTUS"
      },
      "source": [
        "## Operaciones comparativas\n",
        "[al indice](#Contenidos)  \n",
        "\n",
        "Es bastante intuitivo comparar valores en Python. La sintaxis es la siguiente:\n",
        "* `==`: Igualdad. No es un `=`. Hay que diferenciar entre una comparativa, y una asignación de valores\n",
        "* `!=`: Desigualdad\n",
        "* `>`: Mayor que\n",
        "* `<`: Menor que\n",
        "* `>=`: Mayor o igual que\n",
        "* `<=`: Menor o igual que"
      ]
    },
    {
      "cell_type": "markdown",
      "metadata": {
        "id": "6n_iopkeqTUS"
      },
      "source": [
        "En la asignación estamos diciendole a Python que la variable `asign` vale 1, mientras que en la comparación, estamos preguntando a Python si `a` equivale a 5. Como vale 1, nos devuelve un `False`"
      ]
    },
    {
      "cell_type": "code",
      "execution_count": 9,
      "metadata": {
        "colab": {
          "base_uri": "https://localhost:8080/"
        },
        "id": "Ys8m5KtLqTUT",
        "outputId": "5bb30c03-2e44-4f4d-f527-7d45b9359705"
      },
      "outputs": [
        {
          "name": "stdout",
          "output_type": "stream",
          "text": [
            "1\n",
            "False\n",
            "1\n"
          ]
        }
      ],
      "source": [
        "# asignacion\n",
        "asign = 1\n",
        "print(asign)\n",
        "\n",
        "# comparacion\n",
        "print(asign == 5)\n",
        "print(asign)"
      ]
    },
    {
      "cell_type": "markdown",
      "metadata": {
        "id": "9xBHw5zWqTUT"
      },
      "source": [
        "Veamos otros ejemplos de comparaciones"
      ]
    },
    {
      "cell_type": "code",
      "execution_count": 10,
      "metadata": {
        "colab": {
          "base_uri": "https://localhost:8080/"
        },
        "id": "3dRBtQvzqTUT",
        "outputId": "c4c20d3f-2b16-49d4-8f7f-f881e4b4bd86"
      },
      "outputs": [
        {
          "name": "stdout",
          "output_type": "stream",
          "text": [
            "False\n",
            "True\n",
            "True\n",
            "True\n",
            "False\n"
          ]
        }
      ],
      "source": [
        "print(\"AAA\" == \"BBB\")\n",
        "print(\"AAA\" == \"AAA\")\n",
        "print(53 > 12)\n",
        "print(1 == 1.0)\n",
        "print(93 <= 12)"
      ]
    },
    {
      "cell_type": "markdown",
      "metadata": {
        "id": "LxKgxtUcqTUT"
      },
      "source": [
        "<table align=\"left\">\n",
        " <tr><td width=\"80\"><img src=\"../img/error.png\" style=\"width:auto;height:auto\"></td>\n",
        "     <td style=\"text-align:left\">\n",
        "         <h3>ERRORES en comparativas</h3>\n",
        "         \n",
        " </td></tr>\n",
        "</table>"
      ]
    },
    {
      "cell_type": "markdown",
      "metadata": {
        "id": "vCQT7SrWqTUT"
      },
      "source": [
        "Este tipo de errores son muy comunes, pues es muy habitual comparar peras con manzanas. Cuando se trata de una igualdad (`==`), no suele haber problemas, ya que si las variables son de distinto tipo, simplemente es `False`. Lo ideal sería que Python nos avisase de estas cosas porque realmente lo estamos haciendo mal, no estamos comparando cosas del mismo tipo"
      ]
    },
    {
      "cell_type": "code",
      "execution_count": 12,
      "metadata": {
        "colab": {
          "base_uri": "https://localhost:8080/"
        },
        "id": "18z-_FODqTUT",
        "outputId": "67ba059e-bac3-4fd8-f3f7-00c25dfcdd88"
      },
      "outputs": [
        {
          "name": "stdout",
          "output_type": "stream",
          "text": [
            "False\n",
            "False\n"
          ]
        }
      ],
      "source": [
        "print(1 == \"1\")\n",
        "print(\"Hola\" == True)"
      ]
    },
    {
      "cell_type": "code",
      "execution_count": null,
      "metadata": {
        "id": "nVmas-PFqTUT"
      },
      "outputs": [],
      "source": [
        "# Obtenemos un TypeError cuando la comparativa es de > o <\n"
      ]
    },
    {
      "cell_type": "code",
      "execution_count": 14,
      "metadata": {
        "colab": {
          "base_uri": "https://localhost:8080/",
          "height": 141
        },
        "id": "PjBzXy5XqTUT",
        "outputId": "065d8a67-0eff-4449-9f29-6e496f8e95c0"
      },
      "outputs": [
        {
          "ename": "TypeError",
          "evalue": "'>=' not supported between instances of 'str' and 'int'",
          "output_type": "error",
          "traceback": [
            "\u001b[0;31m---------------------------------------------------------------------------\u001b[0m",
            "\u001b[0;31mTypeError\u001b[0m                                 Traceback (most recent call last)",
            "\u001b[0;32m<ipython-input-14-9a39518c5cc1>\u001b[0m in \u001b[0;36m<cell line: 0>\u001b[0;34m()\u001b[0m\n\u001b[0;32m----> 1\u001b[0;31m \u001b[0mprint\u001b[0m\u001b[0;34m(\u001b[0m\u001b[0;34m\"17\"\u001b[0m \u001b[0;34m>=\u001b[0m \u001b[0;36m13\u001b[0m\u001b[0;34m)\u001b[0m\u001b[0;34m\u001b[0m\u001b[0;34m\u001b[0m\u001b[0m\n\u001b[0m",
            "\u001b[0;31mTypeError\u001b[0m: '>=' not supported between instances of 'str' and 'int'"
          ]
        }
      ],
      "source": [
        "print(\"17\" >= 13)"
      ]
    },
    {
      "cell_type": "code",
      "execution_count": null,
      "metadata": {
        "id": "fufNA1yQqTUT"
      },
      "outputs": [],
      "source": []
    }
  ],
  "metadata": {
    "colab": {
      "provenance": []
    },
    "kernelspec": {
      "display_name": "Python 3",
      "language": "python",
      "name": "python3"
    },
    "language_info": {
      "codemirror_mode": {
        "name": "ipython",
        "version": 3
      },
      "file_extension": ".py",
      "mimetype": "text/x-python",
      "name": "python",
      "nbconvert_exporter": "python",
      "pygments_lexer": "ipython3",
      "version": "3.8.3"
    }
  },
  "nbformat": 4,
  "nbformat_minor": 0
}
