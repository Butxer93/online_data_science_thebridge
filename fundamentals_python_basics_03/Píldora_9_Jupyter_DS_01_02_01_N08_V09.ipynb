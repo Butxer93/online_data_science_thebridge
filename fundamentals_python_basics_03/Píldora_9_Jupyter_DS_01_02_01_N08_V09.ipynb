{
  "cells": [
    {
      "cell_type": "markdown",
      "metadata": {
        "id": "ep-3n7tL-s_H"
      },
      "source": [
        "![TheBridge_logo.png](../img/TheBridge_logo.png)  \n",
        "![Python.jpg](../img/python.jpg)"
      ]
    },
    {
      "cell_type": "markdown",
      "metadata": {
        "id": "hE-7K4Mk-s_K"
      },
      "source": [
        "##  Argumentos variables\n"
      ]
    },
    {
      "cell_type": "markdown",
      "metadata": {
        "id": "Fx6oSJsZ-s_K"
      },
      "source": [
        "### Contenidos\n"
      ]
    },
    {
      "cell_type": "markdown",
      "metadata": {
        "id": "DbpgpZ79-s_L"
      },
      "source": [
        "* [Introducción  ](#Introducción--)\n"
      ]
    },
    {
      "cell_type": "markdown",
      "metadata": {
        "id": "uBxzZ4jL-s_L"
      },
      "source": [
        "### Introducción  \n",
        "[al indice](#Contenidos)  \n",
        "En los ejemplos de la sesión anterior teníamos que fijar un número concreto de argumentos para nuestras funciones, pero hay ocasiones que no tenemos seguro cuántos argumentos son. Por suerte, las funciones de Python nos aportan esa flexibilidad mediante `*`\n",
        "\n",
        "Veamos cómo implementar una función multiplicadora con numero variable de argumentos"
      ]
    },
    {
      "cell_type": "code",
      "execution_count": 4,
      "metadata": {
        "id": "UgnwUUjk-s_L"
      },
      "outputs": [
        {
          "name": "stdout",
          "output_type": "stream",
          "text": [
            "(2, 3, 5)\n",
            "<class 'tuple'>\n",
            "(1, 2, 4, 67, 4)\n",
            "<class 'tuple'>\n"
          ]
        }
      ],
      "source": [
        "def multiplica(*argumentos):\n",
        "    print(argumentos)\n",
        "    print(type(argumentos))\n",
        "\n",
        "multiplica(2, 3, 5)\n",
        "multiplica(1, 2, 4, 67, 4)"
      ]
    },
    {
      "cell_type": "code",
      "execution_count": 6,
      "metadata": {},
      "outputs": [
        {
          "name": "stdout",
          "output_type": "stream",
          "text": [
            "El siguiente elemento es:  2\n",
            "El siguiente elemento es:  3\n",
            "El siguiente elemento es:  5\n",
            "El resultado es:  30\n",
            "El resultado es:  1\n",
            "El siguiente elemento es:  23\n",
            "El siguiente elemento es:  12\n",
            "El resultado es:  276\n"
          ]
        },
        {
          "data": {
            "text/plain": [
              "276"
            ]
          },
          "execution_count": 6,
          "metadata": {},
          "output_type": "execute_result"
        }
      ],
      "source": [
        "def multiplica(*args):\n",
        "    resultado = 1\n",
        "    for indice, elemento in enumerate(args):\n",
        "        print(\"El siguiente elemento es: \", args[indice])\n",
        "        resultado = resultado * elemento\n",
        "    print(\"El resultado es: \",resultado)\n",
        "    return resultado\n",
        "\n",
        "multiplica(2, 3, 5)\n",
        "multiplica()\n",
        "multiplica(23, 12)"
      ]
    },
    {
      "cell_type": "markdown",
      "metadata": {
        "id": "7NOjfnIL-s_M"
      },
      "source": [
        "Ten en cuenta que `*args` es algo variable con X elementos. Como no sabemos a priori cuantos son, tendremos que recorrerlos con un `for`, y para cada argumento, aplicarle una operación. Por tanto, `*args` es un iterable, en concreto una **tupla**. Lo que le está dando la funcionalidad de \"argumentos variables\" es `*`, no `args`. Igual que ponemos `*args`, podemos poner `*argumentos`.\n",
        "\n",
        "Puedes combinar argumentos posicionales con los `*args`"
      ]
    },
    {
      "cell_type": "code",
      "execution_count": 7,
      "metadata": {
        "id": "5R6VwECU-s_M"
      },
      "outputs": [
        {
          "ename": "TypeError",
          "evalue": "multiplica_divide() missing 1 required keyword-only argument: 'div'",
          "output_type": "error",
          "traceback": [
            "\u001b[31m---------------------------------------------------------------------------\u001b[39m",
            "\u001b[31mTypeError\u001b[39m                                 Traceback (most recent call last)",
            "\u001b[36mCell\u001b[39m\u001b[36m \u001b[39m\u001b[32mIn[7]\u001b[39m\u001b[32m, line 9\u001b[39m\n\u001b[32m      6\u001b[39m     resultado = resultado / div\n\u001b[32m      7\u001b[39m     \u001b[38;5;28;01mreturn\u001b[39;00m resultado\n\u001b[32m----> \u001b[39m\u001b[32m9\u001b[39m \u001b[43mmultiplica_divide\u001b[49m\u001b[43m(\u001b[49m\u001b[32;43m10\u001b[39;49m\u001b[43m,\u001b[49m\u001b[43m \u001b[49m\u001b[32;43m34\u001b[39;49m\u001b[43m,\u001b[49m\u001b[43m \u001b[49m\u001b[32;43m21\u001b[39;49m\u001b[43m,\u001b[49m\u001b[43m \u001b[49m\u001b[32;43m5\u001b[39;49m\u001b[43m)\u001b[49m\n",
            "\u001b[31mTypeError\u001b[39m: multiplica_divide() missing 1 required keyword-only argument: 'div'"
          ]
        }
      ],
      "source": [
        "# En este ejemplo, uso el ultimo argumento para dividir todo lo que habiamos multiplicado por este argumento\n",
        "def multiplica_divide(*args, div):\n",
        "    resultado = 1\n",
        "    for i in args:\n",
        "        resultado = resultado * i\n",
        "    resultado = resultado / div\n",
        "    return resultado\n",
        "\n",
        "multiplica_divide(10, 34, 21, 5)"
      ]
    },
    {
      "cell_type": "code",
      "execution_count": 9,
      "metadata": {},
      "outputs": [
        {
          "data": {
            "text/plain": [
              "1428.0"
            ]
          },
          "execution_count": 9,
          "metadata": {},
          "output_type": "execute_result"
        }
      ],
      "source": [
        "multiplica_divide(10, 34, 21, div =5)"
      ]
    },
    {
      "cell_type": "markdown",
      "metadata": {
        "id": "iWxu3jN5-s_N"
      },
      "source": [
        "<table align=\"left\">\n",
        " <tr><td width=\"80\"><img src=\"../img/error.png\" style=\"width:auto;height:auto\"></td>\n",
        "     <td style=\"text-align:left\">\n",
        "         <h3>ERRORES con argumentos variables</h3>\n",
        "         \n",
        " </td></tr>\n",
        "</table>"
      ]
    },
    {
      "cell_type": "markdown",
      "metadata": {
        "id": "6_8g3fDO-s_N"
      },
      "source": [
        "Declara los argumentos variables al principio, y los fijos al final para evitar errores. Además, si los combinas, tendrás que concretar cuáles son los argumentos fijos"
      ]
    },
    {
      "cell_type": "code",
      "execution_count": 10,
      "metadata": {},
      "outputs": [
        {
          "data": {
            "text/plain": [
              "1428.0"
            ]
          },
          "execution_count": 10,
          "metadata": {},
          "output_type": "execute_result"
        }
      ],
      "source": [
        "def multiplica_divide(div, *args):\n",
        "    resultado = 1\n",
        "    for i in args:\n",
        "        resultado = resultado * i\n",
        "    resultado = resultado / div\n",
        "    return resultado\n",
        "\n",
        "multiplica_divide(5, 10, 34, 21)"
      ]
    },
    {
      "cell_type": "code",
      "execution_count": 11,
      "metadata": {},
      "outputs": [
        {
          "ename": "TypeError",
          "evalue": "multiplica_divide() got multiple values for argument 'div'",
          "output_type": "error",
          "traceback": [
            "\u001b[31m---------------------------------------------------------------------------\u001b[39m",
            "\u001b[31mTypeError\u001b[39m                                 Traceback (most recent call last)",
            "\u001b[36mCell\u001b[39m\u001b[36m \u001b[39m\u001b[32mIn[11]\u001b[39m\u001b[32m, line 1\u001b[39m\n\u001b[32m----> \u001b[39m\u001b[32m1\u001b[39m \u001b[43mmultiplica_divide\u001b[49m\u001b[43m(\u001b[49m\u001b[32;43m10\u001b[39;49m\u001b[43m,\u001b[49m\u001b[43m \u001b[49m\u001b[32;43m34\u001b[39;49m\u001b[43m,\u001b[49m\u001b[43m \u001b[49m\u001b[32;43m21\u001b[39;49m\u001b[43m,\u001b[49m\u001b[43m \u001b[49m\u001b[43mdiv\u001b[49m\u001b[43m \u001b[49m\u001b[43m=\u001b[49m\u001b[32;43m5\u001b[39;49m\u001b[43m)\u001b[49m\n",
            "\u001b[31mTypeError\u001b[39m: multiplica_divide() got multiple values for argument 'div'"
          ]
        }
      ],
      "source": [
        "multiplica_divide(10, 34, 21, div =5)"
      ]
    },
    {
      "cell_type": "code",
      "execution_count": null,
      "metadata": {
        "id": "92CfBvZ9-s_N"
      },
      "outputs": [],
      "source": []
    }
  ],
  "metadata": {
    "colab": {
      "provenance": []
    },
    "kernelspec": {
      "display_name": "Python 3",
      "language": "python",
      "name": "python3"
    },
    "language_info": {
      "codemirror_mode": {
        "name": "ipython",
        "version": 3
      },
      "file_extension": ".py",
      "mimetype": "text/x-python",
      "name": "python",
      "nbconvert_exporter": "python",
      "pygments_lexer": "ipython3",
      "version": "3.13.0"
    }
  },
  "nbformat": 4,
  "nbformat_minor": 0
}
