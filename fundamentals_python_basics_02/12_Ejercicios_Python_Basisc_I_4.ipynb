{
  "cells": [
    {
      "cell_type": "markdown",
      "metadata": {
        "id": "HUP_j2sV-Dvj"
      },
      "source": [
        "![TheBridge_logo.png](../img/TheBridge_logo.png)"
      ]
    },
    {
      "cell_type": "markdown",
      "metadata": {
        "id": "X1bmydrM-Dvm"
      },
      "source": [
        "![imagen](../img/ejercicios.png)"
      ]
    },
    {
      "cell_type": "markdown",
      "metadata": {
        "id": "NyMzQAt4-Dvm"
      },
      "source": [
        "## EJERCICIOS PYTHON BASICO 4:\n",
        "## Funciones, métodos, listas"
      ]
    },
    {
      "cell_type": "markdown",
      "metadata": {
        "id": "1mWns8A0-Dvm"
      },
      "source": [
        "Completa los siguiente ejercicios, la solución completa a los mismos se publicarán en el repo del curso a lo largo del sprint. En algunos ejercicios se muestra la solución final, para que puedas comprobar que lo has hecho bien, pero lo importante es el código que generes. ¡Vaaamos, a ello...!"
      ]
    },
    {
      "cell_type": "markdown",
      "metadata": {
        "id": "qKdTopnS-Dvn"
      },
      "source": [
        "![ejercicio.png](../img/ejercicio.png)\n",
        "\n",
        "## Ejercicio 1\n",
        "Para este ejercicio vamos a poner en práctica [las funciones built in](https://docs.python.org/3/library/functions.html).\n",
        "\n",
        "1. Calcula el máximo de la lista: [4, 6, 8, -1]\n",
        "2. Suma todos los elementos de la lista anterior\n",
        "3. Redondea este float a 3 dígitos decimales: 63.451256965\n",
        "4. Valor absoluto de: -74"
      ]
    },
    {
      "cell_type": "code",
      "execution_count": null,
      "metadata": {
        "id": "agZRwFm8-Dvn"
      },
      "outputs": [
        {
          "name": "stdout",
          "output_type": "stream",
          "text": [
            "1. Máximo: 8\n",
            "2. Suma: 17\n",
            "3. Redondeado a 3 decimales: 63.451\n",
            "4. Valor absoluto de -74: 74\n"
          ]
        }
      ],
      "source": [
        "numeros = [4, 6, 8, -1]\n",
        "\n",
        "# Máximo\n",
        "print(\"1. Máximo:\", max(numeros))\n",
        "\n",
        "# Suma\n",
        "print(\"2. Suma:\", sum(numeros))\n",
        "\n",
        "# Redondeo\n",
        "num_float = 63.451256965\n",
        "print(\"3. Redondeado a 3 decimales:\", round(num_float, 3))\n",
        "\n",
        "# Valor absoluto\n",
        "print(\"4. Valor absoluto de -74:\", abs(-74))\n"
      ]
    },
    {
      "cell_type": "markdown",
      "metadata": {
        "id": "55NW0Ypy-Dvo"
      },
      "source": [
        "![ejercicio.png](../img/ejercicio.png)\n",
        "\n",
        "## Ejercicio 2\n",
        "Para el siguiente string se pide imprimir por pantalla los siguientes casos\n",
        "\n",
        "    \"En un lugar de la Mancha, de cuyo nombre no quiero acordarme.\"\n",
        "\n",
        "1. Pásalo todo a mayúsculas\n",
        "2. Pásalo todo a minúsculas\n",
        "3. Solo la primera letra de cada palabra en mayúscula, el resto en minúscula\n",
        "4. Crea una lista dividiéndolo por sus espacios\n",
        "5. Sustituye las comas `,` por puntos y comas `;`\n",
        "6. Elimina las `a` minúsculas"
      ]
    },
    {
      "cell_type": "code",
      "execution_count": 2,
      "metadata": {
        "id": "zhQK-nfz-Dvo",
        "outputId": "054e8de2-0661-4e13-f32b-e909f54876ea"
      },
      "outputs": [
        {
          "name": "stdout",
          "output_type": "stream",
          "text": [
            "1. Mayúsculas: EN UN LUGAR DE LA MANCHA, DE CUYO NOMBRE NO QUIERO ACORDARME.\n",
            "2. Minúsculas: en un lugar de la mancha, de cuyo nombre no quiero acordarme.\n",
            "3. Capitalizar cada palabra: En Un Lugar De La Mancha, De Cuyo Nombre No Quiero Acordarme.\n",
            "4. Lista por espacios: ['En', 'un', 'lugar', 'de', 'la', 'Mancha,', 'de', 'cuyo', 'nombre', 'no', 'quiero', 'acordarme.']\n",
            "5. Reemplazo de comas por punto y coma: En un lugar de la Mancha; de cuyo nombre no quiero acordarme.\n",
            "6. Eliminar 'a': En un lugr de l Mnch, de cuyo nombre no quiero cordrme.\n"
          ]
        }
      ],
      "source": [
        "texto = \"En un lugar de la Mancha, de cuyo nombre no quiero acordarme.\"\n",
        "\n",
        "# Mayúsculas\n",
        "print(\"1. Mayúsculas:\", texto.upper())\n",
        "\n",
        "# Minúsculas\n",
        "print(\"2. Minúsculas:\", texto.lower())\n",
        "\n",
        "# Capitalizar cada palabra\n",
        "print(\"3. Capitalizar cada palabra:\", texto.title())\n",
        "\n",
        "# Lista por espacios\n",
        "print(\"4. Lista por espacios:\", texto.split())\n",
        "\n",
        "# Reemplazar comas por punto y coma\n",
        "print(\"5. Reemplazo de comas por punto y coma:\", texto.replace(\",\", \";\"))\n",
        "\n",
        "# Eliminar todas las 'a' minúsculas\n",
        "print(\"6. Eliminar 'a':\", texto.replace(\"a\", \"\"))\n"
      ]
    },
    {
      "cell_type": "markdown",
      "metadata": {
        "id": "XJJecZw4-Dvp"
      },
      "source": [
        "![ejercicio.png](../img/ejercicio.png)\n",
        "\n",
        "## Ejercicio 3\n",
        "1. Crea una lista con 3 elementos numéricos\n",
        "2. Añade un cuarto elemento\n",
        "3. Calcula la suma de todos\n",
        "4. Elimina el segundo elemento de la lista\n",
        "5. Añade otro elemento en la posicion 3 de la lista\n",
        "6. Crea otra lista con 4 elementos y concaténala a la que ya tenías.\n",
        "7. Ordena la lista de menor a mayor.\n",
        "8. BONUS: Ordena la lista de mayor a menor.  \n",
        "(*PISTA: Para hacer 8, tendrás que buscar en la información del método...*)  \n",
        "  \n",
        "  \n",
        "NOTA: Pinta por pantalla el resultado de cada paso."
      ]
    },
    {
      "cell_type": "code",
      "execution_count": 3,
      "metadata": {
        "id": "1RBfLII_-Dvp",
        "outputId": "4f756853-b4fb-4129-aa70-b92b0fb5bfbc"
      },
      "outputs": [
        {
          "name": "stdout",
          "output_type": "stream",
          "text": [
            "1. Lista inicial: [10, 20, 30]\n",
            "2. Añadir elemento: [10, 20, 30, 40]\n",
            "3. Suma total: 100\n",
            "4. Lista tras eliminar segundo elemento: [10, 30, 40]\n",
            "5. Insertar en posición 3: [10, 30, 99, 40]\n",
            "6. Lista tras concatenar: [10, 30, 99, 40, 5, 15, 25, 35]\n",
            "7. Orden ascendente: [5, 10, 15, 25, 30, 35, 40, 99]\n",
            "8. BONUS - Orden descendente: [99, 40, 35, 30, 25, 15, 10, 5]\n"
          ]
        }
      ],
      "source": [
        "# Crear lista con 3 elementos numéricos\n",
        "lista = [10, 20, 30]\n",
        "print(\"1. Lista inicial:\", lista)\n",
        "\n",
        "# Añadir un cuarto elemento\n",
        "lista.append(40)\n",
        "print(\"2. Añadir elemento:\", lista)\n",
        "\n",
        "# Suma de todos los elementos\n",
        "print(\"3. Suma total:\", sum(lista))\n",
        "\n",
        "# Eliminar segundo elemento (índice 1)\n",
        "del lista[1]\n",
        "print(\"4. Lista tras eliminar segundo elemento:\", lista)\n",
        "\n",
        "# Añadir otro elemento en la posición 3 (índice 2)\n",
        "lista.insert(2, 99)\n",
        "print(\"5. Insertar en posición 3:\", lista)\n",
        "\n",
        "# Concatenar otra lista\n",
        "nueva_lista = [5, 15, 25, 35]\n",
        "lista.extend(nueva_lista)\n",
        "print(\"6. Lista tras concatenar:\", lista)\n",
        "\n",
        "# Ordenar de menor a mayor\n",
        "lista.sort()\n",
        "print(\"7. Orden ascendente:\", lista)\n",
        "\n",
        "# Ordenar de mayor a menor\n",
        "lista.sort(reverse=True)\n",
        "print(\"8. BONUS - Orden descendente:\", lista)\n"
      ]
    }
  ],
  "metadata": {
    "colab": {
      "provenance": []
    },
    "kernelspec": {
      "display_name": "Python 3",
      "language": "python",
      "name": "python3"
    },
    "language_info": {
      "codemirror_mode": {
        "name": "ipython",
        "version": 3
      },
      "file_extension": ".py",
      "mimetype": "text/x-python",
      "name": "python",
      "nbconvert_exporter": "python",
      "pygments_lexer": "ipython3",
      "version": "3.13.0"
    },
    "orig_nbformat": 4
  },
  "nbformat": 4,
  "nbformat_minor": 0
}
