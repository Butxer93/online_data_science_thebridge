{
  "cells": [
    {
      "cell_type": "markdown",
      "metadata": {
        "id": "9l3HMgm6RWxF"
      },
      "source": [
        "![TheBridge_logo_RGB_color.jpg](../img/TheBridge_logo.png)"
      ]
    },
    {
      "cell_type": "markdown",
      "metadata": {
        "id": "RGg9iWpoRWxG"
      },
      "source": [
        "![ejercicios.png](../img/ejercicios.png)"
      ]
    },
    {
      "cell_type": "markdown",
      "metadata": {
        "id": "AyOlWS2nRWxH"
      },
      "source": [
        "## PRACTICA OBLIGATORIA: COLECCIONES Y FUNCIONES"
      ]
    },
    {
      "cell_type": "markdown",
      "metadata": {
        "id": "6UOgb0KVRWxH"
      },
      "source": [
        "* La práctica obligatoria de esta unidad consiste varios ejercicios de programación libre a completar sobre Colecciones y Funciones. Descarga este notebook en tu ordenador y trabaja en local.  \n",
        "* Recuerda que debes subirla a tu repositorio personal antes de la sesión en vivo para que puntúe adecuadamente y puedas participar en dicha sesión.  \n",
        "* Recuerda también que no es necesario que esté perfecta, sólo es necesario que se vea el esfuerzo.\n",
        "* Esta práctica se resolverá en la sesión en vivo correspondiente y la solución se publicará en el repo del curso."
      ]
    },
    {
      "cell_type": "markdown",
      "metadata": {
        "id": "j3yu-tEjRWxH"
      },
      "source": [
        "### Contenidos"
      ]
    },
    {
      "cell_type": "markdown",
      "metadata": {
        "id": "kO-fLH39RWxH"
      },
      "source": [
        "## Ejercicio 1\n",
        "Eleva todos los elementos de la lista al cuadrado\n",
        "> ```ejer_2 = [1,2,3,4,5]```"
      ]
    },
    {
      "cell_type": "code",
      "execution_count": 6,
      "metadata": {
        "id": "ks5l3yi7RWxH"
      },
      "outputs": [
        {
          "name": "stdout",
          "output_type": "stream",
          "text": [
            "[1, 4, 9, 16, 25]\n"
          ]
        }
      ],
      "source": [
        "ejer_2 = [1,2,3,4,5]\n",
        "\n",
        "cont = 0\n",
        "for num in ejer_2:\n",
        "    ejer_2[cont] = num**2\n",
        "    cont += 1\n",
        "\n",
        "print(ejer_2)"
      ]
    },
    {
      "cell_type": "markdown",
      "metadata": {
        "id": "kI_Xr5oFRWxI"
      },
      "source": [
        "## Ejercicio 2\n",
        "Haz un programa que detecte todos los duplicados de un elemento en una lista:\n",
        "* Utiliza una variable duplicado para asignarle el valor del elemento del que queremos encontrar todos sus duplicados.\n",
        "* El programa debe devolver todos los índices de los elementos duplicados.\n",
        "* Aplícalo para encontrar los duplicados de \"un\", \"es\" y \"binario\" de:  \n",
        "\n",
        ">```ejer_3 = [\"Un\", \"árbol\", \"binario\", \"es\", \"una\", \"estructura\", \"de\", \"un\", \"tipo\", \"particular\", \"a\", \"veces\", \"no\", \"es\", \"ni\", \"binario\"]```\n"
      ]
    },
    {
      "cell_type": "code",
      "execution_count": null,
      "metadata": {
        "id": "cLY9WB7YRWxI"
      },
      "outputs": [
        {
          "name": "stdout",
          "output_type": "stream",
          "text": [
            "'un': [0, 7]\n",
            "'es': [3, 13]\n",
            "'binario': [2, 15]\n"
          ]
        }
      ],
      "source": [
        "ejer_3 = [\"Un\", \"árbol\", \"binario\", \"es\", \"una\", \"estructura\", \"de\", \"un\", \"tipo\", \"particular\", \"a\", \"veces\", \"no\", \"es\", \"ni\", \"binario\"]\n",
        "\n",
        "duplicado_1 = \"un\"\n",
        "indices_1 = []\n",
        "duplicado_2 = \"es\"\n",
        "indices_2 = []\n",
        "duplicado_3 = \"binario\"\n",
        "indices_3 = []\n",
        "\n",
        "for i in range(len(ejer_3)):\n",
        "    if ejer_3[i].lower() == duplicado_1.lower():\n",
        "        indices_1.append(i)\n",
        "    elif ejer_3[i].lower() == duplicado_2.lower():\n",
        "        indices_2.append(i)\n",
        "    elif ejer_3[i].lower() == duplicado_3.lower():\n",
        "        indices_3.append(i)\n",
        "    else:\n",
        "        pass\n",
        "\n",
        "print(\"'un':\", indices_1)\n",
        "print(\"'es':\", indices_2)\n",
        "print(\"'binario':\", indices_3)\n"
      ]
    },
    {
      "cell_type": "markdown",
      "metadata": {
        "id": "3WrBd5QaRWxI"
      },
      "source": [
        "## Ejercicio 3\n",
        "1. ¿Cuántas veces se repite el 3 en la siguiente tupla?\n",
        "2. Crea una tupla nueva con los elementos desde la posicion 5 a la 10.\n",
        "3. ¿Cuántos elementos tiene la tupla `ejer_3`?\n",
        "> ```ejer_9 = (3, 20, 3, 47, 19, 3, 29, 45, 67, 78, 90, 3, 3, 5, 2, 4, 7, 9, 4, 2, 4, 3, 3, 4, 6, 7)```"
      ]
    },
    {
      "cell_type": "code",
      "execution_count": 11,
      "metadata": {
        "id": "bkv_R5LYRWxI"
      },
      "outputs": [
        {
          "name": "stdout",
          "output_type": "stream",
          "text": [
            "Ejercicio 3.1: 7\n",
            "Ejercicio 3.2: (3, 29, 45, 67, 78, 90)\n",
            "Ejercicio 3.3: 26\n"
          ]
        }
      ],
      "source": [
        "ejer_9 = (3, 20, 3, 47, 19, 3, 29, 45, 67, 78, 90, 3, 3, 5, 2, 4, 7, 9, 4, 2, 4, 3, 3, 4, 6, 7)\n",
        "\n",
        "#\n",
        "contador = 0\n",
        "for numero in ejer_9:\n",
        "    if numero == 3:\n",
        "        contador += 1\n",
        "print(\"Ejercicio 3.1:\", contador)\n",
        "\n",
        "\n",
        "nueva_tupla = ejer_9[5:11]\n",
        "print(\"Ejercicio 3.2:\", nueva_tupla)\n",
        "\n",
        "\n",
        "print(\"Ejercicio 3.3:\", len(ejer_9))"
      ]
    },
    {
      "cell_type": "markdown",
      "metadata": {
        "id": "6g8Y54AeRWxI"
      },
      "source": [
        "## Ejercicio 4\n",
        "Comprueba si el numero 60 esta en la tupla del ejercicio 3"
      ]
    },
    {
      "cell_type": "code",
      "execution_count": 13,
      "metadata": {
        "id": "F8VTEZonRWxI"
      },
      "outputs": [
        {
          "name": "stdout",
          "output_type": "stream",
          "text": [
            "No está\n"
          ]
        }
      ],
      "source": [
        "if 60 in ejer_9:\n",
        "    print(\"Sí está\")\n",
        "else:\n",
        "    print(\"No está\")"
      ]
    },
    {
      "cell_type": "markdown",
      "metadata": {
        "id": "y0fg-ZA6RWxI"
      },
      "source": [
        "## Ejercicio 5\n",
        "1. Convierte la tupla del ejercicio 3 en una lista\n",
        "2. Convierte la tupla del ejercicio 3 en un set\n",
        "3. Convierte la tupla del ejercicio 3 en un diccionario. Usa también los indices"
      ]
    },
    {
      "cell_type": "code",
      "execution_count": null,
      "metadata": {
        "id": "_O5hXr01RWxI"
      },
      "outputs": [
        {
          "name": "stdout",
          "output_type": "stream",
          "text": [
            "[3, 20, 3, 47, 19, 3, 29, 45, 67, 78, 90, 3, 3, 5, 2, 4, 7, 9, 4, 2, 4, 3, 3, 4, 6, 7]\n",
            "{2, 3, 67, 5, 4, 7, 6, 9, 45, 78, 47, 19, 20, 90, 29}\n",
            "{0: 3, 1: 20, 2: 3, 3: 47, 4: 19, 5: 3, 6: 29, 7: 45, 8: 67, 9: 78, 10: 90, 11: 3, 12: 3, 13: 5, 14: 2, 15: 4, 16: 7, 17: 9, 18: 4, 19: 2, 20: 4, 21: 3, 22: 3, 23: 4, 24: 6, 25: 7}\n"
          ]
        }
      ],
      "source": [
        "lista_9 = list(ejer_9)\n",
        "print(lista_9)\n",
        "\n",
        "\n",
        "set_9 = set(ejer_9)\n",
        "print(set_9)\n",
        "\n",
        "\n",
        "diccionario_9 = {}\n",
        "indice = 0\n",
        "for valor in ejer_9:\n",
        "    diccionario_9[indice] = valor\n",
        "    indice += 1\n",
        "print(diccionario_9)"
      ]
    },
    {
      "cell_type": "markdown",
      "metadata": {
        "id": "eOdWWbxvRWxJ"
      },
      "source": [
        "## Ejercicio 6\n",
        "Multiplica todos los valores del diccionario\n",
        "> ```ejer_6 = {1: 11, 2: 22, 3: 33, 4: 44, 5: 55}```"
      ]
    },
    {
      "cell_type": "code",
      "execution_count": 17,
      "metadata": {
        "id": "KcuByovKRWxJ"
      },
      "outputs": [
        {
          "name": "stdout",
          "output_type": "stream",
          "text": [
            "19326120\n"
          ]
        }
      ],
      "source": [
        "ejer_6 = {1: 11, 2: 22, 3: 33, 4: 44, 5: 55}\n",
        "producto = 1\n",
        "for clave in ejer_6:\n",
        "    producto = producto * ejer_6[clave]\n",
        "print(producto)"
      ]
    },
    {
      "cell_type": "markdown",
      "metadata": {
        "id": "W7TUSaKRRWxJ"
      },
      "source": [
        "## Ejercicio 7\n",
        "\n",
        "1. Crea un diccionario que describa un libro, con los siguientes campos o claves: \"titulo\",\"autor\",\"idioma original\",\"año de publicación\".\n",
        "2. Crea un a lista, llamada librería.\n",
        "3. Añade cuatro libros a tu elección a la librería."
      ]
    },
    {
      "cell_type": "code",
      "execution_count": 18,
      "metadata": {
        "id": "d-IMRvxRRWxJ"
      },
      "outputs": [
        {
          "data": {
            "text/plain": [
              "[{'titulo': '1984',\n",
              "  'autor': 'George Orwell',\n",
              "  'idioma original': 'inglés',\n",
              "  'año de publicación': 1949},\n",
              " {'titulo': 'Don Quijote',\n",
              "  'autor': 'Cervantes',\n",
              "  'idioma original': 'español',\n",
              "  'año de publicación': 1605},\n",
              " {'titulo': 'Moby Dick',\n",
              "  'autor': 'Melville',\n",
              "  'idioma original': 'inglés',\n",
              "  'año de publicación': 1851},\n",
              " {'titulo': 'El Principito',\n",
              "  'autor': 'Saint-Exupéry',\n",
              "  'idioma original': 'francés',\n",
              "  'año de publicación': 1943}]"
            ]
          },
          "execution_count": 18,
          "metadata": {},
          "output_type": "execute_result"
        }
      ],
      "source": [
        "libro1 = {\"titulo\": \"1984\", \"autor\": \"George Orwell\", \"idioma original\": \"inglés\", \"año de publicación\": 1949}\n",
        "libro2 = {\"titulo\": \"Don Quijote\", \"autor\": \"Cervantes\", \"idioma original\": \"español\", \"año de publicación\": 1605}\n",
        "libro3 = {\"titulo\": \"Moby Dick\", \"autor\": \"Melville\", \"idioma original\": \"inglés\", \"año de publicación\": 1851}\n",
        "libro4 = {\"titulo\": \"El Principito\", \"autor\": \"Saint-Exupéry\", \"idioma original\": \"francés\", \"año de publicación\": 1943}\n",
        "\n",
        "libreria = []\n",
        "libreria.append(libro1)\n",
        "libreria.append(libro2)\n",
        "libreria.append(libro3)\n",
        "libreria.append(libro4)\n",
        "\n",
        "libreria"
      ]
    },
    {
      "cell_type": "markdown",
      "metadata": {
        "id": "glMoedjYRWxJ"
      },
      "source": [
        "## Ejercicio 8\n",
        "Modifica los valores del idioma de todos los libros del ejercicio anterior para que sea \"esperanto\"\n"
      ]
    },
    {
      "cell_type": "code",
      "execution_count": 19,
      "metadata": {
        "id": "veNdC-uwRWxJ"
      },
      "outputs": [
        {
          "name": "stdout",
          "output_type": "stream",
          "text": [
            "[{'titulo': '1984', 'autor': 'George Orwell', 'idioma original': 'esperanto', 'año de publicación': 1949}, {'titulo': 'Don Quijote', 'autor': 'Cervantes', 'idioma original': 'esperanto', 'año de publicación': 1605}, {'titulo': 'Moby Dick', 'autor': 'Melville', 'idioma original': 'esperanto', 'año de publicación': 1851}, {'titulo': 'El Principito', 'autor': 'Saint-Exupéry', 'idioma original': 'esperanto', 'año de publicación': 1943}]\n"
          ]
        }
      ],
      "source": [
        "for libro in libreria:\n",
        "    libro[\"idioma original\"] = \"esperanto\"\n",
        "print(libreria)"
      ]
    },
    {
      "cell_type": "markdown",
      "metadata": {
        "id": "DRCJG04KRWxJ"
      },
      "source": [
        "## Ejercicio 9\n",
        "1. Escribe un programa que dada una variable titulo busque los libros que hay en la librería con ese título. Si no se encuentra debe devolver el mensaje `Ese no lo tengo, ¿mola?`\n",
        "2. Pruena que el programa con uno de tus libros y con otro que no contenga tu librería."
      ]
    },
    {
      "cell_type": "code",
      "execution_count": 20,
      "metadata": {
        "id": "eWHdJi9BRWxJ"
      },
      "outputs": [
        {
          "name": "stdout",
          "output_type": "stream",
          "text": [
            "Libro encontrado: {'titulo': '1984', 'autor': 'George Orwell', 'idioma original': 'esperanto', 'año de publicación': 1949}\n",
            "Ese no lo tengo, ¿mola?\n"
          ]
        }
      ],
      "source": [
        "titulo = \"1984\"\n",
        "encontrado = False\n",
        "for libro in libreria:\n",
        "    if libro[\"titulo\"].lower() == titulo.lower():\n",
        "        print(\"Libro encontrado:\", libro)\n",
        "        encontrado = True\n",
        "        break\n",
        "\n",
        "if not encontrado:\n",
        "    print(\"Ese no lo tengo, ¿mola?\")\n",
        "\n",
        "# otra prueba\n",
        "titulo = \"Harry Potter\"\n",
        "encontrado = False\n",
        "for libro in libreria:\n",
        "    if libro[\"titulo\"].lower() == titulo.lower():\n",
        "        print(\"Libro encontrado:\", libro)\n",
        "        encontrado = True\n",
        "        break\n",
        "\n",
        "if not encontrado:\n",
        "    print(\"Ese no lo tengo, ¿mola?\")"
      ]
    },
    {
      "cell_type": "markdown",
      "metadata": {
        "id": "17YOpYuFRWxJ"
      },
      "source": [
        "## Ejercicio 10\n",
        "Convierte el programa del ejercicio 2 en una función al que se le pase el valor a buscar como un argumento posicional"
      ]
    },
    {
      "cell_type": "code",
      "execution_count": 21,
      "metadata": {
        "id": "xbj0LgvnRWxJ"
      },
      "outputs": [
        {
          "name": "stdout",
          "output_type": "stream",
          "text": [
            "[3, 13]\n"
          ]
        }
      ],
      "source": [
        "def buscar_duplicados_basico(lista, palabra):\n",
        "    indices = []\n",
        "    for i in range(len(lista)):\n",
        "        if lista[i].lower() == palabra.lower():\n",
        "            indices.append(i)\n",
        "    return indices\n",
        "\n",
        "print(buscar_duplicados_basico(ejer_3, \"es\"))"
      ]
    },
    {
      "cell_type": "markdown",
      "metadata": {
        "id": "xZ-sWJxPRWxJ"
      },
      "source": [
        "## Ejercicio 11\n",
        "Convierte el programa del ejercicio 9 en una función al que se le pasen como argumentos la librería, posicional, y el título, argumento keyword con valor \"ninguno\", por defecto."
      ]
    },
    {
      "cell_type": "code",
      "execution_count": 22,
      "metadata": {
        "id": "4-JrsMdNRWxK"
      },
      "outputs": [
        {
          "name": "stdout",
          "output_type": "stream",
          "text": [
            "{'titulo': 'Moby Dick', 'autor': 'Melville', 'idioma original': 'esperanto', 'año de publicación': 1851}\n",
            "Ese no lo tengo, ¿mola?\n"
          ]
        }
      ],
      "source": [
        "def buscar_libro_basico(libreria, titulo=\"ninguno\"):\n",
        "    for libro in libreria:\n",
        "        if libro[\"titulo\"].lower() == titulo.lower():\n",
        "            return libro\n",
        "    return \"Ese no lo tengo, ¿mola?\"\n",
        "\n",
        "print(buscar_libro_basico(libreria, \"Moby Dick\"))\n",
        "print(buscar_libro_basico(libreria, \"Juego de Tronos\"))"
      ]
    },
    {
      "cell_type": "markdown",
      "metadata": {
        "id": "FtJir95QRWxK"
      },
      "source": [
        "## Ejercicio 12\n",
        "Solicitar al usuario que ingrese su dirección email. Imprimir un mensaje indicando si la dirección es válida o no, valiéndose de una función para decidirlo. Una dirección se considerará válida si contiene el símbolo \"@\"."
      ]
    },
    {
      "cell_type": "code",
      "execution_count": null,
      "metadata": {
        "id": "sk852IZ8RWxK"
      },
      "outputs": [
        {
          "name": "stdout",
          "output_type": "stream",
          "text": [
            "Email válido\n"
          ]
        }
      ],
      "source": [
        "def validar_email(email):\n",
        "    if \"@\" in email:\n",
        "        return True\n",
        "    else:\n",
        "        return False\n",
        "\n",
        "email = input(\"Introduce tu email: \")\n",
        "if validar_email(email):\n",
        "    print(\"Email válido\")\n",
        "else:\n",
        "    print(\"Email inválido\")"
      ]
    },
    {
      "cell_type": "markdown",
      "metadata": {
        "id": "Kw1MWBwBRWxK"
      },
      "source": [
        "## Ejercicio 13\n",
        "Escribe una función que compruebe si un DNI es válido, devolviendo `True` en caso afirmativo.  \n",
        "En primer lugar, el DNI debe tener entre 7 y 8 dígitos numéricos.  \n",
        "Para saber si la letra del DNI es correcta puedes utilizar el siguiente fragmento de código:\n",
        ">```Python\n",
        ">DNI= 55555555\n",
        ">palabra='TRWAGMYFPDXBNJZSQVHLCKE'\n",
        ">print('La letra del DNI es: ', palabra[DNI%23])\n",
        ">````\n"
      ]
    },
    {
      "cell_type": "code",
      "execution_count": 28,
      "metadata": {
        "id": "F5Z9rSHqRWxK"
      },
      "outputs": [
        {
          "name": "stdout",
          "output_type": "stream",
          "text": [
            "DNI válido. Su letra es:  C\n"
          ]
        },
        {
          "data": {
            "text/plain": [
              "True"
            ]
          },
          "execution_count": 28,
          "metadata": {},
          "output_type": "execute_result"
        }
      ],
      "source": [
        "\n",
        "def validar_dni(dni):\n",
        "    if len(dni) < 8 or len(dni) > 9:\n",
        "        return False\n",
        "\n",
        "    numero_parte = dni[:-1]\n",
        "    letra = dni[-1].upper()\n",
        "\n",
        "    if not numero_parte.isdigit():\n",
        "        return False\n",
        "\n",
        "    numero = int(numero_parte)\n",
        "    palabra = \"TRWAGMYFPDXBNJZSQVHLCKE\"\n",
        "    letra_correcta = palabra[numero % 23]\n",
        "\n",
        "    if letra == letra_correcta:\n",
        "        print(\"DNI válido. Su letra es: \", letra_correcta)\n",
        "        return True\n",
        "    else:\n",
        "        print(\"DNI inválido\")\n",
        "        return False\n",
        "    \n",
        "\n",
        "validar_dni(input(\"Introduce tu DNI (número + letra): \"))\n"
      ]
    }
  ],
  "metadata": {
    "colab": {
      "provenance": []
    },
    "kernelspec": {
      "display_name": "Python 3",
      "language": "python",
      "name": "python3"
    },
    "language_info": {
      "codemirror_mode": {
        "name": "ipython",
        "version": 3
      },
      "file_extension": ".py",
      "mimetype": "text/x-python",
      "name": "python",
      "nbconvert_exporter": "python",
      "pygments_lexer": "ipython3",
      "version": "3.13.0"
    },
    "orig_nbformat": 4
  },
  "nbformat": 4,
  "nbformat_minor": 0
}
