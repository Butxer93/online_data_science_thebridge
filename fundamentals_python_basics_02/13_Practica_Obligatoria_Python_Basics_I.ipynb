{
  "cells": [
    {
      "cell_type": "markdown",
      "metadata": {
        "id": "BNCAebJANPxq"
      },
      "source": [
        "![TheBridge_logo.png](../img/TheBridge_logo.png)"
      ]
    },
    {
      "cell_type": "markdown",
      "metadata": {
        "id": "A9eDZvZaNPxs"
      },
      "source": [
        "![imagen](../img/ejercicios.png)"
      ]
    },
    {
      "cell_type": "markdown",
      "metadata": {
        "id": "59zPhBxXNPxs"
      },
      "source": [
        "## PRACTICA OBLIGATORIA: PYTHON"
      ]
    },
    {
      "cell_type": "markdown",
      "metadata": {
        "id": "mv2kb1GMNPxs"
      },
      "source": [
        "* La práctica obligatoria de esta unidad consiste en dos ejercicios de programación libre a completar.   \n",
        "* Recuerda que debes subirla a tu repositorio personal antes de la sesión en vivo para que puntúe adecuadamente.  \n",
        "* Recuerda también que no es necesario que esté perfecta, sólo es necesario que se vea el esfuerzo.\n",
        "* Esta práctica se resolverá en la sesión en vivo correspondiente y la solución se publicará en el repo del curso."
      ]
    },
    {
      "cell_type": "markdown",
      "metadata": {
        "id": "Kl9JzST2NPxt"
      },
      "source": [
        "![ejercicio.png](../img/ejercicio.png)\n",
        "## PARTE I\n",
        "\n",
        "En este ejercicio debes simular un chatbot al que le haremos pedidos de pizzas.\n",
        "\n",
        "1. El chatbot tiene que saludar con un: \"Buenas tardes, bienvenido al servicio de pedido online, el precio de nuestra pizzas es de 8,95 para la familiar o de 9,90 para la mediana ¿Cuántas pizzas  familiares desea?\"\n",
        "2. El ususario tiene que introducir un número de pizzas en una variable llamada 'pizz_familiar'\n",
        "3. El chatbot debe responder: \"Estupendo, ¿cuántas pizzas medianas desea?\" y guardar el número de pizzas medianas en otra variable 'pizz_mediana'\n",
        "4. Además debe responder del chatbot: \"Estupendo, se están preparando 'pizz' pizzas familiares y 'pizz_mediana' pizzas medianas. Digame su dirección\"\n",
        "5. El ususario tiene que introducir una direccion en formato String en otra variable llamada 'direcc'\n",
        "6. El programa debe calcular el monto total\n",
        "7. Respuesta final del chatbot: \"Le mandaremos las '(número total de pizzas)' pizzas a la dirección 'direcc'. Serán <precio total a pagar en euros>. Muchas gracias por su pedido.\"\n",
        "         \n"
      ]
    },
    {
      "cell_type": "code",
      "execution_count": 6,
      "metadata": {
        "id": "qkKibyt-NPxt"
      },
      "outputs": [
        {
          "name": "stdout",
          "output_type": "stream",
          "text": [
            "Buenas tardes, bienvenido al servicio de pedido online, el precio de nuestras pizzas es de 8,95 para la familiar o de 9,90 para la mediana.\n",
            "Estupendo, se están preparando 3 pizzas familiares y 2 pizzas medianas. Dígame su dirección.\n",
            "Le mandaremos las 5 pizzas a la dirección 'Casa del pueblo, 3'. Serán 46.65 euros. Muchas gracias por su pedido.\n"
          ]
        }
      ],
      "source": [
        "# Saludo inicial\n",
        "saludo = \"Buenas tardes, bienvenido al servicio de pedido online, el precio de nuestras pizzas es de 8,95 para la familiar o de 9,90 para la mediana.\"\n",
        "print(saludo)\n",
        "input(saludo)\n",
        "\n",
        "# Guardar cantidad de pizzas familiares\n",
        "pizz_familiar = int(input(\"¿Cuántas pizzas familiares desea? \"))\n",
        "\n",
        "# Solicitar cantidad de medianas\n",
        "pizz_mediana = int(input(\"Estupendo, ¿cuántas pizzas medianas desea? \"))\n",
        "\n",
        "# Confirmar pedido parcial\n",
        "print(f\"Estupendo, se están preparando {pizz_familiar} pizzas familiares y {pizz_mediana} pizzas medianas. Dígame su dirección.\")\n",
        "\n",
        "# Solicitar dirección\n",
        "direcc = input(\"Dirección de entrega: \")\n",
        "\n",
        "# Calcular el total\n",
        "precio_total = (pizz_familiar * 8.95) + (pizz_mediana * 9.90)\n",
        "num_total_pizzas = pizz_familiar + pizz_mediana\n",
        "\n",
        "# Mensaje final\n",
        "print(f\"Le mandaremos las {num_total_pizzas} pizzas a la dirección '{direcc}'. Serán {round(precio_total, 2)} euros. Muchas gracias por su pedido.\")\n"
      ]
    },
    {
      "cell_type": "markdown",
      "metadata": {
        "id": "f0oqoGDGNPxt"
      },
      "source": [
        "![ejercicio.png](../img/ejercicio.png)\n",
        "## Parte II\n",
        "\n",
        "Crea un programa que realice las siguientes acciones:\n",
        "\n",
        "1. Solicite al usuario que introduzca 3 números enteros separados por comas (por ejemplo: 1,2,3).\n",
        "2. Convierta esa entrada en una lista de números enteros.\n",
        "3. Utilizando funciones built-in, determine el número máximo, el número mínimo y la suma total de los números introducidos.\n",
        "4. Determine la verdad o falsedad de la siguiente afirmación: \"El número máximo menos el número mínimo es igual a la suma total dividida por 5\".\n",
        "5. Muestre los resultados utilizando print."
      ]
    },
    {
      "cell_type": "code",
      "execution_count": 8,
      "metadata": {
        "id": "rAlpWiQ9NPxt"
      },
      "outputs": [
        {
          "name": "stdout",
          "output_type": "stream",
          "text": [
            "Números introducidos: [4, 8, 2]\n",
            "Máximo: 8\n",
            "Mínimo: 2\n",
            "Suma total: 14\n",
            "¿Máximo - Mínimo == Suma / 5?: False\n"
          ]
        }
      ],
      "source": [
        "# Solicitar números separados por coma\n",
        "entrada = input(\"Introduce 3 números enteros separados por comas (ejemplo: 1,2,3): \")\n",
        "\n",
        "# Convertir a lista de enteros\n",
        "numeros = list(map(int, entrada.split(\",\")))\n",
        "\n",
        "# Determinar máximo, mínimo y suma\n",
        "max_num = max(numeros)\n",
        "min_num = min(numeros)\n",
        "suma_total = sum(numeros)\n",
        "\n",
        "# Comprobar condición\n",
        "condicion = (max_num - min_num) == (suma_total / 5)\n",
        "\n",
        "# Mostrar resultados\n",
        "print(\"Números introducidos:\", numeros)\n",
        "print(\"Máximo:\", max_num)\n",
        "print(\"Mínimo:\", min_num)\n",
        "print(\"Suma total:\", suma_total)\n",
        "print(\"¿Máximo - Mínimo == Suma / 5?:\", condicion)\n"
      ]
    }
  ],
  "metadata": {
    "colab": {
      "provenance": []
    },
    "kernelspec": {
      "display_name": "Python 3",
      "language": "python",
      "name": "python3"
    },
    "language_info": {
      "codemirror_mode": {
        "name": "ipython",
        "version": 3
      },
      "file_extension": ".py",
      "mimetype": "text/x-python",
      "name": "python",
      "nbconvert_exporter": "python",
      "pygments_lexer": "ipython3",
      "version": "3.13.0"
    },
    "orig_nbformat": 4
  },
  "nbformat": 4,
  "nbformat_minor": 0
}
