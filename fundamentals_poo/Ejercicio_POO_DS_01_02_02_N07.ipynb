{
  "cells": [
    {
      "cell_type": "markdown",
      "metadata": {
        "id": "vigJnuAMSU4x"
      },
      "source": [
        "<img src = \"../img/TheBridge_logo.png\" width = 500>\n",
        "<img src = \"../img/python.jpg\" width = 500>"
      ]
    },
    {
      "cell_type": "markdown",
      "metadata": {
        "id": "2xmnwM17SU4y"
      },
      "source": [
        "![ejercicios.png](../img/ejercicios.png)"
      ]
    },
    {
      "cell_type": "markdown",
      "metadata": {
        "id": "liorA-1ZSU4y"
      },
      "source": [
        "# Ejercicios Clases y Objetos"
      ]
    },
    {
      "cell_type": "markdown",
      "metadata": {
        "id": "5xXUz5l9SU4z"
      },
      "source": [
        "## Ejercicio 1\n",
        "Somos una empresa que tiene varias tiendas de electrodomesticos. Necesitamos un programa para manejar las tiendas, ver las ventas que han tenido, cuántos empleados hay, etc... Para ello vamos a modelizar la tienda en una clase, que tendrá las siguientes características:\n",
        "* Nombre clase: \"Tienda\"\n",
        "* Atributos comunes:\n",
        "    * Tipo: \"Electrodomésticos\"\n",
        "    * Abierta: True\n",
        "* Atributos propios de cada tienda:\n",
        "    * Nombre - String\n",
        "    * Dirección - String\n",
        "    * Número de empleados - int\n",
        "    * Ventas ultimos 3 meses - Lista de 3 numeros\n",
        "* Método para calcular las ventas de todos los meses, que devuelva un numero con todas las ventas.\n",
        "* Método que calcula la media de ventas de los ultimos meses, por empleado\n",
        "* Método que devuelve en un string el nombre de la tienda, junto con su dirección.\n",
        "* Método que obtiene las ventas del último mes.\n",
        "* Método para dar una proyección de las ventas en caso de haber invertido X dinero en marketing en esa tienda. Siendo X el parámetro de entrada. Si X es menor de 1000, las ventas de los ultimos 3 meses hubiesen sido de (1.2 x ventas), si es mayor o igual de 1000, las ventas hubiesen sido de (1.5 x venta). El método reescribe el atributo de ventas en los últimos 3 meses, y además devuelve las ventas con el aumento.\n",
        "\n",
        "Se pide:\n",
        "1. Implementar la clase \"Tienda\"\n",
        "2. Crear tres tiendas con datos inventados\n",
        "3. Comprueba en al menos una de ellas, todo lo implementado en la clase tienda (sus atributos, media de ventas, ventas/empleado...)\n",
        "3. Calcular las ventas del último mes de todas las tiendas. Para ello usa el bucle `for`\n",
        "4. Imprime por pantalla los nombres de las tiendas cuya dirección lleve el string \"Avenida\"\n",
        "5. Seguro que ya has hecho este apartado... Documenta la clase :)"
      ]
    },
    {
      "cell_type": "code",
      "execution_count": null,
      "metadata": {
        "id": "5cLQcLxfSU4z"
      },
      "outputs": [
        {
          "name": "stdout",
          "output_type": "stream",
          "text": [
            "Nombre: ElectroPlus\n",
            "Dirección: Calle Mayor 12\n",
            "Empleados: 10\n",
            "Ventas: [15000, 18000, 20000]\n",
            "Ventas totales: 53000\n",
            "Ventas por empleado: 5300.0\n",
            "Descripción: ElectroPlus - Calle Mayor 12\n",
            "Ventas último mes: 20000\n",
            "Proyección con inversión de 800: [18000.0, 21600.0, 24000.0]\n",
            "Nuevas ventas: [18000.0, 21600.0, 24000.0]\n",
            "Último mes en ElectroPlus : 24000.0\n",
            "Último mes en MegaHogar : 16000\n",
            "Último mes en TecnoCasa : 23000\n",
            "Tienda en Avenida: MegaHogar\n",
            "Tienda en Avenida: TecnoCasa\n"
          ]
        }
      ],
      "source": [
        "class Tienda:\n",
        "    \"\"\"\n",
        "    Clase de tienda de electrodomésticos.\n",
        "\n",
        "    Atributos comunes:\n",
        "        tipo (str): El tipo de tienda. Siempre es \"Electrodomésticos\".\n",
        "        abierta (bool): Indica si la tienda está abierta. Siempre True.\n",
        "\n",
        "    Atributos propios de cada tienda:\n",
        "        nombre (str): Nombre de la tienda.\n",
        "        direccion (str): Dirección de la tienda.\n",
        "        empleados (int): Número de empleados que tiene la tienda.\n",
        "        ventas (list): Lista con las ventas de los últimos 3 meses.\n",
        "\n",
        "    Métodos:\n",
        "        ventas_totales(): Devuelve la suma de ventas de los últimos 3 meses.\n",
        "        ventas_por_empleado(): Devuelve la media de ventas por empleado.\n",
        "        descripcion(): Devuelve un string con el nombre y la dirección.\n",
        "        ventas_ultimo_mes(): Devuelve las ventas del último mes.\n",
        "        proyeccion_marketing(inversion): Recalcula y devuelve ventas si se hubiera invertido X dinero.\n",
        "    \"\"\"\n",
        "\n",
        "    tipo = \"Electrodomésticos\"\n",
        "    abierta = True\n",
        "\n",
        "    def __init__(self, nombre, direccion, empleados, ventas):\n",
        "        self.nombre = nombre\n",
        "        self.direccion = direccion\n",
        "        self.empleados = empleados\n",
        "        self.ventas = ventas  # lista de 3 números equivalentes a los 3 últimos meses\n",
        "\n",
        "    def ventas_totales(self):\n",
        "        return sum(self.ventas)\n",
        "\n",
        "    def ventas_por_empleado(self):\n",
        "        if self.empleados == 0:\n",
        "            return 0\n",
        "        return self.ventas_totales() / self.empleados\n",
        "\n",
        "    def descripcion(self):\n",
        "        return self.nombre + \" - \" + self.direccion\n",
        "\n",
        "    def ventas_ultimo_mes(self):\n",
        "        return self.ventas[-1]\n",
        "\n",
        "    def proyeccion_marketing(self, inversion):\n",
        "        if inversion < 1000:\n",
        "            self.ventas = [v * 1.2 for v in self.ventas]\n",
        "        else:\n",
        "            self.ventas = [v * 1.5 for v in self.ventas]\n",
        "        return self.ventas\n",
        "\n",
        "\n",
        "# Crear tres tiendas con datos inventados\n",
        "tienda1 = Tienda(\"ElectroPlus\", \"Calle Mayor 12\", 10, [15000, 18000, 20000])\n",
        "tienda2 = Tienda(\"MegaHogar\", \"Avenida del Sol 45\", 8, [12000, 14000, 16000])\n",
        "tienda3 = Tienda(\"TecnoCasa\", \"Avenida de la Ciencia 88\", 12, [20000, 21000, 23000])\n",
        "\n",
        "# Comprobamos todo en una tienda\n",
        "print(\"Nombre:\", tienda1.nombre)\n",
        "print(\"Dirección:\", tienda1.direccion)\n",
        "print(\"Empleados:\", tienda1.empleados)\n",
        "print(\"Ventas:\", tienda1.ventas)\n",
        "print(\"Ventas totales:\", tienda1.ventas_totales())\n",
        "print(\"Ventas por empleado:\", tienda1.ventas_por_empleado())\n",
        "print(\"Descripción:\", tienda1.descripcion())\n",
        "print(\"Ventas último mes:\", tienda1.ventas_ultimo_mes())\n",
        "print(\"Proyección con inversión de 800:\", tienda1.proyeccion_marketing(800))\n",
        "print(\"Nuevas ventas:\", tienda1.ventas)\n",
        "\n",
        "# Ventas del último mes de todas las tiendas\n",
        "tiendas = [tienda1, tienda2, tienda3]\n",
        "for tienda in tiendas:\n",
        "    print(\"Último mes en\", tienda.nombre, \":\", tienda.ventas_ultimo_mes())\n",
        "\n",
        "# Nombres de tiendas con dirección que contiene \"Avenida\"\n",
        "for tienda in tiendas:\n",
        "    if \"Avenida\" in tienda.direccion:\n",
        "        print(\"Tienda en Avenida:\", tienda.nombre)\n"
      ]
    },
    {
      "cell_type": "markdown",
      "metadata": {
        "id": "WEBq7EpsSU40"
      },
      "source": [
        "## Ejercicio 2\n",
        "En este ejercicio vamos a implementar una clase *Perro* en Python. La clase tiene las siguientes características:\n",
        "* Cosas que sabemos seguro que tiene un perro\n",
        "    * Tiene 4 patas\n",
        "    * 2 orejas\n",
        "    * 2 ojos\n",
        "    * Una velocidad de 0. Por defecto, el perro está parado\n",
        "* Cuando se inicialice:\n",
        "    * El perro será de una determinada raza\n",
        "    * Por defecto tendrá pelo \"Marrón\", a no ser que se diga lo contrario.\n",
        "    * Por defecto no tendrá dueño, a no ser que se diga lo contrario.\n",
        "    \n",
        "* Dispondrá también de un método llamado andar, que tiene un argumento de entrada (aumento_velocidad). Este valor se le sumará a la velocidad que ya llevaba el perro.\n",
        "* Necesita otro método (parar), donde pondremos la velocidad a 0.\n",
        "* Otro método llamado \"ladrar\", que tendrá un argumento de entrada, y la salida será el siguiente string: \"GUAU!\" + el argumento de entrada.\n",
        "\n",
        "\n",
        "Se pide:\n",
        "* Implementa la clase *Perro*\n",
        "* Crea un objeto de tipo *Perro*, sin dueño\n",
        "* Comprueba que están bien todos sus atributos\n",
        "* Prueba que ande, y comprueba su velocidad\n",
        "* Páralo\n",
        "* Documenta la clase *Perro*"
      ]
    },
    {
      "cell_type": "code",
      "execution_count": 2,
      "metadata": {
        "id": "DpEWvbwGSU40"
      },
      "outputs": [
        {
          "name": "stdout",
          "output_type": "stream",
          "text": [
            "Raza: Labrador\n",
            "Pelo: Marrón\n",
            "Dueño: None\n",
            "Velocidad: 0\n",
            "Patas: 4\n",
            "Orejas: 2\n",
            "Ojos: 2\n",
            "Velocidad después de andar: 5\n",
            "Velocidad después de parar: 0\n",
            "Ladrido: GUAU! ¡Fuera de aquí!\n"
          ]
        }
      ],
      "source": [
        "class Perro:\n",
        "    \"\"\"\n",
        "    Clase que representa un perro.\n",
        "\n",
        "    Atributos comunes:\n",
        "        patas (int): Número de patas, siempre 4.\n",
        "        orejas (int): Número de orejas, siempre 2.\n",
        "        ojos (int): Número de ojos, siempre 2.\n",
        "        velocidad (int): Velocidad actual del perro. Comienza en 0.\n",
        "\n",
        "    Atributos definidos al crear el perro:\n",
        "        raza (str): Raza del perro.\n",
        "        pelo (str): Color del pelo. Por defecto es \"Marrón\".\n",
        "        duenyo (str or None): Nombre del dueño. Por defecto no tiene dueño (None).\n",
        "\n",
        "    Métodos:\n",
        "        andar(aumento_velocidad): Aumenta la velocidad del perro en la cantidad dada.\n",
        "        parar(): Detiene al perro (velocidad = 0).\n",
        "        ladrar(mensaje): Devuelve \"GUAU!\" seguido del mensaje dado.\n",
        "    \"\"\"\n",
        "\n",
        "    patas = 4\n",
        "    orejas = 2\n",
        "    ojos = 2\n",
        "\n",
        "    def __init__(self, raza, pelo=\"Marrón\", duenyo=None):\n",
        "        self.raza = raza\n",
        "        self.pelo = pelo\n",
        "        self.duenyo = duenyo\n",
        "        self.velocidad = 0\n",
        "\n",
        "    def andar(self, aumento_velocidad):\n",
        "        self.velocidad += aumento_velocidad\n",
        "\n",
        "    def parar(self):\n",
        "        self.velocidad = 0\n",
        "\n",
        "    def ladrar(self, mensaje):\n",
        "        return \"GUAU! \" + mensaje\n",
        "\n",
        "\n",
        "# Crear un objeto de tipo Perro, sin dueño\n",
        "mi_perro = Perro(\"Labrador\")\n",
        "\n",
        "# Comprobar atributos\n",
        "print(\"Raza:\", mi_perro.raza)\n",
        "print(\"Pelo:\", mi_perro.pelo)\n",
        "print(\"Dueño:\", mi_perro.duenyo)\n",
        "print(\"Velocidad:\", mi_perro.velocidad)\n",
        "print(\"Patas:\", mi_perro.patas)\n",
        "print(\"Orejas:\", mi_perro.orejas)\n",
        "print(\"Ojos:\", mi_perro.ojos)\n",
        "\n",
        "# Hacer que el perro ande\n",
        "mi_perro.andar(5)\n",
        "print(\"Velocidad después de andar:\", mi_perro.velocidad)\n",
        "\n",
        "# Parar al perro\n",
        "mi_perro.parar()\n",
        "print(\"Velocidad después de parar:\", mi_perro.velocidad)\n",
        "\n",
        "# Ladrar\n",
        "print(\"Ladrido:\", mi_perro.ladrar(\"¡Fuera de aquí!\"))\n"
      ]
    }
  ],
  "metadata": {
    "colab": {
      "provenance": []
    },
    "kernelspec": {
      "display_name": "Python 3",
      "language": "python",
      "name": "python3"
    },
    "language_info": {
      "codemirror_mode": {
        "name": "ipython",
        "version": 3
      },
      "file_extension": ".py",
      "mimetype": "text/x-python",
      "name": "python",
      "nbconvert_exporter": "python",
      "pygments_lexer": "ipython3",
      "version": "3.13.0"
    }
  },
  "nbformat": 4,
  "nbformat_minor": 0
}
