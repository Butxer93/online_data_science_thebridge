{
  "cells": [
    {
      "cell_type": "markdown",
      "metadata": {
        "id": "Vgn8837_qzCR"
      },
      "source": [
        "<img src = \"../img/TheBridge_logo.png\" width = 500>\n",
        "<img src = \"../img/python.jpg\" width = 500>"
      ]
    },
    {
      "cell_type": "markdown",
      "metadata": {
        "id": "j1pvX02dqzCT"
      },
      "source": [
        "# Python Basics I"
      ]
    },
    {
      "cell_type": "markdown",
      "metadata": {
        "id": "Du3rpZMcqzCU"
      },
      "source": [
        "## Contenidos"
      ]
    },
    {
      "cell_type": "markdown",
      "metadata": {
        "id": "pJulV6GyqzCU"
      },
      "source": [
        "* [Listas\n",
        "](#Listas\n",
        ")\n"
      ]
    },
    {
      "cell_type": "markdown",
      "metadata": {
        "id": "1vL_hDsLqzCV"
      },
      "source": [
        "## Listas\n",
        "[al indice](#Contenidos)  \n",
        "Se trata de otro de los tipos de datos de Python más usados. Dentro de las colecciones, que veremos más adelante, la lista es la colección que normalmente se le da más uso. **Nos permiten almacenar conjuntos de variables u objetos**, y son elementos de lo más versátiles puesto que podemos almacenar objetos de distintos tipos, modificarlos, eliminarlos, meter listas dentro de listas... Sus dos caractrísticas principales son:\n",
        "* **Mutables**: una vez se ha creado la lista, se puede modificar\n",
        "* **Ordenada**: Los elementos tienen un cierto orden, lo que nos permite acceder al elemento que queramos teniendo en cuenta tal orden\n",
        "\n",
        "En cuanto a su sintaxis, cuando declaremos la lista simplemente hay que separar cada elemento con comas, y rodearlo todo con corchetes."
      ]
    },
    {
      "cell_type": "code",
      "execution_count": 1,
      "metadata": {
        "id": "WlRLeCFHqzCW",
        "outputId": "33e27cc5-1e8d-4e3d-ad7c-1e8e0cef4f52",
        "colab": {
          "base_uri": "https://localhost:8080/"
        }
      },
      "outputs": [
        {
          "output_type": "stream",
          "name": "stdout",
          "text": [
            "[1, 3, 5, 6]\n",
            "<class 'list'>\n"
          ]
        }
      ],
      "source": [
        "# Lista de numeros\n",
        "numeros = [1, 3, 5, 6]\n",
        "print(numeros)\n",
        "print(type(numeros))"
      ]
    },
    {
      "cell_type": "code",
      "execution_count": 2,
      "metadata": {
        "id": "BVHLVquBqzCW",
        "outputId": "2cf2753e-32fc-4cd8-82ca-57d206da6f96",
        "colab": {
          "base_uri": "https://localhost:8080/"
        }
      },
      "outputs": [
        {
          "output_type": "stream",
          "name": "stdout",
          "text": [
            "['Esto', 'es', 'una', 'lista']\n"
          ]
        }
      ],
      "source": [
        "# Lista de strings\n",
        "strings = [\"Esto\", \"es\", \"una\", \"lista\"]\n",
        "print(strings)"
      ]
    },
    {
      "cell_type": "code",
      "source": [
        "# Lista Booleanos\n",
        "booleanos = [True, False, True, True, not False, False and False, True or False]\n",
        "print(booleanos)"
      ],
      "metadata": {
        "id": "uocSNZnArYmt",
        "outputId": "027fa8c8-71ae-4351-de3d-763f9fb31340",
        "colab": {
          "base_uri": "https://localhost:8080/"
        }
      },
      "execution_count": 4,
      "outputs": [
        {
          "output_type": "stream",
          "name": "stdout",
          "text": [
            "[True, False, True, True, True, False, True]\n"
          ]
        }
      ]
    },
    {
      "cell_type": "code",
      "source": [
        "# Lista de tipos mezclados\n",
        "mix = [\"Esto es\", 12, -5, True, False, \"lista\"]\n",
        "print(mix)\n",
        "\n",
        "# Lista dentro de lista\n",
        "listas = [\"Hola\", \"12\", 23, [23, True, False]]\n",
        "print(listas)"
      ],
      "metadata": {
        "id": "Bx7L9V8DruYN",
        "outputId": "8a33b850-98f0-4f87-97c6-961433fec6c4",
        "colab": {
          "base_uri": "https://localhost:8080/"
        }
      },
      "execution_count": 6,
      "outputs": [
        {
          "output_type": "stream",
          "name": "stdout",
          "text": [
            "['Esto es', 12, -5, True, False, 'lista']\n",
            "['Hola', '12', 23, [23, True, False]]\n"
          ]
        }
      ]
    },
    {
      "cell_type": "code",
      "source": [
        "len(listas)"
      ],
      "metadata": {
        "id": "0e0c3Ig3sNTe",
        "outputId": "9485e200-2ca1-4e8a-abfc-7afc5d057562",
        "colab": {
          "base_uri": "https://localhost:8080/"
        }
      },
      "execution_count": 7,
      "outputs": [
        {
          "output_type": "execute_result",
          "data": {
            "text/plain": [
              "4"
            ]
          },
          "metadata": {},
          "execution_count": 7
        }
      ]
    },
    {
      "cell_type": "code",
      "source": [
        "len(mix)"
      ],
      "metadata": {
        "id": "4XjT-ZjNsSx-",
        "outputId": "d55c0db3-926b-40a9-9617-a0d67ee96c8e",
        "colab": {
          "base_uri": "https://localhost:8080/"
        }
      },
      "execution_count": 8,
      "outputs": [
        {
          "output_type": "execute_result",
          "data": {
            "text/plain": [
              "6"
            ]
          },
          "metadata": {},
          "execution_count": 8
        }
      ]
    },
    {
      "cell_type": "code",
      "source": [
        "concatenacion = mix + listas\n",
        "print(concatenacion)\n",
        "print(type(concatenacion))"
      ],
      "metadata": {
        "id": "ajRANDbhsapO",
        "outputId": "aeefe0ba-6917-4df1-bd4c-c4cdd39174d1",
        "colab": {
          "base_uri": "https://localhost:8080/"
        }
      },
      "execution_count": 10,
      "outputs": [
        {
          "output_type": "stream",
          "name": "stdout",
          "text": [
            "['Esto es', 12, -5, True, False, 'lista', 'Hola', '12', 23, [23, True, False]]\n",
            "<class 'list'>\n"
          ]
        }
      ]
    },
    {
      "cell_type": "code",
      "source": [
        "concatenacion2 = listas + mix\n",
        "print(concatenacion2)"
      ],
      "metadata": {
        "id": "k_Qu8ZW5sn_O",
        "outputId": "dac2741a-f948-4e81-b4e0-62a9140d61f5",
        "colab": {
          "base_uri": "https://localhost:8080/"
        }
      },
      "execution_count": 11,
      "outputs": [
        {
          "output_type": "stream",
          "name": "stdout",
          "text": [
            "['Hola', '12', 23, [23, True, False], 'Esto es', 12, -5, True, False, 'lista']\n"
          ]
        }
      ]
    },
    {
      "cell_type": "markdown",
      "metadata": {
        "id": "_IJ-POaSqzCW"
      },
      "source": [
        "**NOTA**: ¿Ves por qué los decimales en Python siempre van con puntos y no con comas? Con las colecciones el intérprete de Python se volvería loco.\n",
        "\n",
        "Podemos ver tambien el tipo de la lista"
      ]
    },
    {
      "cell_type": "code",
      "execution_count": 12,
      "metadata": {
        "id": "A0-Bdv0nqzCX",
        "outputId": "2b8becaf-1ab4-4633-c803-843fd2e0630d",
        "colab": {
          "base_uri": "https://localhost:8080/"
        }
      },
      "outputs": [
        {
          "output_type": "execute_result",
          "data": {
            "text/plain": [
              "list"
            ]
          },
          "metadata": {},
          "execution_count": 12
        }
      ],
      "source": [
        "type(mix)"
      ]
    },
    {
      "cell_type": "markdown",
      "metadata": {
        "id": "KCguhiI0qzCX"
      },
      "source": [
        "Calcular la longitud de la misma mediante el método *built-in* ya visto: `len()`"
      ]
    },
    {
      "cell_type": "code",
      "execution_count": 13,
      "metadata": {
        "id": "LUpTO2_DqzCY",
        "outputId": "c5caa7c2-783a-4fab-ffb4-a3830accbace",
        "colab": {
          "base_uri": "https://localhost:8080/"
        }
      },
      "outputs": [
        {
          "output_type": "execute_result",
          "data": {
            "text/plain": [
              "6"
            ]
          },
          "metadata": {},
          "execution_count": 13
        }
      ],
      "source": [
        "len(mix)"
      ]
    },
    {
      "cell_type": "markdown",
      "metadata": {
        "id": "k_Gkod0NqzCY"
      },
      "source": [
        "Accedemos a los elemenos de la lista mediante corchetes `[]`\n",
        "\n",
        "**Importante**. El primer elemento es el 0"
      ]
    },
    {
      "cell_type": "code",
      "execution_count": 19,
      "metadata": {
        "id": "MuDgVi6QqzCY",
        "outputId": "7d9e05cd-1756-4ab3-aa23-d508cdde2cde",
        "colab": {
          "base_uri": "https://localhost:8080/",
          "height": 245
        }
      },
      "outputs": [
        {
          "output_type": "stream",
          "name": "stdout",
          "text": [
            "Esto\n",
            "nuevo elemento\n",
            "patata\n",
            "3\n"
          ]
        },
        {
          "output_type": "error",
          "ename": "IndexError",
          "evalue": "list index out of range",
          "traceback": [
            "\u001b[0;31m---------------------------------------------------------------------------\u001b[0m",
            "\u001b[0;31mIndexError\u001b[0m                                Traceback (most recent call last)",
            "\u001b[0;32m<ipython-input-19-b3586fd02514>\u001b[0m in \u001b[0;36m<cell line: 0>\u001b[0;34m()\u001b[0m\n\u001b[1;32m      4\u001b[0m \u001b[0mprint\u001b[0m\u001b[0;34m(\u001b[0m\u001b[0mlista_ejemplo\u001b[0m\u001b[0;34m[\u001b[0m\u001b[0;34m-\u001b[0m\u001b[0;36m2\u001b[0m\u001b[0;34m]\u001b[0m\u001b[0;34m)\u001b[0m\u001b[0;34m\u001b[0m\u001b[0;34m\u001b[0m\u001b[0m\n\u001b[1;32m      5\u001b[0m \u001b[0mprint\u001b[0m\u001b[0;34m(\u001b[0m\u001b[0mlista_ejemplo\u001b[0m\u001b[0;34m[\u001b[0m\u001b[0;36m2\u001b[0m\u001b[0;34m]\u001b[0m\u001b[0;34m)\u001b[0m\u001b[0;34m\u001b[0m\u001b[0;34m\u001b[0m\u001b[0m\n\u001b[0;32m----> 6\u001b[0;31m \u001b[0mprint\u001b[0m\u001b[0;34m(\u001b[0m\u001b[0mlista_ejemplo\u001b[0m\u001b[0;34m[\u001b[0m\u001b[0;36m134\u001b[0m\u001b[0;34m]\u001b[0m\u001b[0;34m)\u001b[0m\u001b[0;34m\u001b[0m\u001b[0;34m\u001b[0m\u001b[0m\n\u001b[0m",
            "\u001b[0;31mIndexError\u001b[0m: list index out of range"
          ]
        }
      ],
      "source": [
        "lista_ejemplo = [\"Esto\", 2, 3, \"patata\", \"nuevo elemento\"]\n",
        "print(lista_ejemplo[0])\n",
        "print(lista_ejemplo[-1])\n",
        "print(lista_ejemplo[-2])\n",
        "print(lista_ejemplo[2])\n",
        "print(lista_ejemplo[134])"
      ]
    },
    {
      "cell_type": "markdown",
      "metadata": {
        "id": "HqceY5VcqzCY"
      },
      "source": [
        "### Metodos en Listas\n",
        "Para el tipo de objeto lista, también hay una serie de métodos catacterísticos que nos permiten operar con ellas: añadir valores, quitarlos, indexado, filtrado, etc... En [este enlace](https://www.w3schools.com/python/python_ref_list.asp) puedes encontrar todos los métodos que podrás usar con listas."
      ]
    },
    {
      "cell_type": "code",
      "execution_count": 29,
      "metadata": {
        "id": "XvAh9ZFKqzCY",
        "outputId": "14bed21d-84a3-435f-b266-446515236229",
        "colab": {
          "base_uri": "https://localhost:8080/"
        }
      },
      "outputs": [
        {
          "output_type": "stream",
          "name": "stdout",
          "text": [
            "['fisica', 'quimica', 'matematicas', 'literatura', 'Filosofia']\n",
            "['fisica', 'Educacion Fisica', 'quimica', 'matematicas', 'literatura', 'Filosofia']\n",
            "['fisica', 'quimica', 'matematicas', 'literatura', 'Filosofia']\n",
            "['fisica', 'quimica', 'matematicas', 'literatura']\n",
            "['fisica', 'literatura', 'matematicas', 'quimica']\n",
            "[]\n"
          ]
        }
      ],
      "source": [
        "asignaturas = [\"fisica\", \"quimica\", \"matematicas\", \"literatura\"]\n",
        "\n",
        "# añadir elemento\n",
        "asignaturas.append(\"Filosofia\")\n",
        "print(asignaturas)\n",
        "\n",
        "# añadir elementos en posicion indicada\n",
        "asignaturas.insert(1, \"Educacion Fisica\")\n",
        "print(asignaturas)\n",
        "\n",
        "# quitar un elemento por su indice\n",
        "asignaturas.pop(1)\n",
        "print(asignaturas)\n",
        "\n",
        "# quitamos elemento por su valor\n",
        "asignaturas.remove(\"Filosofia\")\n",
        "print(asignaturas)\n",
        "\n",
        "# ordenar la lista\n",
        "asignaturas.sort()\n",
        "print(asignaturas)\n",
        "\n",
        "# quitar todos los elementos\n",
        "asignaturas.clear()\n",
        "print(asignaturas)"
      ]
    },
    {
      "cell_type": "code",
      "execution_count": 27,
      "metadata": {
        "id": "WlIqJrLJqzCZ",
        "outputId": "8887979c-e00a-4996-b144-cb449487ae5a",
        "colab": {
          "base_uri": "https://localhost:8080/",
          "height": 141
        }
      },
      "outputs": [
        {
          "output_type": "error",
          "ename": "ValueError",
          "evalue": "list.remove(x): x not in list",
          "traceback": [
            "\u001b[0;31m---------------------------------------------------------------------------\u001b[0m",
            "\u001b[0;31mValueError\u001b[0m                                Traceback (most recent call last)",
            "\u001b[0;32m<ipython-input-27-601042c596a7>\u001b[0m in \u001b[0;36m<cell line: 0>\u001b[0;34m()\u001b[0m\n\u001b[0;32m----> 1\u001b[0;31m \u001b[0masignaturas\u001b[0m\u001b[0;34m.\u001b[0m\u001b[0mremove\u001b[0m\u001b[0;34m(\u001b[0m\u001b[0;34m\"Cine\"\u001b[0m\u001b[0;34m)\u001b[0m\u001b[0;34m\u001b[0m\u001b[0;34m\u001b[0m\u001b[0m\n\u001b[0m",
            "\u001b[0;31mValueError\u001b[0m: list.remove(x): x not in list"
          ]
        }
      ],
      "source": [
        "asignaturas.remove(\"Cine\")\n"
      ]
    },
    {
      "cell_type": "code",
      "source": [
        "asignaturas.pop(123)"
      ],
      "metadata": {
        "id": "OUeIB5M9u9l5",
        "outputId": "d294a9f2-a472-4ca9-dc59-a2811ce2e6d0",
        "colab": {
          "base_uri": "https://localhost:8080/",
          "height": 141
        }
      },
      "execution_count": 28,
      "outputs": [
        {
          "output_type": "error",
          "ename": "IndexError",
          "evalue": "pop from empty list",
          "traceback": [
            "\u001b[0;31m---------------------------------------------------------------------------\u001b[0m",
            "\u001b[0;31mIndexError\u001b[0m                                Traceback (most recent call last)",
            "\u001b[0;32m<ipython-input-28-e43e2ba97ef8>\u001b[0m in \u001b[0;36m<cell line: 0>\u001b[0;34m()\u001b[0m\n\u001b[0;32m----> 1\u001b[0;31m \u001b[0masignaturas\u001b[0m\u001b[0;34m.\u001b[0m\u001b[0mpop\u001b[0m\u001b[0;34m(\u001b[0m\u001b[0;36m123\u001b[0m\u001b[0;34m)\u001b[0m\u001b[0;34m\u001b[0m\u001b[0;34m\u001b[0m\u001b[0m\n\u001b[0m",
            "\u001b[0;31mIndexError\u001b[0m: pop from empty list"
          ]
        }
      ]
    },
    {
      "cell_type": "code",
      "execution_count": null,
      "metadata": {
        "id": "8soERM4GqzCZ"
      },
      "outputs": [],
      "source": []
    }
  ],
  "nbformat": 4,
  "nbformat_minor": 0,
  "metadata": {
    "kernelspec": {
      "display_name": "Python 3",
      "language": "python",
      "name": "python3"
    },
    "language_info": {
      "codemirror_mode": {
        "name": "ipython",
        "version": 3
      },
      "file_extension": ".py",
      "mimetype": "text/x-python",
      "name": "python",
      "nbconvert_exporter": "python",
      "pygments_lexer": "ipython3",
      "version": "3.8.3"
    },
    "colab": {
      "provenance": []
    }
  }
}