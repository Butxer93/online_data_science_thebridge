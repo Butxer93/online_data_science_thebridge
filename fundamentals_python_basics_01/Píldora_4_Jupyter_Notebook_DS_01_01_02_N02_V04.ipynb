{
  "cells": [
    {
      "cell_type": "markdown",
      "metadata": {
        "id": "0TWx1mQysz71"
      },
      "source": [
        "<img src=\"../img/TheBridge_logo.png\" width = 500>\n",
        "<img src=\"../img/python.jpg\" width = 500>"
      ]
    },
    {
      "cell_type": "markdown",
      "metadata": {
        "id": "SJZLx68ysz77"
      },
      "source": [
        "# Python Basics I: Print, Comentarios y otros aspectos básicos\n",
        "\n",
        "En este notebook vamos a profundizar un poquito más en el uso de la función print, además de ver cómo usar los comentarios, la importancia del flujo secuencial de ejecución de python y terminaremos con el uso del comando para liberar memoria, `del`."
      ]
    },
    {
      "cell_type": "markdown",
      "metadata": {
        "id": "yQBSE68Asz7_"
      },
      "source": [
        "## Contenidos"
      ]
    },
    {
      "cell_type": "markdown",
      "metadata": {
        "id": "Ri_YEvIFsz7_"
      },
      "source": [
        "* [Print](#Print)\n",
        "* [Comentarios\n",
        "](#Comentarios\n",
        ")\n",
        "* [Flujos de ejecución\n",
        "](#Flujos-de-ejecución\n",
        ")\n",
        "* [Del\n",
        "](#Del\n",
        ")\n"
      ]
    },
    {
      "cell_type": "markdown",
      "metadata": {
        "id": "Sq7AaR0Ksz8A"
      },
      "source": [
        "## Print[al indice](#Contenidos)\n"
      ]
    },
    {
      "cell_type": "markdown",
      "metadata": {
        "id": "VUDSdhRmsz8B"
      },
      "source": [
        "Hasta ahora hemos visto en Jupyter dos tipos de celdas:\n",
        "* **Markdown**: básicamente texto para las explicaciones\n",
        "* **Código**: donde insertamos el código Python y lo ejecutamos\n",
        "\n",
        "Las celdas de código, no solo corren el código y realizan todas las operaciones que le indiquemos, sino que también tienen un output, una salida de ese código. Tenemos dos opciones para ver el output del código, o bien mediante `print`, o poniendo una variable al final de la celda. En este último caso, veremos el valor de esa variable"
      ]
    },
    {
      "cell_type": "code",
      "execution_count": 1,
      "metadata": {
        "id": "bClFVzBrsz8F"
      },
      "outputs": [],
      "source": [
        "ingresos = 1000\n",
        "gastos = 100\n",
        "beneficios = ingresos - gastos"
      ]
    },
    {
      "cell_type": "code",
      "execution_count": 2,
      "metadata": {
        "colab": {
          "base_uri": "https://localhost:8080/"
        },
        "id": "h0oHArOUsz8G",
        "outputId": "0f0a98a1-3591-4c7c-d271-355fdaf57689"
      },
      "outputs": [
        {
          "name": "stdout",
          "output_type": "stream",
          "text": [
            "1000\n",
            "100\n",
            "Los beneficios han sido de:\n",
            "900\n"
          ]
        }
      ],
      "source": [
        "print(ingresos)\n",
        "print(gastos)\n",
        "print(\"Los beneficios han sido de:\")\n",
        "print(beneficios)"
      ]
    },
    {
      "cell_type": "markdown",
      "metadata": {
        "id": "Ztq4hPUGsz8H"
      },
      "source": [
        "Si hacemos un print de un texto, podemos concatenar valores de variables mediante `%s`."
      ]
    },
    {
      "cell_type": "code",
      "execution_count": 5,
      "metadata": {
        "colab": {
          "base_uri": "https://localhost:8080/"
        },
        "id": "9HtC_3Jasz8I",
        "outputId": "58653c0c-9855-4e4b-c6b0-a61991c2e8ee"
      },
      "outputs": [
        {
          "name": "stdout",
          "output_type": "stream",
          "text": [
            "Los beneficios de junio han sido 900 millones\n"
          ]
        }
      ],
      "source": [
        "mes = \"junio\"\n",
        "print(\"Los beneficios de %s han sido %s millones\" %(mes,beneficios))"
      ]
    },
    {
      "cell_type": "code",
      "execution_count": 6,
      "metadata": {
        "colab": {
          "base_uri": "https://localhost:8080/"
        },
        "id": "EI-tlQFBIB-B",
        "outputId": "bf408031-f904-4bfe-a9e7-0f50cac0bcac"
      },
      "outputs": [
        {
          "name": "stdout",
          "output_type": "stream",
          "text": [
            "Los beneficios de 900 han sido junio millones\n"
          ]
        }
      ],
      "source": [
        "print(\"Los beneficios de %s han sido %s millones\" %(beneficios,mes))"
      ]
    },
    {
      "cell_type": "markdown",
      "metadata": {
        "id": "W_OVzYZpsz8J"
      },
      "source": [
        "Otra opcion si queremos imprimir por pantalla varios strings, es separandolos por comas en el `print`. Fíjate que le añade espacios en la salida cada vez que ponemos un valor nuevo entre comas."
      ]
    },
    {
      "cell_type": "code",
      "execution_count": 7,
      "metadata": {
        "colab": {
          "base_uri": "https://localhost:8080/"
        },
        "id": "e7GTTG7Asz8K",
        "outputId": "dfc49776-079e-48ca-ca28-d3f60fb56fd2"
      },
      "outputs": [
        {
          "name": "stdout",
          "output_type": "stream",
          "text": [
            "Los beneficios de agosto han sido 900 millones\n"
          ]
        }
      ],
      "source": [
        "mes = \"agosto\"\n",
        "print(\"Los beneficios de\", mes, \"han sido\", beneficios, \"millones\")"
      ]
    },
    {
      "cell_type": "markdown",
      "metadata": {
        "id": "vdj2DkwVsz8K"
      },
      "source": [
        "## Comentarios\n",
        "[al indice](#Contenidos)\n",
        "Se trata de texto que va junto con el código, y que el intérprete de Python ignora por completo. Muy útil para documentar y explicar el código"
      ]
    },
    {
      "cell_type": "code",
      "execution_count": 8,
      "metadata": {
        "colab": {
          "base_uri": "https://localhost:8080/"
        },
        "id": "tNN4NXBosz8L",
        "outputId": "ab23a8c6-0c46-4bf2-ec5c-870283603d20"
      },
      "outputs": [
        {
          "name": "stdout",
          "output_type": "stream",
          "text": [
            "Esto sí lo ejecutará\n"
          ]
        }
      ],
      "source": [
        "# Comentario de línea\n",
        "# print(\"Esto lo ignora\")\n",
        "\n",
        "print(\"Esto sí lo ejecutará\")"
      ]
    },
    {
      "cell_type": "code",
      "execution_count": 9,
      "metadata": {
        "colab": {
          "base_uri": "https://localhost:8080/"
        },
        "id": "xAMl3XMZsz8L",
        "outputId": "d8431ccd-088a-4a59-cdf5-bed34b001615"
      },
      "outputs": [
        {
          "name": "stdout",
          "output_type": "stream",
          "text": [
            "Fin del programa\n"
          ]
        }
      ],
      "source": [
        "print(\"Fin del programa\") # Esta línea indica que hemos terminado"
      ]
    },
    {
      "cell_type": "code",
      "execution_count": 10,
      "metadata": {
        "colab": {
          "base_uri": "https://localhost:8080/"
        },
        "id": "kLfdySz4sz8M",
        "outputId": "c9b5f3ba-42d1-4332-84a4-9ff2318a597d"
      },
      "outputs": [
        {
          "name": "stdout",
          "output_type": "stream",
          "text": [
            "Este print sí se va a ejecutar\n"
          ]
        }
      ],
      "source": [
        "'''\n",
        "Comentario multilínea\n",
        "Puedo usar varias líneas sin tener que repetir el #\n",
        "'''\n",
        "\n",
        "\"\"\"\n",
        "Los comentarios multilínea pueden ir\n",
        "entre comillas dobles, y tampoco se ejecutan o interpretan\n",
        "este\n",
        "print(\"No se va a ejecutar\")\n",
        "\"\"\"\n",
        "print(\"Este print sí se va a ejecutar\")"
      ]
    },
    {
      "cell_type": "code",
      "execution_count": null,
      "metadata": {
        "id": "mKjNNl9usz8M"
      },
      "outputs": [],
      "source": []
    },
    {
      "cell_type": "markdown",
      "metadata": {
        "id": "YjKKvIcvsz8N"
      },
      "source": [
        "**IMPORTATE**. SIEMPRE comentar el código. Nunca sabes quién lo puede heredar. Te dejo en [este link](https://realpython.com/python-comments-guide/) una guía interesante sobre cómo comentar tu código."
      ]
    },
    {
      "cell_type": "markdown",
      "metadata": {
        "id": "DvY8MqBFsz8P"
      },
      "source": [
        "## Flujos de ejecución\n",
        "[al indice](#Contenidos)\n",
        "Los programas de Python se ejecutan secuencialmente, por lo que el orden en el que escribas las operaciones es determinante"
      ]
    },
    {
      "cell_type": "code",
      "execution_count": 11,
      "metadata": {
        "colab": {
          "base_uri": "https://localhost:8080/",
          "height": 193
        },
        "id": "fQLF5Hi9sz8Q",
        "outputId": "3f358739-d6d9-4edc-9829-636bf98894de"
      },
      "outputs": [
        {
          "ename": "NameError",
          "evalue": "name 'ventas_junio' is not defined",
          "output_type": "error",
          "traceback": [
            "\u001b[0;31m---------------------------------------------------------------------------\u001b[0m",
            "\u001b[0;31mNameError\u001b[0m                                 Traceback (most recent call last)",
            "\u001b[0;32m<ipython-input-11-0ced889b7918>\u001b[0m in \u001b[0;36m<cell line: 0>\u001b[0;34m()\u001b[0m\n\u001b[0;32m----> 1\u001b[0;31m \u001b[0mventas_jun_jul\u001b[0m \u001b[0;34m=\u001b[0m \u001b[0mventas_junio\u001b[0m \u001b[0;34m+\u001b[0m \u001b[0mventas_julio\u001b[0m\u001b[0;34m\u001b[0m\u001b[0;34m\u001b[0m\u001b[0m\n\u001b[0m\u001b[1;32m      2\u001b[0m \u001b[0;34m\u001b[0m\u001b[0m\n\u001b[1;32m      3\u001b[0m \u001b[0mventas_junio\u001b[0m \u001b[0;34m=\u001b[0m \u001b[0;36m100\u001b[0m\u001b[0;34m\u001b[0m\u001b[0;34m\u001b[0m\u001b[0m\n\u001b[1;32m      4\u001b[0m \u001b[0mventas_julio\u001b[0m \u001b[0;34m=\u001b[0m \u001b[0;36m150\u001b[0m\u001b[0;34m\u001b[0m\u001b[0;34m\u001b[0m\u001b[0m\n",
            "\u001b[0;31mNameError\u001b[0m: name 'ventas_junio' is not defined"
          ]
        }
      ],
      "source": [
        "ventas_jun_jul = ventas_junio + ventas_julio\n",
        "\n",
        "ventas_junio = 100\n",
        "ventas_julio = 150"
      ]
    },
    {
      "cell_type": "code",
      "execution_count": 12,
      "metadata": {
        "colab": {
          "base_uri": "https://localhost:8080/",
          "height": 141
        },
        "id": "bHDb4Wu0sz8R",
        "outputId": "794fa52d-492d-4547-c0a9-12733f5fa2e0"
      },
      "outputs": [
        {
          "ename": "NameError",
          "evalue": "name 'ventas_junio' is not defined",
          "output_type": "error",
          "traceback": [
            "\u001b[0;31m---------------------------------------------------------------------------\u001b[0m",
            "\u001b[0;31mNameError\u001b[0m                                 Traceback (most recent call last)",
            "\u001b[0;32m<ipython-input-12-a5a41b63b28a>\u001b[0m in \u001b[0;36m<cell line: 0>\u001b[0;34m()\u001b[0m\n\u001b[0;32m----> 1\u001b[0;31m \u001b[0mventas_junio\u001b[0m\u001b[0;34m\u001b[0m\u001b[0;34m\u001b[0m\u001b[0m\n\u001b[0m",
            "\u001b[0;31mNameError\u001b[0m: name 'ventas_junio' is not defined"
          ]
        }
      ],
      "source": [
        "ventas_junio"
      ]
    },
    {
      "cell_type": "markdown",
      "metadata": {
        "id": "AQad9bd5sz8R"
      },
      "source": [
        "**Da error**, primero tenemos que declarar las ventas, y luego sumarlas.\n"
      ]
    },
    {
      "cell_type": "code",
      "execution_count": 13,
      "metadata": {
        "id": "8eK59bISsz8S"
      },
      "outputs": [],
      "source": [
        "ventas_junio = 100\n",
        "ventas_julio = 150\n",
        "\n",
        "ventas_jun_jul = ventas_junio + ventas_julio"
      ]
    },
    {
      "cell_type": "code",
      "execution_count": 15,
      "metadata": {
        "colab": {
          "base_uri": "https://localhost:8080/"
        },
        "id": "XO7AF3QyLA0k",
        "outputId": "edeb5f85-ba73-44bc-c915-c350498f8afa"
      },
      "outputs": [
        {
          "name": "stdout",
          "output_type": "stream",
          "text": [
            "Las ventas de Junio a Julio son 250\n"
          ]
        }
      ],
      "source": [
        "print(\"Las ventas de Junio a Julio son\",ventas_jun_jul)"
      ]
    },
    {
      "cell_type": "markdown",
      "metadata": {
        "id": "RpiNY_DDsz8T"
      },
      "source": [
        "\n",
        "**¿Cuándo acaba una línea de código?**. El salto de línea lo interpreta Python como una nueva instrucción. En muchos lengujes, como Java hay que especificar el fin de la sentencia de código mediante `;`. En Python no es necesario, aunque se puede usar igualmente."
      ]
    },
    {
      "cell_type": "code",
      "execution_count": 17,
      "metadata": {
        "colab": {
          "base_uri": "https://localhost:8080/"
        },
        "id": "1Y36Th3asz8U",
        "outputId": "5413a53b-5330-47da-e3f9-2271b3dc2819"
      },
      "outputs": [
        {
          "name": "stdout",
          "output_type": "stream",
          "text": [
            "1.8 75\n"
          ]
        }
      ],
      "source": [
        "altura = 1.80; peso = 75\n",
        "print(altura,peso)"
      ]
    },
    {
      "cell_type": "code",
      "execution_count": 18,
      "metadata": {
        "id": "DeNp6TuOsz8V"
      },
      "outputs": [],
      "source": [
        "x,y,z = 12, 23, 45"
      ]
    },
    {
      "cell_type": "code",
      "execution_count": 19,
      "metadata": {
        "id": "NJZR8fu3OvGx"
      },
      "outputs": [],
      "source": [
        "x = 12\n",
        "y = 23\n",
        "z = 45"
      ]
    },
    {
      "cell_type": "markdown",
      "metadata": {
        "id": "05D06kawsz8V"
      },
      "source": [
        "## Del\n",
        "[al indice](#Contenidos)\n",
        "Es la sentencia que usaremos para borrar una variable. La verdad, no se suelen borrar variables. Vamos desarrollando los programas de Python sin preocuparnos de limpiar aquellas variables que no usamos. Normalmente no borrarlas no suele ser un problema, pero cuando manejamos un gran volumen de datos, podemos sufrir problemas de rendimiento ya que **las variables ocupan memoria**.\n",
        "\n",
        "Cuando las variables son las que hemos visto hasta ahora, no pasa nada, pero si son más pesadas, como por ejemplo datasets de imágenes que ocupan mucho, sí va a venir bien eliminar aquellas que no usemos."
      ]
    },
    {
      "cell_type": "code",
      "execution_count": 20,
      "metadata": {
        "colab": {
          "base_uri": "https://localhost:8080/",
          "height": 176
        },
        "id": "iw3UNr4xsz8W",
        "outputId": "94e9f8ff-8c60-4037-a007-06864b7a5cc3"
      },
      "outputs": [
        {
          "ename": "NameError",
          "evalue": "name 'altura' is not defined",
          "output_type": "error",
          "traceback": [
            "\u001b[0;31m---------------------------------------------------------------------------\u001b[0m",
            "\u001b[0;31mNameError\u001b[0m                                 Traceback (most recent call last)",
            "\u001b[0;32m<ipython-input-20-74ef05cb5b7b>\u001b[0m in \u001b[0;36m<cell line: 0>\u001b[0;34m()\u001b[0m\n\u001b[1;32m      1\u001b[0m \u001b[0maltura\u001b[0m \u001b[0;34m=\u001b[0m \u001b[0;36m1.85\u001b[0m\u001b[0;34m\u001b[0m\u001b[0;34m\u001b[0m\u001b[0m\n\u001b[1;32m      2\u001b[0m \u001b[0;32mdel\u001b[0m \u001b[0maltura\u001b[0m\u001b[0;34m\u001b[0m\u001b[0;34m\u001b[0m\u001b[0m\n\u001b[0;32m----> 3\u001b[0;31m \u001b[0mprint\u001b[0m\u001b[0;34m(\u001b[0m\u001b[0maltura\u001b[0m\u001b[0;34m)\u001b[0m\u001b[0;34m\u001b[0m\u001b[0;34m\u001b[0m\u001b[0m\n\u001b[0m",
            "\u001b[0;31mNameError\u001b[0m: name 'altura' is not defined"
          ]
        }
      ],
      "source": [
        "altura = 1.85\n",
        "del altura\n",
        "print(altura)"
      ]
    },
    {
      "cell_type": "code",
      "execution_count": null,
      "metadata": {
        "id": "7GNp56rysz8Y"
      },
      "outputs": [],
      "source": []
    }
  ],
  "metadata": {
    "colab": {
      "provenance": []
    },
    "kernelspec": {
      "display_name": "Python 3.7.4 64-bit",
      "language": "python",
      "name": "python3"
    },
    "language_info": {
      "codemirror_mode": {
        "name": "ipython",
        "version": 3
      },
      "file_extension": ".py",
      "mimetype": "text/x-python",
      "name": "python",
      "nbconvert_exporter": "python",
      "pygments_lexer": "ipython3",
      "version": "3.11.4"
    },
    "nbTranslate": {
      "displayLangs": [
        "*"
      ],
      "hotkey": "alt-t",
      "langInMainMenu": true,
      "sourceLang": "en",
      "targetLang": "fr",
      "useGoogleTranslate": true
    },
    "varInspector": {
      "cols": {
        "lenName": 16,
        "lenType": 16,
        "lenVar": 40
      },
      "kernels_config": {
        "python": {
          "delete_cmd_postfix": "",
          "delete_cmd_prefix": "del ",
          "library": "var_list.py",
          "varRefreshCmd": "print(var_dic_list())"
        },
        "r": {
          "delete_cmd_postfix": ") ",
          "delete_cmd_prefix": "rm(",
          "library": "var_list.r",
          "varRefreshCmd": "cat(var_dic_list()) "
        }
      },
      "types_to_exclude": [
        "module",
        "function",
        "builtin_function_or_method",
        "instance",
        "_Feature"
      ],
      "window_display": false
    }
  },
  "nbformat": 4,
  "nbformat_minor": 0
}
