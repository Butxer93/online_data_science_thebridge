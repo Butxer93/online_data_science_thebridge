{
 "cells": [
  {
   "cell_type": "markdown",
   "id": "d1eda024",
   "metadata": {},
   "source": [
    "# 🧠 Proyecto de final de módulo\n",
    "\n",
    "En este proyecto final recopilaremos los conocimientos adquiridos durante este primer módulo y nos centraremos en las habilidades de los distintos roles implicados en la construcción y análisis de los conjuntos de datos. Dentro del ciclo de vida del dato nos hemos centrado en tres aspectos clave:\n",
    "\n",
    "* 🔧 **Data Engineering**: Construir conjuntos de datos acorde a las necesidades de nuestro negocio. Empleando herramientas como Python y todas sus extensiones, webscrapping y consultas de APIs. Junto con SQL y ser capaz de modelar tablas en nuestro destino, podemos organizar la información para que no solo sea útil hoy sino en el futuro de nuestro negocio.\n",
    "* 🔍 **Data Scientist**: Ser capaz de analizar los datos para entender su correcta construcción, población que representan nuestras muestras. Posibles problemas y sesgos implicados en la recolección de los datos, etc. Empleando similares herramientas pero enfocado en paquetes clave (Jupyter, Pandas, Numpy, Plotly) podemos crear evidencias que nos lleven a una mejor comprensión del contexto de los datos.\n",
    "* 📊 **Data Analyst**: Ser capaz de condensar toda la información presente en nuestro sistema y presentársela a usuarios clave de forma que el mensaje sea claro y conciso, atractivo y lo menos sesgado posible. Para ello, las herramientas clave serán las plataformas de BI y las bases de datos que soportarán las operaciones requeridas por estas soluciones.\n",
    "\n",
    "Para poner a prueba nuestras habilidades en estos roles tomaremos como punto de partida los datos accesibles en multitud de plataformas sobre las **elecciones europeas** . \n",
    "\n",
    "#### Nuestro empleador requiere que analicemos los datos obtenidos para entender el contexto político y las posibles tendencias que puedan surgir de cara a las próximas elecciones tanto europeas como locales."
   ]
  },
  {
   "cell_type": "code",
   "execution_count": 3,
   "id": "a0a591f3",
   "metadata": {},
   "outputs": [],
   "source": [
    "# importamos las librerías necesarias:\n",
    "import pandas as pd\n",
    "from sqlalchemy import create_engine\n",
    "import numpy as np\n",
    "import csv\n",
    "from io import StringIO"
   ]
  },
  {
   "cell_type": "markdown",
   "id": "044eac89",
   "metadata": {},
   "source": [
    "Construiremos nuestra Base de Datos MySQL en el servidor de [Aiven](https://aiven.io/)."
   ]
  },
  {
   "cell_type": "code",
   "execution_count": null,
   "id": "0230e807",
   "metadata": {},
   "outputs": [],
   "source": [
    "# Conectamos con el servidor:\n",
    "\n",
    "engine = create_engine(f\"mysql+pymysql://{user}:{password}@{host}:{port}/{db}\")\n",
    "con = engine.connect()\n",
    "\n",
    "# Pese a que en su origen no aparezca, es necesario añadir el \"+pymysql\", y recomendable borrar los carácteres tras el nombre de la base de datos!"
   ]
  },
  {
   "cell_type": "markdown",
   "id": "dd959792",
   "metadata": {},
   "source": [
    "Y más adelante, tras el proceso de **Data Scientist**, crearemos y gestionaremos las tablas mediante la herramienta [DBeaver](https://dbeaver.com/) tras importarlas.  \n",
    "  \n",
    "La seccion final (**Data Analyst**) constara de cuatro versiones o análisis realizados en base a los cuales se realizarán distintos procesos de busqueda y limpieza de datos. Dichas fases serán las siguientes:  \n",
    "+ **V1: Datos actuales generales y nacionales**\n",
    "+ **V2: Comparación con el pasado**\n",
    "+ **V3: Comparación económica (PIB per capita), top1 vs bottom1**\n",
    "+ **V4: Comparación autonómica vs nacional**"
   ]
  },
  {
   "cell_type": "markdown",
   "id": "385421a8",
   "metadata": {},
   "source": [
    "## 🔧 **Data Engineering**  \n",
    "\n",
    "Comencemos por recopilar datos para la primera versión o análisis. Para ello, usaremos como fuente de información, [la plataforma de la UE](https://results.elections.europa.eu/es/), la cual nos servirá también para obtener los datos necesarios para las segunda y tercera versiones o análisis.  \n",
    "\n",
    "Estructura de los csv que descargar de dicha plataforma (sin relaciones aún), tras un primer vistazo:  \n",
    "![tablas y contenido](./img/diagrama_es_2024.png)  \n",
    "  \n",
    "Todas las columnas de \"update_status\" y \"update_time\" son irrelevantes de cara a análisis, por lo que las eliminaremos durante el proceso de limpieza de datos (sección Data Scientist). Además, podrían venir bien un par de tablas extra, en las que especifiquemos los valores de los \"languaje_id\", \"country_id\" y \"division_id\", asignando a dichas columnas como claves foráneas."
   ]
  },
  {
   "cell_type": "markdown",
   "id": "6d3f0279",
   "metadata": {},
   "source": [
    "Para la cuarta versión o análisis, es decir, la relacionada con los datos locales, usaremos los siguientes datos: [Datos de Euskadi](https://datos.gob.es/es/catalogo?q=elecciones+europeas&sort=score+desc%2C+metadata_created+desc), cuya estructura es muy desapropiada para un .csv común:  \n",
    "    \n",
    "![imagen csv euskadi](./img/eus.png)"
   ]
  },
  {
   "cell_type": "markdown",
   "id": "bd51f59a",
   "metadata": {},
   "source": [
    "## 🔍 **Data Scientist**\n",
    "#### En la primera versión de la entrega, nos centraremos en un espectro general de la Union y en el nacional."
   ]
  },
  {
   "cell_type": "code",
   "execution_count": null,
   "id": "b81ce71f",
   "metadata": {},
   "outputs": [
    {
     "name": "stdout",
     "output_type": "stream",
     "text": [
      "10\n"
     ]
    }
   ],
   "source": [
    "groups = pd.read_csv(\"data/groups.csv\", sep=\";\", index_col=False)\n",
    "print(groups[\"ID\"].unique().__len__())"
   ]
  },
  {
   "cell_type": "code",
   "execution_count": null,
   "id": "cc26e404",
   "metadata": {},
   "outputs": [
    {
     "name": "stdout",
     "output_type": "stream",
     "text": [
      "9\n"
     ]
    }
   ],
   "source": [
    "parlamento = pd.read_csv(\"data/eu.csv\", sep=\";\", index_col=False)\n",
    "print(parlamento[\"GROUP_ID\"].unique().__len__())"
   ]
  },
  {
   "cell_type": "markdown",
   "id": "3affde6a",
   "metadata": {},
   "source": [
    "Parece que existe un grupo o coalición sin asientos en el parlamento europeo. Por ello también crearemos una tabla de clave primaria para múltiples claves foráneas de otras tablas."
   ]
  },
  {
   "cell_type": "code",
   "execution_count": null,
   "id": "9dbc4f6e",
   "metadata": {},
   "outputs": [
    {
     "name": "stdout",
     "output_type": "stream",
     "text": [
      "['EPP' 'SD' 'ECR' 'Renew' 'Theleft' 'GREENSEFA' 'PfE' 'ESN' 'NI' 'Others']\n"
     ]
    }
   ],
   "source": [
    "grupos = groups[\"ID\"].unique()\n",
    "print(grupos)"
   ]
  },
  {
   "cell_type": "markdown",
   "id": "50b75570",
   "metadata": {},
   "source": [
    "Tenemos identificadas las coaliciones politicas.  \n",
    "  \n",
    "Vamos a por las regiones o divisiones europeas!"
   ]
  },
  {
   "cell_type": "code",
   "execution_count": null,
   "id": "29e929f3",
   "metadata": {},
   "outputs": [],
   "source": [
    "parties = pd.read_csv(\"data/parties.csv\", sep=\";\", index_col=False)\n",
    "parties_copia = parties.copy()\n"
   ]
  },
  {
   "cell_type": "code",
   "execution_count": null,
   "id": "bffde7e7",
   "metadata": {},
   "outputs": [
    {
     "name": "stdout",
     "output_type": "stream",
     "text": [
      "30\n"
     ]
    }
   ],
   "source": [
    "print(parties[\"DIVISION_ID\"].unique().__len__()) \n",
    "# 30 divisiones/países pero sólo hay 27 Estados miembros de UE! A identificar los sobrantes y eliminarlos!\n",
    "\n",
    "# FBE (European Banking Federation)\n",
    "# GBE (Governing Body Endorsement)\n",
    "# WBE (Dirección General de Presupuesto, o DG BUDG)"
   ]
  },
  {
   "cell_type": "code",
   "execution_count": null,
   "id": "cebe8970",
   "metadata": {},
   "outputs": [
    {
     "name": "stdout",
     "output_type": "stream",
     "text": [
      "27\n"
     ]
    }
   ],
   "source": [
    "valores_a_eliminar = [\"FBE\", \"GBE\", \"WBE\"]\n",
    "parties_copia = parties_copia[~parties_copia[\"DIVISION_ID\"].isin(valores_a_eliminar)]\n",
    "print(parties_copia[\"DIVISION_ID\"].unique().__len__())"
   ]
  },
  {
   "cell_type": "code",
   "execution_count": null,
   "id": "8ab6d30d",
   "metadata": {},
   "outputs": [
    {
     "name": "stdout",
     "output_type": "stream",
     "text": [
      "['BE' 'BG' 'CZ' 'DK' 'DE' 'EE' 'IE' 'EL' 'ES' 'FR' 'IT' 'CY' 'LV' 'LT'\n",
      " 'LU' 'HU' 'MT' 'NL' 'AT' 'PL' 'PT' 'RO' 'SI' 'SK' 'FI' 'SE' 'HR']\n"
     ]
    }
   ],
   "source": [
    "divisiones = parties_copia[\"DIVISION_ID\"].unique()\n",
    "print(divisiones)"
   ]
  },
  {
   "cell_type": "markdown",
   "id": "d7ba969f",
   "metadata": {},
   "source": [
    "Ya tenemos la lista de Estados Miembro de la Unión Europea!\n",
    "Desde [este enlace](https://vlex.es/vid/abreviaturas-oficiales-paises-union-591203078) conseguimos los nombres de los países de cada abreviatura, y de ahí crearemos una lista con la que poder completar nuestra tabla de divisiones (ID, NAME)"
   ]
  },
  {
   "cell_type": "code",
   "execution_count": null,
   "id": "8a7284ce",
   "metadata": {},
   "outputs": [],
   "source": [
    "nombres = [\"Belgica\", \"Bulgaria\", \"Republica Checa\", \"Dinamarca\", \"Alemania\", \"Estonia\", \"Irlanda\", \"Grecia\", \"Espanya\", \"Francia\", \"Italia\", \"Chipre\", \"Letonia\", \"Lituania\", \"Luxemburgo\", \"Hungria\", \"Malta\", \"Paises Bajos\", \"Austria\", \"Polonia\", \"Portugal\", \"Rumania\", \"Eslovenia\", \"Eslovaquia\", \"Finlandia\", \"Suecia\", \"Croacia\"]"
   ]
  },
  {
   "cell_type": "code",
   "execution_count": null,
   "id": "2c2305f3",
   "metadata": {},
   "outputs": [
    {
     "name": "stdout",
     "output_type": "stream",
     "text": [
      "[{'ID': 'BE', 'NAME': 'Belgica'}, {'ID': 'BG', 'NAME': 'Bulgaria'}, {'ID': 'CZ', 'NAME': 'Republica Checa'}, {'ID': 'DK', 'NAME': 'Dinamarca'}, {'ID': 'DE', 'NAME': 'Alemania'}, {'ID': 'EE', 'NAME': 'Estonia'}, {'ID': 'IE', 'NAME': 'Irlanda'}, {'ID': 'EL', 'NAME': 'Grecia'}, {'ID': 'ES', 'NAME': 'Espanya'}, {'ID': 'FR', 'NAME': 'Francia'}, {'ID': 'IT', 'NAME': 'Italia'}, {'ID': 'CY', 'NAME': 'Chipre'}, {'ID': 'LV', 'NAME': 'Letonia'}, {'ID': 'LT', 'NAME': 'Lituania'}, {'ID': 'LU', 'NAME': 'Luxemburgo'}, {'ID': 'HU', 'NAME': 'Hungria'}, {'ID': 'MT', 'NAME': 'Malta'}, {'ID': 'NL', 'NAME': 'Paises Bajos'}, {'ID': 'AT', 'NAME': 'Austria'}, {'ID': 'PL', 'NAME': 'Polonia'}, {'ID': 'PT', 'NAME': 'Portugal'}, {'ID': 'RO', 'NAME': 'Rumania'}, {'ID': 'SI', 'NAME': 'Eslovenia'}, {'ID': 'SK', 'NAME': 'Eslovaquia'}, {'ID': 'FI', 'NAME': 'Finlandia'}, {'ID': 'SE', 'NAME': 'Suecia'}, {'ID': 'HR', 'NAME': 'Croacia'}]\n"
     ]
    }
   ],
   "source": [
    "division = [{\"ID\": i, \"NAME\": n} for i, n in zip(divisiones, nombres)]\n",
    "print(division)"
   ]
  },
  {
   "cell_type": "markdown",
   "id": "829d4ab6",
   "metadata": {},
   "source": [
    "Al igual que con los países, para identificar los idiomas y sus abreviaturas necesitaremos información externa, concretamente de [este enlace](https://omegat.sourceforge.io/manual-latest/es/appendix.languages.html)."
   ]
  },
  {
   "cell_type": "code",
   "execution_count": null,
   "id": "adb61a98",
   "metadata": {},
   "outputs": [
    {
     "name": "stdout",
     "output_type": "stream",
     "text": [
      "24\n"
     ]
    }
   ],
   "source": [
    "language = pd.read_csv(\"data/labels.csv\", sep=\";\")\n",
    "print(language[\"LANGUAGE_ID\"].unique().__len__()) # 24 idiomas"
   ]
  },
  {
   "cell_type": "code",
   "execution_count": null,
   "id": "cf8cf668",
   "metadata": {},
   "outputs": [
    {
     "name": "stdout",
     "output_type": "stream",
     "text": [
      "['BG' 'ES' 'CS' 'DA' 'DE' 'ET' 'EL' 'EN' 'FR' 'GA' 'HR' 'IT' 'LV' 'LT'\n",
      " 'HU' 'MT' 'NL' 'PL' 'PT' 'RO' 'SK' 'SL' 'FI' 'SV']\n"
     ]
    }
   ],
   "source": [
    "idiomas = language[\"LANGUAGE_ID\"].unique()\n",
    "print(idiomas)"
   ]
  },
  {
   "cell_type": "code",
   "execution_count": null,
   "id": "019de142",
   "metadata": {},
   "outputs": [],
   "source": [
    "nom_idi = [\"Bulgaro\", \"Espanyol\", \"Checo\", \"Danes\", \"Aleman\", \"Estonio\", \"Griego Moderno\", \"Ingles\", \"Frances\", \"Irlandes\", \"Croata\", \"Italiano\", \"Leton\", \"Lituano\", \"Hungaro\", \"Maltes\", \"Holandes\", \"Polaco\", \"Portugues\", \"Rumano\", \"Eslovaco\", \"Esloveno\", \"Finlandes\", \"Sueco\"]"
   ]
  },
  {
   "cell_type": "code",
   "execution_count": null,
   "id": "54c2187e",
   "metadata": {},
   "outputs": [
    {
     "name": "stdout",
     "output_type": "stream",
     "text": [
      "[{'ID': 'BG', 'NAME': 'Bulgaro'}, {'ID': 'ES', 'NAME': 'Espanyol'}, {'ID': 'CS', 'NAME': 'Checo'}, {'ID': 'DA', 'NAME': 'Danes'}, {'ID': 'DE', 'NAME': 'Aleman'}, {'ID': 'ET', 'NAME': 'Estonio'}, {'ID': 'EL', 'NAME': 'Griego Moderno'}, {'ID': 'EN', 'NAME': 'Ingles'}, {'ID': 'FR', 'NAME': 'Frances'}, {'ID': 'GA', 'NAME': 'Irlandes'}, {'ID': 'HR', 'NAME': 'Croata'}, {'ID': 'IT', 'NAME': 'Italiano'}, {'ID': 'LV', 'NAME': 'Leton'}, {'ID': 'LT', 'NAME': 'Lituano'}, {'ID': 'HU', 'NAME': 'Hungaro'}, {'ID': 'MT', 'NAME': 'Maltes'}, {'ID': 'NL', 'NAME': 'Holandes'}, {'ID': 'PL', 'NAME': 'Polaco'}, {'ID': 'PT', 'NAME': 'Portugues'}, {'ID': 'RO', 'NAME': 'Rumano'}, {'ID': 'SK', 'NAME': 'Eslovaco'}, {'ID': 'SL', 'NAME': 'Esloveno'}, {'ID': 'FI', 'NAME': 'Finlandes'}, {'ID': 'SV', 'NAME': 'Sueco'}]\n"
     ]
    }
   ],
   "source": [
    "language = [{\"ID\": i, \"NAME\": n} for i, n in zip(idiomas, nom_idi)]\n",
    "print(language)"
   ]
  },
  {
   "cell_type": "markdown",
   "id": "c6b3c3d6",
   "metadata": {},
   "source": [
    "Ya tenemos la lista de idiomas a los que se traducen los documentos en la Unión Europea!  \n",
    "   \n",
    "Ahora creemos nuestras nuevas tablas para tras todo el proceso de limpieza y ajuste de datos, poder importarlas al DBeaver."
   ]
  },
  {
   "cell_type": "code",
   "execution_count": null,
   "id": "52c136ea",
   "metadata": {},
   "outputs": [],
   "source": [
    "# Las divisiones/países de la Unión:\n",
    "\n",
    "with open(\"./data_final/division.csv\", \"w\", newline=\"\") as csvfile:\n",
    "    fieldnames = [\"ID\", \"NAME\"]\n",
    "    writer = csv.DictWriter(csvfile, fieldnames=fieldnames)\n",
    "\n",
    "    writer.writeheader()\n",
    "    writer.writerows(division)"
   ]
  },
  {
   "cell_type": "code",
   "execution_count": null,
   "id": "1a929986",
   "metadata": {},
   "outputs": [],
   "source": [
    "# Las idiomas de la Unión:\n",
    "\n",
    "with open(\"./data_final/language.csv\", \"w\", newline=\"\") as csvfile:\n",
    "    fieldnames = [\"ID\", \"NAME\"]\n",
    "    writer = csv.DictWriter(csvfile, fieldnames=fieldnames)\n",
    "\n",
    "    writer.writeheader()\n",
    "    writer.writerows(language)\n"
   ]
  },
  {
   "cell_type": "markdown",
   "id": "1259d7e5",
   "metadata": {},
   "source": [
    "Una vez creadas las que serán 3 de nuestras tablas base, vayamos adecuando las demás. Como dijimos en la sección anterior, existen en varias tablas (eu, turnout-eu, turnout-country, pais-result-parties, pais-groups y pais-parties) 2 columnas sin importancia para el análisis, por lo que nos desprenderemos de ellas en las próximas celdas."
   ]
  },
  {
   "cell_type": "code",
   "execution_count": null,
   "id": "d69ca926",
   "metadata": {},
   "outputs": [],
   "source": [
    "# tabla eu\n",
    "\n",
    "df = pd.read_csv(\"./data/eu.csv\", sep=\";\")\n",
    "\n",
    "columnas_deseadas = [\"GROUP_ID\", \"SEATS_TOTAL\", \"SEATS_PERCENT_EU\"]\n",
    "df_filtrado = df[columnas_deseadas]\n",
    "\n",
    "df_filtrado.to_csv(\"./data_final/eu.csv\", index=False)"
   ]
  },
  {
   "cell_type": "code",
   "execution_count": null,
   "id": "00d1c98d",
   "metadata": {},
   "outputs": [],
   "source": [
    "# tabla turnout-eu\n",
    "\n",
    "df = pd.read_csv(\"./data/turnout-eu.csv\", sep=\";\")\n",
    "\n",
    "columnas_deseadas = [\"YEAR\", \"RATE\"]\n",
    "df_filtrado = df[columnas_deseadas]\n",
    "\n",
    "df_filtrado.to_csv(\"./data_final/turnout-eu.csv\", index=False)"
   ]
  },
  {
   "cell_type": "code",
   "execution_count": null,
   "id": "7ebbd19c",
   "metadata": {},
   "outputs": [],
   "source": [
    "# tabla turnout-country\n",
    "\n",
    "df = pd.read_csv(\"./data/turnout-country.csv\", sep=\";\")\n",
    "\n",
    "columnas_deseadas = [\"YEAR\", \"COUNTRY_ID\", \"RATE\"]\n",
    "df_filtrado = df[columnas_deseadas]\n",
    "\n",
    "df_filtrado.to_csv(\"./data_final/turnout-country.csv\")"
   ]
  },
  {
   "cell_type": "code",
   "execution_count": null,
   "id": "9b79544f",
   "metadata": {},
   "outputs": [],
   "source": [
    "# tabla es-results-parties\n",
    "\n",
    "df = pd.read_csv(\"./data/es-results-parties.csv\", sep=\";\")\n",
    "\n",
    "columnas_deseadas = [\"PARTY_ID\", \"TYPE\", \"VOTES_PERCENT\"]\n",
    "df_filtrado = df[columnas_deseadas]\n",
    "\n",
    "df_filtrado.to_csv(\"./data_final/es-results-parties.csv\", index=False)"
   ]
  },
  {
   "cell_type": "code",
   "execution_count": null,
   "id": "a601250e",
   "metadata": {},
   "outputs": [],
   "source": [
    "# tabla es-parties\n",
    "\n",
    "df = pd.read_csv(\"./data/es-parties.csv\", sep=\";\")\n",
    "\n",
    "columnas_deseadas = [\"PARTY_ID\", \"TYPE\", \"SEATS_TOTAL\", \"GROUP_ID\"]\n",
    "df_filtrado = df[columnas_deseadas]\n",
    "\n",
    "df_filtrado.to_csv(\"./data_final/es-parties.csv\")"
   ]
  },
  {
   "cell_type": "code",
   "execution_count": null,
   "id": "b9029732",
   "metadata": {},
   "outputs": [],
   "source": [
    "# tabla es-groups\n",
    "\n",
    "df = pd.read_csv(\"./data/es-groups.csv\", sep=\";\")\n",
    "\n",
    "columnas_deseadas = [\"GROUP_ID\", \"SEATS_TOTAL\", \"SEATS_PERCENT_EU\"]\n",
    "df_filtrado = df[columnas_deseadas]\n",
    "\n",
    "df_filtrado.to_csv(\"./data_final/es-groups.csv\", index=False)"
   ]
  },
  {
   "cell_type": "markdown",
   "id": "cd31c3f1",
   "metadata": {},
   "source": [
    "Tras este proceso de limpieza de columnas, nos quedan aún unas tablas (parties, groups) fuera de la carpeta \"data_final\"."
   ]
  },
  {
   "cell_type": "code",
   "execution_count": null,
   "id": "3a51725c",
   "metadata": {},
   "outputs": [],
   "source": [
    "# tabla de parties\n",
    "\n",
    "columnas_deseadas = [\"DIVISION_ID\", \"ID\", \"TYPE\", \"ACRONYM\", \"LABEL\", \"MEMBER_OF_COALITION\", \"COALITION_MEMBERS\"]\n",
    "df_filtrado = parties_copia[columnas_deseadas]\n",
    "\n",
    "df_filtrado.to_csv(\"./data_final/parties.csv\", index=False)"
   ]
  },
  {
   "cell_type": "markdown",
   "id": "5fac3172",
   "metadata": {},
   "source": [
    "Para poder realizar un análisis más profundo de las tendencias, tanto locales como internacionales, añadiremos dos columnas que detallen la orientación y la ideología de cada uno de los grupos políticos o coaliciones que forman parte del parlamanto de la Unión Europea."
   ]
  },
  {
   "cell_type": "code",
   "execution_count": null,
   "id": "7b302d06",
   "metadata": {},
   "outputs": [
    {
     "name": "stderr",
     "output_type": "stream",
     "text": [
      "C:\\Users\\iktet\\AppData\\Local\\Temp\\ipykernel_9164\\373878701.py:31: SettingWithCopyWarning: \n",
      "A value is trying to be set on a copy of a slice from a DataFrame.\n",
      "Try using .loc[row_indexer,col_indexer] = value instead\n",
      "\n",
      "See the caveats in the documentation: https://pandas.pydata.org/pandas-docs/stable/user_guide/indexing.html#returning-a-view-versus-a-copy\n",
      "  df_filtrado[\"ORIENTACION\"] = orientacion\n",
      "C:\\Users\\iktet\\AppData\\Local\\Temp\\ipykernel_9164\\373878701.py:32: SettingWithCopyWarning: \n",
      "A value is trying to be set on a copy of a slice from a DataFrame.\n",
      "Try using .loc[row_indexer,col_indexer] = value instead\n",
      "\n",
      "See the caveats in the documentation: https://pandas.pydata.org/pandas-docs/stable/user_guide/indexing.html#returning-a-view-versus-a-copy\n",
      "  df_filtrado[\"IDEOLOGIA\"] = ideologia\n"
     ]
    }
   ],
   "source": [
    "# tabla de groups\n",
    "\n",
    "df_filtrado = groups[groups[\"LANGUAGE_ID\"] == \"ES\"]\n",
    "\n",
    "orientacion = [\n",
    "    \"Centro-derecha\",\n",
    "    \"Centro-izquierda\",\n",
    "    \"Derecha a derecha moderada\",\n",
    "    \"Centro, liberal-progresista\",\n",
    "    \"Izquierda a extrema izquierda\",\n",
    "    \"Centro-izquierda / ecologista\",\n",
    "    \"Extrema derecha / ultraconservadora\",\n",
    "    \"Extrema derecha / ultranacionalista\",\n",
    "    \"\",\n",
    "    \"\"\n",
    "]\n",
    "\n",
    "ideologia = [\n",
    "    \"Conservadurismo moderado, democracia cristiana, economía social de mercado, europeísmo\",\n",
    "    \"Socialdemocracia, progresismo, estado del bienestar, europeísmo\",\n",
    "    \"Conservadurismo euroescéptico, soberanismo, liberalismo económico\",\n",
    "    \"Liberalismo, europeísmo, derechos civiles, economía de mercado\",\n",
    "    \"Socialismo, comunismo democrático, anticapitalismo, ecologismo, eurocrítica\",\n",
    "    \"Ecologismo, federalismo europeo, derechos humanos, progresismo\",\n",
    "    \"Nacionalismo, soberanismo, antiinmigración, euroescepticismo radical\",\n",
    "    \"Soberanismo duro, nacionalismo, anti-UE, identidad cultural\",\n",
    "    \"\",\n",
    "    \"\"\n",
    "]\n",
    "\n",
    "df_filtrado[\"ORIENTACION\"] = orientacion\n",
    "df_filtrado[\"IDEOLOGIA\"] = ideologia\n",
    "\n",
    "df_filtrado.to_csv(\"./data_final/groups.csv\", index=False)"
   ]
  },
  {
   "cell_type": "markdown",
   "id": "3ea9c205",
   "metadata": {},
   "source": [
    "Ahora ya sí, los ajustes y la limpieza han terminado. Nos quedaría una estructura como esta:  \n",
    "![tablas relaciones y contenido](./img/diagrama_final.png) "
   ]
  },
  {
   "cell_type": "markdown",
   "id": "587857f0",
   "metadata": {},
   "source": [
    "#### Y hasta aquí la limpieza de datos de la primera versión de entrega.\n",
    "---\n",
    "#### En la segunda versión, se agregarán tablas de pasadas elecciones (concretamente del año 1994, tras la unificación alemana) nacionales para comparar las tendencias pasadas con las actuales."
   ]
  },
  {
   "cell_type": "code",
   "execution_count": null,
   "id": "7a0a749a",
   "metadata": {},
   "outputs": [],
   "source": [
    "# Empecemos con las regiones o divisiones:\n",
    "\n",
    "parties_1994 = pd.read_csv(\"data/parties-1994.csv\", sep=\";\", index_col=False)\n",
    "parties_1994_copia = parties_1994.copy()"
   ]
  },
  {
   "cell_type": "code",
   "execution_count": null,
   "id": "c3a6b188",
   "metadata": {},
   "outputs": [
    {
     "name": "stdout",
     "output_type": "stream",
     "text": [
      "17\n"
     ]
    }
   ],
   "source": [
    "print(parties_1994[\"DIVISION_ID\"].unique().__len__())\n",
    "# igual que en la versión anterior, nos encontramos con valores que no representan a paises, sino organizaciones"
   ]
  },
  {
   "cell_type": "code",
   "execution_count": null,
   "id": "91d2e9dd",
   "metadata": {},
   "outputs": [
    {
     "name": "stdout",
     "output_type": "stream",
     "text": [
      "['BE' 'FBE' 'GBE' 'WBE' 'DK' 'DE' 'IE' 'EL' 'ES' 'FR' 'IT' 'LU' 'NL' 'PT'\n",
      " 'UK' 'NI' 'GB']\n"
     ]
    }
   ],
   "source": [
    "divisiones_1994 = parties_1994_copia[\"DIVISION_ID\"].unique()\n",
    "print(divisiones_1994) # tres valores que no estaban en la lista de parties de 2024, habrá que crear una nueva tabla, o añadirlos a la ya existente"
   ]
  },
  {
   "cell_type": "code",
   "execution_count": null,
   "id": "c80c12f5",
   "metadata": {},
   "outputs": [
    {
     "name": "stdout",
     "output_type": "stream",
     "text": [
      "['FBE', 'GBE', 'WBE', 'UK', 'NI', 'GB']\n"
     ]
    }
   ],
   "source": [
    "no_coincidentes = []\n",
    "\n",
    "for elemento in divisiones_1994:\n",
    "    if elemento not in divisiones:\n",
    "        if elemento not in no_coincidentes:\n",
    "            no_coincidentes.append(elemento)\n",
    "\n",
    "print(no_coincidentes)"
   ]
  },
  {
   "cell_type": "code",
   "execution_count": null,
   "id": "22bf37c6",
   "metadata": {},
   "outputs": [
    {
     "name": "stdout",
     "output_type": "stream",
     "text": [
      "13\n"
     ]
    }
   ],
   "source": [
    "valores_a_eliminar = [\"FBE\", \"GBE\", \"WBE\", \"UK\"] \n",
    "# \"UK\" representa la union de los valores en \"NI\" y \"GB\", por lo que impediría la creacion de una clave primaria al repetirse los valores de la columna ID\n",
    "parties_1994_copia = parties_1994_copia[~parties_1994_copia[\"DIVISION_ID\"].isin(valores_a_eliminar)]\n",
    "print(parties_1994_copia[\"DIVISION_ID\"].unique().__len__())"
   ]
  },
  {
   "cell_type": "code",
   "execution_count": null,
   "id": "9ff6dbb0",
   "metadata": {},
   "outputs": [],
   "source": [
    "valores_a_eliminar = [\"UK90\"] # se repite sin necesidad, obstaculizando el proceso de creación de la tabla en base a clave primaria\n",
    "parties_1994_copia = parties_1994_copia[~parties_1994_copia[\"ID\"].isin(valores_a_eliminar)]"
   ]
  },
  {
   "cell_type": "code",
   "execution_count": null,
   "id": "c6abbf41",
   "metadata": {},
   "outputs": [],
   "source": [
    "with open(\"./data_final/division.csv\", \"a\", newline=\"\") as csvfile:\n",
    "    writer = csv.writer(csvfile)\n",
    "\n",
    "    datos1, datos2, datos3 = [\"UK\", \"Reino Unido\"], [\"NI\", \"Irlanda del Norte\"], [\"GB\", \"Gran Bretanya\"]\n",
    "\n",
    "    writer.writerow(datos1)\n",
    "    writer.writerow(datos2)\n",
    "    writer.writerow(datos3)"
   ]
  },
  {
   "cell_type": "markdown",
   "id": "dd4e7646",
   "metadata": {},
   "source": [
    "Tabla de divisiones actualizada!  \n",
    "  \n",
    "Vamos con los partidos politicos nacionales."
   ]
  },
  {
   "cell_type": "code",
   "execution_count": null,
   "id": "fe744801",
   "metadata": {},
   "outputs": [],
   "source": [
    "columnas_deseadas = [\"DIVISION_ID\", \"ID\", \"TYPE\", \"ACRONYM\", \"LABEL\", \"MEMBER_OF_COALITION\", \"COALITION_MEMBERS\"]\n",
    "df_filtrado = parties_1994_copia[columnas_deseadas]\n",
    "\n",
    "df_filtrado.to_csv(\"./data_final/parties-1994.csv\", index=False)"
   ]
  },
  {
   "cell_type": "markdown",
   "id": "e7c513c7",
   "metadata": {},
   "source": [
    "Partidos nacionales limpiados!  \n",
    "  \n",
    "Vamos con los antiguos grupos politicos."
   ]
  },
  {
   "cell_type": "code",
   "execution_count": null,
   "id": "08b7d0a0",
   "metadata": {},
   "outputs": [],
   "source": [
    "groups_1994 = pd.read_csv(\"data/groups-1994.csv\", sep=\";\", index_col=False, keep_default_na=False) # para evitar que borre \"NA\" al detectarlo como NaN\n"
   ]
  },
  {
   "cell_type": "code",
   "execution_count": null,
   "id": "a1d3470f",
   "metadata": {},
   "outputs": [],
   "source": [
    "# tabla de groups de 1994\n",
    "\n",
    "df_filtrado = groups_1994[groups_1994[\"LANGUAGE_ID\"] == \"ES\"]\n",
    "\n",
    "df_filtrado.to_csv(\"./data_final/groups-1994.csv\", index=False) "
   ]
  },
  {
   "cell_type": "markdown",
   "id": "55588188",
   "metadata": {},
   "source": [
    "Grupos o coaliciones terminadas!  \n",
    "  \n",
    "Vamos con el borrado de columnas que ya hicimos anteriormente en las tablas equivalentes de 2024."
   ]
  },
  {
   "cell_type": "code",
   "execution_count": null,
   "id": "80271181",
   "metadata": {},
   "outputs": [],
   "source": [
    "# tabla eu\n",
    "\n",
    "df = pd.read_csv(\"./data/eu-1994.csv\", sep=\";\", keep_default_na=False)\n",
    "\n",
    "columnas_deseadas = [\"GROUP_ID\", \"SEATS_TOTAL\", \"SEATS_PERCENT_EU\"]\n",
    "df_filtrado = df[columnas_deseadas]\n",
    "\n",
    "df_filtrado.to_csv(\"./data_final/eu-1994.csv\", index=False)"
   ]
  },
  {
   "cell_type": "code",
   "execution_count": null,
   "id": "589cc083",
   "metadata": {},
   "outputs": [],
   "source": [
    "# tabla es-groups-1994\n",
    "\n",
    "df = pd.read_csv(\"./data/es-groups-1994.csv\", sep=\";\", keep_default_na=False)\n",
    "\n",
    "columnas_deseadas = [\"GROUP_ID\", \"SEATS_TOTAL\", \"SEATS_PERCENT_EU\"]\n",
    "df_filtrado = df[columnas_deseadas]\n",
    "\n",
    "df_filtrado.to_csv(\"./data_final/es-groups-1994.csv\", index=False)"
   ]
  },
  {
   "cell_type": "code",
   "execution_count": null,
   "id": "09dcfae3",
   "metadata": {},
   "outputs": [],
   "source": [
    "# tabla es-parties-1994\n",
    "\n",
    "df = pd.read_csv(\"./data/es-parties-1994.csv\", sep=\";\", keep_default_na=False)\n",
    "\n",
    "columnas_deseadas = [\"PARTY_ID\", \"TYPE\", \"SEATS_TOTAL\", \"GROUP_ID\"]\n",
    "df_filtrado = df[columnas_deseadas]\n",
    "\n",
    "df_filtrado.to_csv(\"./data_final/es-parties-1994.csv\", index=False)"
   ]
  },
  {
   "cell_type": "markdown",
   "id": "5b6cd24b",
   "metadata": {},
   "source": [
    "#### Y hasta aquí la limpieza de datos de la segunda versión de entrega.\n",
    "---\n",
    "#### En la tercera versión, se agregarán tablas de las últimas elecciones de otros países, para comparar sus posibles distintas tendencias en base a su situación económica. Más concretamente, se trabajará con las tablas del top1 y bottom1 del [ranking europeo de PIB per capita](https://datosmacro.expansion.com/paises/grupos/union-europea). En dicho ranking, vemos cómo España se situa ligeramente por debajo de la media, lo cual también podrá ser de utilidad para la comparativa.  \n",
    "  \n",
    "![top3_eu](./img/top3_pib_eu.png)\n",
    "![bottom3_eu](./img/bot3_pib_eu.png)  \n",
    "   \n",
    "Empecemos con los partidos nacionales de Luxemburgo (LU) y Bulgaria (BG)."
   ]
  },
  {
   "cell_type": "code",
   "execution_count": null,
   "id": "a81d0eb2",
   "metadata": {},
   "outputs": [],
   "source": [
    "# tabla lu-results-parties\n",
    "\n",
    "df = pd.read_csv(\"./data/lu-results-parties.csv\", sep=\";\")\n",
    "\n",
    "columnas_deseadas = [\"PARTY_ID\", \"TYPE\", \"VOTES_PERCENT\"]\n",
    "df_filtrado = df[columnas_deseadas]\n",
    "\n",
    "df_filtrado.to_csv(\"./data_final/lu-results-parties.csv\", index=False)"
   ]
  },
  {
   "cell_type": "code",
   "execution_count": null,
   "id": "2dbfbd84",
   "metadata": {},
   "outputs": [],
   "source": [
    "# tabla lu-parties\n",
    "\n",
    "df = pd.read_csv(\"./data/lu-parties.csv\", sep=\";\")\n",
    "\n",
    "columnas_deseadas = [\"PARTY_ID\", \"TYPE\", \"SEATS_TOTAL\", \"GROUP_ID\"]\n",
    "df_filtrado = df[columnas_deseadas]\n",
    "\n",
    "df_filtrado.to_csv(\"./data_final/lu-parties.csv\", index=False)"
   ]
  },
  {
   "cell_type": "code",
   "execution_count": null,
   "id": "2975d5a9",
   "metadata": {},
   "outputs": [],
   "source": [
    "# tabla lu-groups\n",
    "\n",
    "df = pd.read_csv(\"./data/lu-groups.csv\", sep=\";\")\n",
    "\n",
    "columnas_deseadas = [\"GROUP_ID\", \"SEATS_TOTAL\", \"SEATS_PERCENT_EU\"]\n",
    "df_filtrado = df[columnas_deseadas]\n",
    "\n",
    "df_filtrado.to_csv(\"./data_final/lu-groups.csv\", index=False)"
   ]
  },
  {
   "cell_type": "markdown",
   "id": "4e619f43",
   "metadata": {},
   "source": [
    "Luxemburgo terminado.  \n",
    "  \n",
    "A por las tablas de Bulgaria."
   ]
  },
  {
   "cell_type": "code",
   "execution_count": null,
   "id": "ab9e1e34",
   "metadata": {},
   "outputs": [],
   "source": [
    "# tabla bg-results-parties\n",
    "\n",
    "df = pd.read_csv(\"./data/bg-results-parties.csv\", sep=\";\")\n",
    "\n",
    "columnas_deseadas = [\"PARTY_ID\", \"TYPE\", \"VOTES_PERCENT\"]\n",
    "df_filtrado = df[columnas_deseadas]\n",
    "\n",
    "df_filtrado.to_csv(\"./data_final/bg-results-parties.csv\", index=False)"
   ]
  },
  {
   "cell_type": "code",
   "execution_count": null,
   "id": "7165b7c1",
   "metadata": {},
   "outputs": [],
   "source": [
    "# tabla bg-parties\n",
    "\n",
    "df = pd.read_csv(\"./data/bg-parties.csv\", sep=\";\")\n",
    "\n",
    "columnas_deseadas = [\"PARTY_ID\", \"TYPE\", \"SEATS_TOTAL\", \"GROUP_ID\"]\n",
    "df_filtrado = df[columnas_deseadas]\n",
    "\n",
    "df_filtrado.to_csv(\"./data_final/bg-parties.csv\", index=False)"
   ]
  },
  {
   "cell_type": "code",
   "execution_count": null,
   "id": "a7c88072",
   "metadata": {},
   "outputs": [],
   "source": [
    "# tabla bg-groups\n",
    "\n",
    "df = pd.read_csv(\"./data/bg-groups.csv\", sep=\";\")\n",
    "\n",
    "columnas_deseadas = [\"GROUP_ID\", \"SEATS_TOTAL\", \"SEATS_PERCENT_EU\"]\n",
    "df_filtrado = df[columnas_deseadas]\n",
    "\n",
    "df_filtrado.to_csv(\"./data_final/bg-groups.csv\", index=False)"
   ]
  },
  {
   "cell_type": "markdown",
   "id": "ad6d2f5d",
   "metadata": {},
   "source": [
    "#### Y hasta aquí la limpieza de datos de la tercera versión de entrega.\n",
    "---\n",
    "#### En la cuarta y última versión, se agregarán tablas de las últimas elecciones de la comunidad autónoma de Euskadi, seccionada por sus 3 provincias, para comparar sus tendencias con las nacionales."
   ]
  },
  {
   "cell_type": "code",
   "execution_count": null,
   "id": "4e0ca77a",
   "metadata": {},
   "outputs": [],
   "source": [
    "with open(\"./data/xls0000192_c.csv\", \"r\", encoding=\"latin1\") as f:\n",
    "    lines = f.readlines()\n",
    "\n",
    "# Busquemos el índice donde comienzan realmente las filas de candidaturas\n",
    "for i, line in enumerate(lines):\n",
    "    if line.startswith(\"EH BILDU\"):\n",
    "        candidaturas_start = i\n",
    "        break\n",
    "\n",
    "# Extraemos las filas de candidaturas\n",
    "candidature_rows = []\n",
    "for line in lines[candidaturas_start:]:\n",
    "    if line.strip() == \"\" or set(line.strip()) == {\";\"}:\n",
    "        break\n",
    "    candidature_rows.append(line.strip())"
   ]
  },
  {
   "cell_type": "code",
   "execution_count": null,
   "id": "37bc6320",
   "metadata": {},
   "outputs": [],
   "source": [
    "eus = pd.read_csv(StringIO(\"\\n\".join(candidature_rows)), sep=\";\", header=None)"
   ]
  },
  {
   "cell_type": "code",
   "execution_count": null,
   "id": "ef9b1768",
   "metadata": {},
   "outputs": [],
   "source": [
    "# Asignamos nombres a nuestras columnas\n",
    "eus.columns = [\n",
    "    \"Candidatura\", \n",
    "    \"Votos_Euskadi\", \"Percent_Euskadi\", \n",
    "    \"Votos_Araba\", \"Percent_Araba\", \n",
    "    \"Votos_Bizkaia\", \"Percent_Bizkaia\", \n",
    "    \"Votos_Gipuzkoa\", \"Percent_Gipuzkoa\"\n",
    "]"
   ]
  },
  {
   "cell_type": "code",
   "execution_count": null,
   "id": "a5106484",
   "metadata": {},
   "outputs": [],
   "source": [
    "# eliminamos comas y convertimos a float/int\n",
    "for col in eus.columns[1:]:\n",
    "    if col.startswith(\"Votos\"):\n",
    "        eus[col] = eus[col].astype(str).str.replace(\".\", \"\", regex=False).astype(int)\n",
    "    else:\n",
    "        eus[col] = eus[col].str.replace(\",\", \".\", regex=False).astype(float)"
   ]
  },
  {
   "cell_type": "code",
   "execution_count": null,
   "id": "5d0fadf7",
   "metadata": {},
   "outputs": [],
   "source": [
    "# Creamos los tres DataFrames por provincia\n",
    "df_araba = eus[[\"Candidatura\", \"Votos_Araba\", \"Percent_Araba\"]].copy()\n",
    "df_bizkaia = eus[[\"Candidatura\", \"Votos_Bizkaia\", \"Percent_Bizkaia\"]].copy()\n",
    "df_gipuzkoa = eus[[\"Candidatura\", \"Votos_Gipuzkoa\", \"Percent_Gipuzkoa\"]].copy()\n",
    "df_eus = eus[[\"Candidatura\", \"Votos_Euskadi\", \"Percent_Euskadi\"]].copy()"
   ]
  },
  {
   "cell_type": "code",
   "execution_count": null,
   "id": "f83eb5d2",
   "metadata": {},
   "outputs": [],
   "source": [
    "df_eus.to_csv(\"./data_final/eus-eus.csv\", index=False)\n",
    "df_araba.to_csv(\"./data_final/eus-araba.csv\", index=False)\n",
    "df_bizkaia.to_csv(\"./data_final/eus-bizkaia.csv\", index=False)\n",
    "df_gipuzkoa.to_csv(\"./data_final/eus-gipuzkoa.csv\", index=False)"
   ]
  },
  {
   "cell_type": "markdown",
   "id": "138e6a0a",
   "metadata": {},
   "source": [
    "Tras el proceso de limpieza y ajuste de las tablas implicadas en las cuatro versiones del análisis, el diagrama detallado de la base de datos final sería el siguiente:  \n",
    "  \n",
    "![diagrama absoluto](./img/diagrama_cuatro_versiones.png)  \n",
    "  \n",
    "Como podemos ver, consta de 3 secciones no relacionadas entre sí, ya sea por los diferentes integrantes políticos de cada época o entorno sociocultural."
   ]
  },
  {
   "cell_type": "markdown",
   "id": "1634b8dc",
   "metadata": {},
   "source": [
    "## 📊 **Data Analyst**"
   ]
  },
  {
   "cell_type": "markdown",
   "id": "88489200",
   "metadata": {},
   "source": [
    "En esta sección, utilizaremos [Preset](https://preset.io/), una herramienta que nos permite crear un entorno de desarrollo personalizado para nuestro proyecto.  \n",
    "  \n",
    "Comenzaremos con un \"brain storming\" de posibles gráficos o diseños a realizar, y luego procederemos a crear un entorno de desarrollo para implementarlos. En caso de no poder realizar alguno, lo adaptaremos en la medida de lo posible.\n",
    "\n",
    "+ **Brain Storming**:\n",
    "    - Semicirculo/Donutpie con coaliciones EU actuales\n",
    "    - Gráfico participación por país (y EU total)... o mapa de calor?\n",
    "    - Reparto de escaños nacionales en barra apilada... votos por partido?\n",
    "    - ...\n",
    "    - Gráfico de barras comparando participación nacional\n",
    "    - Barra apilada escaños\n",
    "    - ...\n",
    "    - España cerca de valor medio europeo, añadir a comparación?\n",
    "    - Gráficos barras comparativo escaños por grupo europeo y país\n",
    "    - Tabla de partidos con votos y grupo europeo (por país)\n",
    "    - ...\n",
    "    - Barras apiladas comparativo escaños por grupo europeo y provincia/comunidad\n",
    "  \n",
    "  \n",
    "+ **V1: Datos actuales generales y nacionales**\n",
    "  \n",
    "![v1](./img/v1.png)\n",
    "\n",
    "+ **V2: Comparación con el pasado**\n",
    "\n",
    "![v2](./img/v2.png)\n",
    "\n",
    "+ **V3: Comparación económica (PIB per capita) internacional, top1 vs bottom1**\n",
    "\n",
    "![v3](./img/v3.png)\n",
    "\n",
    "+ **V4: Comparación autonómica vs nacional**\n",
    "\n",
    "![v4](./img/v4.png)\n"
   ]
  },
  {
   "cell_type": "markdown",
   "id": "fa888e33",
   "metadata": {},
   "source": [
    "## ✅ Conclusiones\n",
    "  \n",
    "+ **V1: Datos actuales generales y nacionales**\n",
    "    - <u>Participación</u>: España, al igual que veremos más adelante con el PIB per capita, se situa ligeramente por debajo de la media europea (46.39% vs 50.74%).\n",
    "    - <u>Orientación</u>: en ambos ámbitos, el partido o coalición que más escaños ha conseguido, se situa en el centro-derecha (EU: EPP, ES: PP), seguido por un centro-izquierda (EU: SD, ES: PSOE), dos de derecha extrema o derecha moderada (EU: Pfe y ECR, ES: VOX y SALF) y como quinta fuerza se situa la izquierda o centro-izquierda (EU: Renew,ES: Podemos).  \n",
    "    - <u>Tendencia</u>: se nota gran tendencia al centro, al conformismo social, con mas vertientes hacia la derecha que izquierda. La comodidad económica o la sensación de la misma podrían justificar dicha tendencia.\n",
    "+ **V2: Comparación con el pasado**\n",
    "    - <u>Participación</u>: en España ha caído seriamente (entormo al 30%) el interés por participar en elecciones europeas desde hace 30 años, pese a la subida de las anteriores elecciones en 2019. Sin embargo, en Europa el descenso no ha sido tan notorio (10%).\n",
    "    - <u>Orientación</u>: hace 3 décadas existían menos opciones de voto y por ello menos vertientes políticas estaban cubiertas, sin embargo, las 2 mayores fuerzas políticas (PP, PSOE) han mantenido sus puestos a lo largo del tiempo, seguidos antaño por la izquierda, en vez de por la extrema derecha como ahora.  \n",
    "    Sin embargo, en Europa el centro-izquierda (PSE del 1994, SD del 2024) estaba posicionado por delante del actual líder (PPE del 1994, EPP del 2024); la tercera fuerza era también de la extrema derecha (ELDR de 1994, Pfe del 2024), pero la izquierda se hacia notar en el cuarto puesto (GUE) en vez de en el quinto de 2024 (Renew).\n",
    "    - <u>Tendencia</u>: En España, la tendencia era más hacia la izquierda que hoy en día pese a dominar los del centro en todo momento. En Europa también se nota que la izquierda y centro-izquierda tenían mayor presencia que hoy en día. \n",
    "+ **V3: Comparación económica (PIB per capita) internacional, top1 vs bottom1**\n",
    "    - <u>Participación</u>: parece ser que a mayor PIB per capita, mayor cercanía se siente por participar en relación a decisiones internacionales, ya que Luxemburgo (82.29%) casi hasta duplica a España (46.39%) y ni qué decir de Bulgaria (33.78%). \n",
    "    - <u>Orientación</u>: en los tres países, la coalición que más escaños ha recibido es la misma (EPP, centro-derecha).  \n",
    "    Si bien en Luxemburgo no podemos realizar un análisis más profundo debido el límite de escaños que se le otorga (debido a la población), podemos observar que las demás coaliciones que obtienen escaño (SD, ECR, Renew, GREENSEFA), coinciden con el orden de la Unión Europea, salvo por la ausencia de la extrema derecha (Pfe).  \n",
    "    Por parte de Bulgaria, lidera igualmente el centro-derecha (EPP), seguido muy de cerca en este caso de la quinta fuerza europea (Renew), orientada también al centro-derecha y después la extrema derecha (ESN), última en el rango europeo. El centro izquierda (SD) tiene presencia minoritaria con 2 respecto a los 15 que recibe la derecha en todas sus variantes.\n",
    "    - <u>Tendencia</u>: pese a la clásica asociación en nuestras mentes de pobreza con izquierda revolucionaria, los datos nos muestran que a menor PIB per capita, mayor tendencia a la derecha, y a mayor PIB per capita, mayor tendencia al centro, o centro-izquierda. \n",
    "+ **V4: Comparación autonómica vs nacional**\n",
    "    - <u>Participación</u>: pese a no reflejarse en el dashboard, tanto a nivel nacional como autonómico existen niveles similares de compromiso con Europa (ES: 46.39%, EUS: 50.8%). El dato autonómico está disponible en el archivo .csv del que hemos obtenido los datos referentes a los votos.\n",
    "    - <u>Orientación</u>: en las elecciones autonómicas, el movimiento de izquierda e independentista (EH BILDU), supera a los dos grandes partidos nacionales (PSOE en segundo lugar y PP en cuarto), y entre ellos se colocaría el antaño independentista partido de derecha autonómico (PNV), haciendo ver que importan más a la sociedad los grupos locales que los nacionales. \n",
    "    Ambos partidos locales, consiguieron un escaño en el parlamento europeo; EH BILDU integrado en TheLeft (y la agrupación nacional \"Ahora repúblicas\"), séptima potencia europea (izquierda a izquierda extrema) y PNV integrado en Renew (y la agrupación nacional \"CEUS\"), quinta potencia europea (centro-derecha). \n",
    "    En las tres provincias de Euskadi, vemos una intensa pelea entre los ya mencionados líderes autonómicos, EH BILDU (lider en Gipuzkoa), PSOE (líder en Bizkaia y Araba), y PNV (segundo en Bizkaia y tercero en las demás). \n",
    "    - <u>Tendencia</u>: a nivel general en la comunidad autónoma de Euskadi se ve una clara tendencia a la izquierda (EH BILDU + PSOE = 52.45%), seguido por el centro-derecha (PNV + PP = 34.08%). \n",
    "    A nivel provincial, como ya hemos mencionado, la constante pelea entre la izquierda (EH BILDU) y derecha (PNV) local junto con el centro izquierda nacional (PSOE), es muy notoria pese a que el centro-derecha nacional (PP) también tenga fuerza en Araba (porcentaje doble que en Gipuzkoa)."
   ]
  }
 ],
 "metadata": {
  "kernelspec": {
   "display_name": "Python 3",
   "language": "python",
   "name": "python3"
  },
  "language_info": {
   "codemirror_mode": {
    "name": "ipython",
    "version": 3
   },
   "file_extension": ".py",
   "mimetype": "text/x-python",
   "name": "python",
   "nbconvert_exporter": "python",
   "pygments_lexer": "ipython3",
   "version": "3.11.9"
  }
 },
 "nbformat": 4,
 "nbformat_minor": 5
}
