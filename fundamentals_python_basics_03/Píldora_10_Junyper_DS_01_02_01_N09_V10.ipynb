{
  "cells": [
    {
      "cell_type": "markdown",
      "metadata": {
        "id": "4tSA80O6-voA"
      },
      "source": [
        "![TheBridge_logo.png](../img/TheBridge_logo.png)  \n",
        "![Python.jpg](../img/python.jpg)"
      ]
    },
    {
      "cell_type": "markdown",
      "metadata": {
        "id": "HI4nCS76-voE"
      },
      "source": [
        "##  Argumentos clave-valor"
      ]
    },
    {
      "cell_type": "markdown",
      "metadata": {
        "id": "NsuVYYjo-voE"
      },
      "source": [
        "### Contenidos"
      ]
    },
    {
      "cell_type": "markdown",
      "metadata": {
        "id": "Lphx2wo3-voF"
      },
      "source": [
        "* [Combinar `*args` con `**kwargs`](#Combinar-`*args`-con-`**kwargs`)\n",
        "* [Argumentos keyword](#Argumentos-keyword)\n"
      ]
    },
    {
      "cell_type": "markdown",
      "metadata": {
        "id": "L5PHLFnd-voF"
      },
      "source": [
        "\n",
        "Para terminar con las diferentes posibilidades que ofrecen los argumentos de las funciones, vamos a tratar los argumentos clave-valor.  \n",
        "\n",
        "Es decir, tenemos también la opción de introducir un diccionario como argumentos, de esta forma, aunque el numero de argumentos sea variable, tendremos un inidicador, la clave, y el valor de cada clave.\n",
        "\n",
        "Se implementa con `**`"
      ]
    },
    {
      "cell_type": "code",
      "execution_count": 1,
      "metadata": {
        "id": "Yq7833z1-voF"
      },
      "outputs": [
        {
          "name": "stdout",
          "output_type": "stream",
          "text": [
            "<class 'dict'>\n",
            "{'modelo': 'S20', 'marca': 'Samsung', 'camara': '24MPX'}\n"
          ]
        }
      ],
      "source": [
        "def insertar_movil_bd(**clave_valor):\n",
        "    print(type(clave_valor))\n",
        "    print(clave_valor)\n",
        "\n",
        "insertar_movil_bd(modelo = \"S20\", marca = \"Samsung\", camara = \"24MPX\")\n"
      ]
    },
    {
      "cell_type": "code",
      "execution_count": 4,
      "metadata": {},
      "outputs": [
        {
          "name": "stdout",
          "output_type": "stream",
          "text": [
            "modelo : S20\n",
            "marca : Samsung\n",
            "camara : 24MPX\n",
            "flip : True\n"
          ]
        }
      ],
      "source": [
        "def insertar_movil_bd(**kwargs):\n",
        "    for clave, valor in kwargs.items():\n",
        "        # insertar(clave,valor)\n",
        "        print(clave, \":\", valor)\n",
        "\n",
        "insertar_movil_bd(modelo = \"S20\", marca = \"Samsung\", camara = \"24MPX\", flip = True)\n"
      ]
    },
    {
      "cell_type": "markdown",
      "metadata": {
        "id": "929gpcUN-voG"
      },
      "source": [
        "### Combinar `*args` con `**kwargs`\n",
        "[al indice](#Contenidos)  \n",
        "No hay ningun problema en tener un numero variable de argumentos y también argumentos clave-valor, todo ello en la misma función."
      ]
    },
    {
      "cell_type": "code",
      "execution_count": 7,
      "metadata": {
        "id": "Kcz3Gk3c-voG"
      },
      "outputs": [
        {
          "name": "stdout",
          "output_type": "stream",
          "text": [
            "<class 'tuple'>\n",
            "Es muy bueno\n",
            "no dura suficiente la bateria\n",
            "<class 'dict'>\n",
            "marca : Samsung\n",
            "camara : 24MPX\n",
            "precio : 1100\n"
          ]
        }
      ],
      "source": [
        "def insertar_movil(*args, **kwargs):\n",
        "    print(type(args))\n",
        "    for i in args:\n",
        "        print(i)\n",
        "\n",
        "    print(type(kwargs))\n",
        "    for clave, valor in kwargs.items():\n",
        "        print(clave, \":\", valor)\n",
        "\n",
        "insertar_movil(\"Es muy bueno\", \"no dura suficiente la bateria\", marca = \"Samsung\", camara = \"24MPX\", precio = 1100)"
      ]
    },
    {
      "cell_type": "code",
      "execution_count": 8,
      "metadata": {},
      "outputs": [
        {
          "ename": "SyntaxError",
          "evalue": "arguments cannot follow var-keyword argument (4061382014.py, line 1)",
          "output_type": "error",
          "traceback": [
            "  \u001b[36mCell\u001b[39m\u001b[36m \u001b[39m\u001b[32mIn[8]\u001b[39m\u001b[32m, line 1\u001b[39m\n\u001b[31m    \u001b[39m\u001b[31mdef test(**kwargs, *args):\u001b[39m\n                       ^\n\u001b[31mSyntaxError\u001b[39m\u001b[31m:\u001b[39m arguments cannot follow var-keyword argument\n"
          ]
        }
      ],
      "source": [
        "def test(**kwargs, *args):\n",
        "    print(\"test\")"
      ]
    },
    {
      "cell_type": "markdown",
      "metadata": {
        "id": "jeReWMoq-voG"
      },
      "source": [
        "### Argumentos keyword\n",
        "[al indice](#Contenidos)  \n",
        "Existe otro tipo de argumentos que son los *keyword*. Se caracterizan porque llevan un valor por defecto, y por tanto, si no usamos dicho argumento en la llamada, dentro de la función tomará el valor que hayamos dejado por defecto.\n",
        "\n",
        "Ten en cuenta que estos argumentos se colocan **al final**"
      ]
    },
    {
      "cell_type": "code",
      "execution_count": 13,
      "metadata": {
        "id": "o_beBX9l-voH"
      },
      "outputs": [
        {
          "data": {
            "text/plain": [
              "12.36"
            ]
          },
          "execution_count": 13,
          "metadata": {},
          "output_type": "execute_result"
        }
      ],
      "source": [
        "round(12.3564, ndigits=2)\n"
      ]
    },
    {
      "cell_type": "code",
      "execution_count": 14,
      "metadata": {},
      "outputs": [
        {
          "data": {
            "text/plain": [
              "[52, 34, 24, 12, 3]"
            ]
          },
          "execution_count": 14,
          "metadata": {},
          "output_type": "execute_result"
        }
      ],
      "source": [
        "sorted([12 ,3, 34, 24, 52], reverse=True)"
      ]
    },
    {
      "cell_type": "code",
      "execution_count": 17,
      "metadata": {},
      "outputs": [
        {
          "name": "stdout",
          "output_type": "stream",
          "text": [
            "Su pedido de Television LG se entregará:  12/12/2025\n",
            "Póngase en contacto con At.Cliente\n",
            "Su pedido de iMac 27'' se entregará:  10/11/2025\n"
          ]
        }
      ],
      "source": [
        "def pedido_online(pedido, fecha, incidencia = False):\n",
        "    if incidencia == True:\n",
        "        print(\"Póngase en contacto con At.Cliente\")\n",
        "    print(\"Su pedido de\", pedido, \"se entregará: \", fecha)\n",
        "\n",
        "pedido_online(\"Television LG\", \"12/12/2025\")\n",
        "pedido_online(\"iMac 27''\", \"10/11/2025\", incidencia= True)"
      ]
    },
    {
      "cell_type": "markdown",
      "metadata": {
        "id": "M5UtLF0S-voH"
      },
      "source": [
        "<table align=\"left\">\n",
        " <tr><td width=\"80\"><img src=\"../img/error.png\" style=\"width:auto;height:auto\"></td>\n",
        "     <td style=\"text-align:left\">\n",
        "         <h3>ERRORES con argumentos keyword</h3>\n",
        "         \n",
        " </td></tr>\n",
        "</table>"
      ]
    },
    {
      "cell_type": "code",
      "execution_count": 18,
      "metadata": {
        "id": "BfBmLVs8-voH"
      },
      "outputs": [
        {
          "ename": "SyntaxError",
          "evalue": "parameter without a default follows parameter with a default (1194999629.py, line 1)",
          "output_type": "error",
          "traceback": [
            "  \u001b[36mCell\u001b[39m\u001b[36m \u001b[39m\u001b[32mIn[18]\u001b[39m\u001b[32m, line 1\u001b[39m\n\u001b[31m    \u001b[39m\u001b[31mdef pedido_online(pedido, incidencia = False, fecha):\u001b[39m\n                                                  ^\n\u001b[31mSyntaxError\u001b[39m\u001b[31m:\u001b[39m parameter without a default follows parameter with a default\n"
          ]
        }
      ],
      "source": [
        "def pedido_online(pedido, incidencia = False, fecha):\n",
        "    if incidencia == True:\n",
        "        print(\"Póngase en contacto con At.Cliente\")\n",
        "    print(\"Su pedido de\", pedido, \"se entregará: \", fecha)"
      ]
    },
    {
      "cell_type": "code",
      "execution_count": null,
      "metadata": {},
      "outputs": [],
      "source": []
    }
  ],
  "metadata": {
    "colab": {
      "provenance": []
    },
    "kernelspec": {
      "display_name": "Python 3",
      "language": "python",
      "name": "python3"
    },
    "language_info": {
      "codemirror_mode": {
        "name": "ipython",
        "version": 3
      },
      "file_extension": ".py",
      "mimetype": "text/x-python",
      "name": "python",
      "nbconvert_exporter": "python",
      "pygments_lexer": "ipython3",
      "version": "3.13.0"
    }
  },
  "nbformat": 4,
  "nbformat_minor": 0
}
