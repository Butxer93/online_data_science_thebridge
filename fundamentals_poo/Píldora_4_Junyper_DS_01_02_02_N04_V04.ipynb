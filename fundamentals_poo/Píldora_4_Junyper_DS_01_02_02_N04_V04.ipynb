{
  "cells": [
    {
      "cell_type": "markdown",
      "metadata": {
        "id": "DnrhRkEi3FEV"
      },
      "source": [
        "<img src = \"../img/TheBridge_logo.png\" width = 500>\n",
        "<img src = \"../img/python.jpg\" width = 500>"
      ]
    },
    {
      "cell_type": "markdown",
      "metadata": {
        "id": "QQyctKkw3FEZ"
      },
      "source": [
        "##  Constructores\n"
      ]
    },
    {
      "cell_type": "markdown",
      "metadata": {
        "id": "hIY-1aDb3FEa"
      },
      "source": [
        "### Contenidos\n"
      ]
    },
    {
      "cell_type": "markdown",
      "metadata": {
        "id": "G7fSs1aa3FEa"
      },
      "source": [
        "* [Introducción  ](#Introducción--)\n",
        "\n"
      ]
    },
    {
      "cell_type": "markdown",
      "metadata": {
        "id": "ximeJV893FEb"
      },
      "source": [
        "### Introducción  \n",
        "[al indice](#Contenidos)  \n",
        "\n",
        "Veíamos en la sesión anterior que cuando creamos un objeto de la clase *Coche* sin más, este objeto adquiere los atributos por defecto de la clase. Si queremos definirlo bien \"de primeras\" (en su instanciación o creación) para diferenciarlo de otros coches, necesitamos algo más.  \n",
        "\n",
        "Ese algo más que me permite la definición inicial, es lo que se denomina constructor de la clase.\n",
        "\n",
        "Será un método, muy similar a una función, al que daremos unos argumentos de entrada que sustituirán a los valores por defecto y que nos permitirán diferenciar esa instancia de otras instancias de la misma clase.\n",
        "\n",
        "**¿Cómo se define un constructor?** Mediante la función `__init__`, dentro de la clase."
      ]
    },
    {
      "cell_type": "code",
      "execution_count": 1,
      "metadata": {
        "id": "mTEVlZEN3FEb"
      },
      "outputs": [],
      "source": [
        "class Coche:\n",
        "    puertas = 4\n",
        "    ruedas = 4\n",
        "\n",
        "    def __init__(self, marca_coche):\n",
        "        self.marca = marca_coche"
      ]
    },
    {
      "cell_type": "code",
      "execution_count": 2,
      "metadata": {},
      "outputs": [
        {
          "ename": "TypeError",
          "evalue": "Coche.__init__() missing 1 required positional argument: 'marca_coche'",
          "output_type": "error",
          "traceback": [
            "\u001b[31m---------------------------------------------------------------------------\u001b[39m",
            "\u001b[31mTypeError\u001b[39m                                 Traceback (most recent call last)",
            "\u001b[36mCell\u001b[39m\u001b[36m \u001b[39m\u001b[32mIn[2]\u001b[39m\u001b[32m, line 1\u001b[39m\n\u001b[32m----> \u001b[39m\u001b[32m1\u001b[39m tesla = \u001b[43mCoche\u001b[49m\u001b[43m(\u001b[49m\u001b[43m)\u001b[49m\n",
            "\u001b[31mTypeError\u001b[39m: Coche.__init__() missing 1 required positional argument: 'marca_coche'"
          ]
        }
      ],
      "source": [
        "tesla = Coche()"
      ]
    },
    {
      "cell_type": "code",
      "execution_count": 3,
      "metadata": {},
      "outputs": [
        {
          "name": "stdout",
          "output_type": "stream",
          "text": [
            "Tesla\n"
          ]
        }
      ],
      "source": [
        "tesla = Coche(\"Tesla\")\n",
        "print(tesla.marca)"
      ]
    },
    {
      "cell_type": "markdown",
      "metadata": {
        "id": "fkwfxjJg3FEc"
      },
      "source": [
        "En la declaración del constructor hemos metido la palabra `self`. **Lo tendremos que poner siempre**. Hace referencia a la propia instancia de coche, es decir, a cuando creemos coches nuevos.\n",
        "\n",
        "En este caso estamos diferenciando los atributos comunes de la clase *Coche*, de los atributos particulares de los coches, como por ejemplo, la marca. Por eso la marca va junto con `self`, porque no hace referencia a la clase genércia de coche, sino a cada coche que creemos."
      ]
    },
    {
      "cell_type": "markdown",
      "metadata": {
        "id": "fmq4YvZk3FEc"
      },
      "source": [
        "Ahora ya podemos diferenciar los coches por su marca. Para acceder al atributo de la marca, lo hacemos igual que con los anteriores."
      ]
    },
    {
      "cell_type": "code",
      "execution_count": 4,
      "metadata": {
        "id": "t4Cvakus3FEd"
      },
      "outputs": [
        {
          "name": "stdout",
          "output_type": "stream",
          "text": [
            "Mercedes\n",
            "Renault\n",
            "4\n",
            "4\n"
          ]
        }
      ],
      "source": [
        "mercedes = Coche(\"Mercedes\")\n",
        "reanult = Coche(\"Renault\")\n",
        "print(mercedes.marca)\n",
        "print(reanult.marca)\n",
        "print(mercedes.puertas)\n",
        "print(reanult.puertas)"
      ]
    },
    {
      "cell_type": "markdown",
      "metadata": {
        "id": "0cJnQEcB3FEd"
      },
      "source": [
        "Ya podemos solucionar el tema de que no todos los coches tienen 4 puertas"
      ]
    },
    {
      "cell_type": "code",
      "execution_count": 5,
      "metadata": {
        "id": "xh8dmBbo3FEd"
      },
      "outputs": [],
      "source": [
        "class Coche:\n",
        "    puertas = 4\n",
        "    ruedas = 4\n",
        "\n",
        "    def __init__(self, marca_coche, num_puertas):\n",
        "        self.marca = marca_coche\n",
        "        self.puertas = num_puertas"
      ]
    },
    {
      "cell_type": "code",
      "execution_count": 6,
      "metadata": {},
      "outputs": [],
      "source": [
        "tesla_2 = Coche(\"Tesla\", 6)\n",
        "mercedes_500 = Coche(\"Mercedes\", 8)"
      ]
    },
    {
      "cell_type": "code",
      "execution_count": 7,
      "metadata": {
        "id": "6eioSW8G3FEd"
      },
      "outputs": [
        {
          "name": "stdout",
          "output_type": "stream",
          "text": [
            "6\n"
          ]
        }
      ],
      "source": [
        "print(tesla_2.puertas)"
      ]
    },
    {
      "cell_type": "code",
      "execution_count": 8,
      "metadata": {},
      "outputs": [],
      "source": [
        "class Coche:\n",
        "\n",
        "    def __init__(self, marca_coche, num_puertas = 4, num_ruedas = 4):\n",
        "        self.marca = marca_coche\n",
        "        self.puertas = num_puertas\n",
        "        self.ruedas = num_ruedas"
      ]
    },
    {
      "cell_type": "code",
      "execution_count": 9,
      "metadata": {},
      "outputs": [],
      "source": [
        "tesla_3 = Coche(\"Tesla\")\n",
        "tesla_4 = Coche(\"Tesla\", num_ruedas = 6)"
      ]
    },
    {
      "cell_type": "code",
      "execution_count": 11,
      "metadata": {},
      "outputs": [
        {
          "name": "stdout",
          "output_type": "stream",
          "text": [
            "4 4\n",
            "4 6\n"
          ]
        }
      ],
      "source": [
        "print(tesla_3.puertas, tesla_3.ruedas)\n",
        "print(tesla_4.puertas, tesla_4.ruedas)"
      ]
    },
    {
      "cell_type": "code",
      "execution_count": null,
      "metadata": {},
      "outputs": [],
      "source": []
    }
  ],
  "metadata": {
    "colab": {
      "provenance": []
    },
    "kernelspec": {
      "display_name": "Python 3",
      "language": "python",
      "name": "python3"
    },
    "language_info": {
      "codemirror_mode": {
        "name": "ipython",
        "version": 3
      },
      "file_extension": ".py",
      "mimetype": "text/x-python",
      "name": "python",
      "nbconvert_exporter": "python",
      "pygments_lexer": "ipython3",
      "version": "3.13.0"
    }
  },
  "nbformat": 4,
  "nbformat_minor": 0
}
