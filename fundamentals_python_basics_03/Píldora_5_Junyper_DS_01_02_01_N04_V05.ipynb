{
  "cells": [
    {
      "cell_type": "markdown",
      "metadata": {
        "id": "Z-Ru1z6Z-Hsg"
      },
      "source": [
        "![TheBridge_logo.png](../img/TheBridge_logo.png)  \n",
        "![Python.jpg](../img/python.jpg)"
      ]
    },
    {
      "cell_type": "markdown",
      "metadata": {
        "id": "2y1q_pFX-Hsj"
      },
      "source": [
        "## Colecciones Python: Sets\n"
      ]
    },
    {
      "cell_type": "markdown",
      "metadata": {
        "id": "fmA16VLD-Hsk"
      },
      "source": [
        "### Contenidos\n"
      ]
    },
    {
      "cell_type": "markdown",
      "metadata": {
        "id": "pYMVD1U7-Hsk"
      },
      "source": [
        "* [Introducción](#Introducción)\n",
        "\n"
      ]
    },
    {
      "cell_type": "markdown",
      "metadata": {
        "id": "VO2aXk7r-Hsk"
      },
      "source": [
        "### Introducción\n",
        "[al indice](#Contenidos)  \n",
        "\n",
        "Otra colección *bulit-in* de Python, compuesta por un conjunto de *valores*. Muy parecidos a las listas. Tienen las siguientes características:\n",
        "* **Mutables**: podemos modificarlos una vez se hayan creado\n",
        "* **No ordenado**\n",
        "* **Elementos unicos**: se compone de un conjunto de valores únicas\n",
        "\n",
        "**¿Cuándo usar sets?** Cuando estemos buscando unicidad en nuestros datos y no nos importe el orden.\n",
        "\n",
        "Te dejo por aquí [la documentación](https://docs.python.org/2/library/sets.html) para realizar consultas sobre los sets\n",
        "\n",
        "Si sintaxis es:\n",
        ">```Python\n",
        "> mi_set = {elemento1, elemento2, elemento3}\n",
        ">```\n",
        "\n",
        "Tiene una sintaxis muy parecida a la de las listas, pero en este caso no se utilizan los `{}`."
      ]
    },
    {
      "cell_type": "code",
      "execution_count": 4,
      "metadata": {
        "id": "oav92KtC-Hsl"
      },
      "outputs": [
        {
          "name": "stdout",
          "output_type": "stream",
          "text": [
            "4\n",
            "{'naranja', 'verde', 'azul', 'rojo'}\n",
            "<class 'set'>\n"
          ]
        }
      ],
      "source": [
        "colores = {\"azul\", \"rojo\", \"verde\", \"naranja\", \"azul\", \"verde\"}\n",
        "print(len(colores))\n",
        "print(colores)\n",
        "print(type(colores))"
      ]
    },
    {
      "cell_type": "markdown",
      "metadata": {
        "id": "CzO88lzO-Hsl"
      },
      "source": [
        "Los elementos del set son unicos, por lo que si en la declaración, o posteriormente añadiendo elementos hubiese algún duplicado, el set lo ignoraría. Es más, cuando aplicas el `len`, muestra la cantidad de valores únicos que tiene."
      ]
    },
    {
      "cell_type": "code",
      "execution_count": 8,
      "metadata": {
        "id": "X2UPWup1-Hsm"
      },
      "outputs": [
        {
          "name": "stdout",
          "output_type": "stream",
          "text": [
            "{'magenta', 'burdeos', 'azul', 'verde', 'celeste', 'rojo'}\n",
            "{'magenta', 'burdeos', 'azul', 'naranja', 'verde', 'celeste', 'rojo'}\n",
            "{'magenta', 'burdeos', 'azul', 'verde', 'celeste', 'rojo'}\n",
            "magenta\n",
            "burdeos\n",
            "azul\n",
            "verde\n",
            "celeste\n",
            "rojo\n"
          ]
        }
      ],
      "source": [
        "# añadir valores\n",
        "colores.add(\"magenta\")\n",
        "print(colores)\n",
        "\n",
        "colores.update([\"celeste\", \"burdeos\", \"naranja\"])\n",
        "print(colores)\n",
        "\n",
        "# quitar valores\n",
        "colores.remove(\"naranja\")\n",
        "print(colores)\n",
        "\n",
        "# iteracion\n",
        "for color in colores:\n",
        "    print(color)\n"
      ]
    },
    {
      "cell_type": "markdown",
      "metadata": {
        "id": "SjlsETDB-Hsm"
      },
      "source": [
        "Para comprobar si dos sets tienen los mismos elementos"
      ]
    },
    {
      "cell_type": "code",
      "execution_count": 10,
      "metadata": {
        "id": "iqDfuuHX-Hsm"
      },
      "outputs": [
        {
          "data": {
            "text/plain": [
              "True"
            ]
          },
          "execution_count": 10,
          "metadata": {},
          "output_type": "execute_result"
        }
      ],
      "source": [
        "set1 = {1,2,4,1,2,4,2}\n",
        "set2 = {2,1,4}\n",
        "\n",
        "set1 == set2"
      ]
    },
    {
      "cell_type": "code",
      "execution_count": 12,
      "metadata": {},
      "outputs": [
        {
          "name": "stdout",
          "output_type": "stream",
          "text": [
            "[10, 100, 34, 23]\n"
          ]
        }
      ],
      "source": [
        "lista_con = {10, 100, 34, 23, 23, 100, 23}\n",
        "# print(set(lista_con))\n",
        "# print(list(set(lista_con)))\n",
        "lista_con = list(set(lista_con))\n",
        "print(lista_con)"
      ]
    }
  ],
  "metadata": {
    "colab": {
      "provenance": []
    },
    "kernelspec": {
      "display_name": "Python 3",
      "language": "python",
      "name": "python3"
    },
    "language_info": {
      "codemirror_mode": {
        "name": "ipython",
        "version": 3
      },
      "file_extension": ".py",
      "mimetype": "text/x-python",
      "name": "python",
      "nbconvert_exporter": "python",
      "pygments_lexer": "ipython3",
      "version": "3.13.0"
    }
  },
  "nbformat": 4,
  "nbformat_minor": 0
}
