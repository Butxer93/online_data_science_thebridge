{
  "cells": [
    {
      "cell_type": "markdown",
      "metadata": {
        "id": "S-E-1i3S9_I1"
      },
      "source": [
        "![TheBridge_logo.png](../img/TheBridge_logo.png)"
      ]
    },
    {
      "cell_type": "markdown",
      "metadata": {
        "id": "Zq4ZE-OC9_I2"
      },
      "source": [
        "![imagen](../img/ejercicios.png)"
      ]
    },
    {
      "cell_type": "markdown",
      "metadata": {
        "id": "Ddr5FKU89_I3"
      },
      "source": [
        "## EJERCICIOS PYTHON BASICO 3:\n",
        "## Operaciones matemáticas, comparación y booleanas"
      ]
    },
    {
      "cell_type": "markdown",
      "metadata": {
        "id": "B8X-lj7s9_I3"
      },
      "source": [
        "Completa los siguiente ejercicios, la solución completa a los mismos se publicarán en el repo del curso a lo largo del sprint. En algunos ejercicios se muestra la solución final, para que puedas comprobar que lo has hecho bien, pero lo importante es el código que generes. ¡Vaaamos, a ello...!"
      ]
    },
    {
      "cell_type": "markdown",
      "metadata": {
        "id": "cmFk3h_I9_I3"
      },
      "source": [
        "![ejercicio.png](../img/ejercicio.png)\n",
        "\n",
        "\n",
        "## Ejercicio 1\n",
        "Tenemos las siguientes variables:\n",
        "\n",
        "```Python\n",
        "A = 4\n",
        "B = \"Text\"\n",
        "C = 4.1\n",
        "```\n",
        "\n",
        "Comprueba:\n",
        "1. Si A y B son equivalentes\n",
        "2. Si A y C NO son equivalentes\n",
        "3. Si A es mayor que C\n",
        "4. Si C es menor o igual que A\n",
        "5. Si B NO es equivalente a C"
      ]
    },
    {
      "cell_type": "code",
      "execution_count": 1,
      "metadata": {
        "id": "RR4dUjvn9_I3",
        "outputId": "658d6b6d-d0a1-43af-b93a-86ead4e381a5"
      },
      "outputs": [
        {
          "name": "stdout",
          "output_type": "stream",
          "text": [
            "False\n",
            "True\n",
            "False\n",
            "False\n",
            "True\n"
          ]
        }
      ],
      "source": [
        "A = 4\n",
        "B = \"Text\"\n",
        "C = 4.1\n",
        "\n",
        "print(A == B)\n",
        "print(A != C)\n",
        "print(A > C)\n",
        "print( C <= A)\n",
        "print( C != B)"
      ]
    },
    {
      "cell_type": "markdown",
      "metadata": {
        "id": "uLC66mWB9_I4"
      },
      "source": [
        "![ejercicio.png](../img/ejercicio.png)\n",
        "\n",
        "## Ejercicio 2\n",
        "Crea un programa donde se recojan dos inputs del usuario, y el output del programa sea si esos inputs son iguales o no"
      ]
    },
    {
      "cell_type": "code",
      "execution_count": 9,
      "metadata": {
        "id": "LnkBU_ab9_I4"
      },
      "outputs": [
        {
          "name": "stdout",
          "output_type": "stream",
          "text": [
            "Escribiste distintos mensajes!\n",
            "Primero \"ola\", después \"hola\"\n"
          ]
        }
      ],
      "source": [
        "input1 = input(\"Escriba algo:\")\n",
        "input2 = input(\"Escriba algo más:\")\n",
        "\n",
        "if input1 == input2:\n",
        "    print(f\"Escribiste lo mismo!\\nPrimero \\\"{input1}\\\", después \\\"{input2}\\\"\")\n",
        "else:\n",
        "    print(f\"Escribiste distintos mensajes!\\nPrimero \\\"{input1}\\\", después \\\"{input2}\\\"\")"
      ]
    },
    {
      "cell_type": "markdown",
      "metadata": {
        "id": "RtfCXBP19_I4"
      },
      "source": [
        "![ejercicio.png](../img/ejercicio.png)\n",
        "\n",
        "## Ejercicio 3\n",
        "Mismo programa que en 2, pero en esta ocasión tienen que ser tres inputs y dos salidas. Una de las salidas que nos indique si todos son iguales, y la otra si al menos dos inputs sí que lo son"
      ]
    },
    {
      "cell_type": "code",
      "execution_count": 14,
      "metadata": {
        "id": "-WFKkpw69_I4",
        "outputId": "8f7efe1b-65af-420b-b7e3-3ba505f249c4"
      },
      "outputs": [
        {
          "name": "stdout",
          "output_type": "stream",
          "text": [
            "Escribiste dos mensajes iguales!\n",
            "Primero \"hola\", después \"ola\", y \"hola\" para terminar\n"
          ]
        }
      ],
      "source": [
        "input1 = input(\"Escriba algo:\")\n",
        "input2 = input(\"Escriba algo más:\")\n",
        "input3 = input(\"Un último texto por favor:\")\n",
        "\n",
        "if input1 == input2 and input2 == input3:\n",
        "    print(f\"Escribiste lo mismo!\\nPrimero \\\"{input1}\\\", después \\\"{input2}\\\", y \\\"{input3}\\\" para terminar\")\n",
        "elif input1 == input2 or input2 == input3 or input1 == input3:\n",
        "    print(f\"Escribiste dos mensajes iguales!\\nPrimero \\\"{input1}\\\", después \\\"{input2}\\\", y \\\"{input3}\\\" para terminar\")\n",
        "else:\n",
        "    print(f\"Escribiste tres distintos mensajes!\\nPrimero \\\"{input1}\\\", después \\\"{input2}\\\", y \\\"{input3}\\\" para terminar\")"
      ]
    },
    {
      "cell_type": "markdown",
      "metadata": {
        "id": "9HZ5uG2S9_I5"
      },
      "source": [
        "![ejercicio.png](../img/ejercicio.png)\n",
        "\n",
        "## Ejercicio 4\n",
        "Razona sin ejecutar código el output que obtendremos de las siguientes sentencias\n",
        "1. True and True and False\n",
        "2. not ((True or False) and (True or False))\n",
        "3. (False or False or False or True) and False\n",
        "4. not False and True and not True"
      ]
    },
    {
      "cell_type": "markdown",
      "metadata": {
        "id": "n5c7HYhl9_I5"
      },
      "source": [
        "1. FALSE: True y True = True... True y False = False\n",
        "2. FALSE: True o False = True... True y True = True... not True = False\n",
        "3. FALSE: False o False = False... False o True = True... True y False = False\n",
        "4. FALSE: not False y True = True... True y not True = False"
      ]
    }
  ],
  "metadata": {
    "colab": {
      "provenance": []
    },
    "kernelspec": {
      "display_name": "Python 3",
      "language": "python",
      "name": "python3"
    },
    "language_info": {
      "codemirror_mode": {
        "name": "ipython",
        "version": 3
      },
      "file_extension": ".py",
      "mimetype": "text/x-python",
      "name": "python",
      "nbconvert_exporter": "python",
      "pygments_lexer": "ipython3",
      "version": "3.13.0"
    },
    "orig_nbformat": 4
  },
  "nbformat": 4,
  "nbformat_minor": 0
}
