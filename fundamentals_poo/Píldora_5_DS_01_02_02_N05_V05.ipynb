{
  "cells": [
    {
      "cell_type": "markdown",
      "metadata": {
        "id": "6Oj_OmATCFJQ"
      },
      "source": [
        "<img src = \"../img/TheBridge_logo.png\" width = 500>\n",
        "<img src = \"../img/python.jpg\" width = 500>"
      ]
    },
    {
      "cell_type": "markdown",
      "metadata": {
        "id": "AUk_h9_hCFJS"
      },
      "source": [
        "##  Métodos\n"
      ]
    },
    {
      "cell_type": "markdown",
      "metadata": {
        "id": "FDlj7uMeCFJS"
      },
      "source": [
        "### Contenidos\n"
      ]
    },
    {
      "cell_type": "markdown",
      "metadata": {
        "id": "EhVUN4LkCFJT"
      },
      "source": [
        "* [Introducción  ](#Introducción--)\n",
        "\n"
      ]
    },
    {
      "cell_type": "markdown",
      "metadata": {
        "id": "fb0ub0x3CFJT"
      },
      "source": [
        "### Introducción  \n",
        "[al indice](#Contenidos)  \n",
        "\n",
        "Son funciones que podemos definir dentro de las clases. Estas funciones cambiarán el estado de algún atributo o realizarán cálculos que nos sirvan de output. Un ejemplo sencillo puede ser, un método de la clase coche que saque la potencia en kilovatios, en vez de en caballos. O si tiene un estado de mantenimiento (ITV pasada o no), que modifique ese estado.\n",
        "\n",
        "El constructor es un tipo de método. La diferencia con el resto de métodos radica en su nombre, `__init__`. La sintaxis para definir los métodos es como si fuese una función. Y luego para llamar al método se utiliza `objeto.metodo(argumentos_metodo)`. Esto ya lo hemos usado anteriormente, cuando haciamos un `string.lower()`, simplemente llamábamos al método `lower()`, que no requería de argumentos, de la clase *string*."
      ]
    },
    {
      "cell_type": "code",
      "execution_count": 4,
      "metadata": {
        "id": "ePbMjBDMCFJT"
      },
      "outputs": [],
      "source": [
        "class Coche:\n",
        "    ruedas = 4\n",
        "\n",
        "    def __init__(self, marca_coche, num_puertas = 4):\n",
        "        self.marca = marca_coche\n",
        "        self.puertas = num_puertas\n",
        "\n",
        "    def caracteristicas(self):\n",
        "        return \"Marca: \" + self.marca + \", puertas: \" + str(self.puertas)"
      ]
    },
    {
      "cell_type": "code",
      "execution_count": 5,
      "metadata": {
        "id": "nuJFpS4LCFJU"
      },
      "outputs": [
        {
          "data": {
            "text/plain": [
              "'Marca: Ford, puertas: 4'"
            ]
          },
          "execution_count": 5,
          "metadata": {},
          "output_type": "execute_result"
        }
      ],
      "source": [
        "ford_ka = Coche(\"Ford\")\n",
        "ford_ka.caracteristicas()"
      ]
    },
    {
      "cell_type": "markdown",
      "metadata": {
        "id": "vDAYUCBZCFJU"
      },
      "source": [
        "Fíjate que para llamar a las ruedas se usa `self`, a pesar de que no lo habíamos metido en el constructor. Así evitamos llamar a otra variable del programa que se llame *ruedas*. Nos aseguramos que son las ruedas de ese coche con el `self`."
      ]
    },
    {
      "cell_type": "code",
      "execution_count": 6,
      "metadata": {
        "id": "axuUXKyyCFJV"
      },
      "outputs": [],
      "source": [
        "class Coche:\n",
        "    ruedas = 4\n",
        "\n",
        "    def __init__(self, marca_coche, precio_coche, num_puertas = 4):\n",
        "        self.marca = marca_coche\n",
        "        self.puertas = num_puertas\n",
        "        self.precio = precio_coche\n",
        "\n",
        "    def caracteristicas(self):\n",
        "        return \"Marca: \" + self.marca + \", puertas: \" + str(self.puertas)\n",
        "    \n",
        "    def precio_actual(self, anyos):\n",
        "        if anyos <= 5:\n",
        "            return self.precio * 0.7\n",
        "        elif anyos > 5 and anyos < 10:\n",
        "            return self.precio * 0.5\n",
        "        else:\n",
        "            return self.precio * 0.3"
      ]
    },
    {
      "cell_type": "code",
      "execution_count": 9,
      "metadata": {
        "id": "Pd_hKV4MCFJV"
      },
      "outputs": [
        {
          "ename": "TypeError",
          "evalue": "Coche.precio_actual() missing 1 required positional argument: 'anyos'",
          "output_type": "error",
          "traceback": [
            "\u001b[31m---------------------------------------------------------------------------\u001b[39m",
            "\u001b[31mTypeError\u001b[39m                                 Traceback (most recent call last)",
            "\u001b[36mCell\u001b[39m\u001b[36m \u001b[39m\u001b[32mIn[9]\u001b[39m\u001b[32m, line 2\u001b[39m\n\u001b[32m      1\u001b[39m jeep_cherokee = Coche(\u001b[33m\"\u001b[39m\u001b[33mJeep\u001b[39m\u001b[33m\"\u001b[39m, \u001b[32m35000\u001b[39m)\n\u001b[32m----> \u001b[39m\u001b[32m2\u001b[39m \u001b[43mjeep_cherokee\u001b[49m\u001b[43m.\u001b[49m\u001b[43mprecio_actual\u001b[49m\u001b[43m(\u001b[49m\u001b[43m)\u001b[49m\n",
            "\u001b[31mTypeError\u001b[39m: Coche.precio_actual() missing 1 required positional argument: 'anyos'"
          ]
        }
      ],
      "source": [
        "jeep_cherokee = Coche(\"Jeep\", 35000)\n",
        "jeep_cherokee.precio_actual()"
      ]
    },
    {
      "cell_type": "code",
      "execution_count": 11,
      "metadata": {},
      "outputs": [
        {
          "data": {
            "text/plain": [
              "17500.0"
            ]
          },
          "execution_count": 11,
          "metadata": {},
          "output_type": "execute_result"
        }
      ],
      "source": [
        "jeep_cherokee.precio_actual(8)"
      ]
    },
    {
      "cell_type": "code",
      "execution_count": null,
      "metadata": {},
      "outputs": [],
      "source": []
    }
  ],
  "metadata": {
    "colab": {
      "provenance": []
    },
    "kernelspec": {
      "display_name": "Python 3",
      "language": "python",
      "name": "python3"
    },
    "language_info": {
      "codemirror_mode": {
        "name": "ipython",
        "version": 3
      },
      "file_extension": ".py",
      "mimetype": "text/x-python",
      "name": "python",
      "nbconvert_exporter": "python",
      "pygments_lexer": "ipython3",
      "version": "3.13.0"
    }
  },
  "nbformat": 4,
  "nbformat_minor": 0
}
